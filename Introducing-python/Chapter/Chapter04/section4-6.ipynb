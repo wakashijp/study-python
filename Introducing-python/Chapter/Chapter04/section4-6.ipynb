{
 "cells": [
  {
   "cell_type": "markdown",
   "metadata": {},
   "source": [
    "# 4章 Pyの皮：コード構造\n",
    "---\n",
    "1章から3章までではさまざまなデータの例を見てきたが、データを使って大したことはまだ何もしていない。ほとんどのコード例は、対話型インタプリタを使っており、短かった。しかし、ここからはただのデータを見ているだけではなく、データを処理するPythonコードを実装していく。\n",
    "\n",
    "Pythonは**空白**を使ってプログラムの構造を定義するという点で普通の言語とは大きく異なる。これは、新人が最初に気づくことのひとつで、ほかの言語の経験がある人にとっては奇妙に感じられるようだ。しかし、しばらくPythonを書いていると、このやり方が自然に感じられるようになり、いちいち意識しなくなる。タイピングが減った分、多くの仕事をするようにさえなってしまう。"
   ]
  },
  {
   "cell_type": "markdown",
   "metadata": {},
   "source": [
    "## 4.6 内包表記\n",
    "---\n",
    "**内包表記**は、ひとつ以上のイテレータからPythonデータ構造をコンパクトに作れる形式だ。内包表記を使えば、ループや条件テストを寡黙な構文で結合できる。内包表記が使えているかどうかは、Python初心者レベルを卒業できているかどうかの目印になる。"
   ]
  },
  {
   "cell_type": "markdown",
   "metadata": {},
   "source": [
    "### 4.6.1 リスト内包表記\n",
    "---\n",
    "1から5までの整数のリストは、次のように一度にひとつずつ要素を追加しても作れる。\n",
    "\n",
    "例：\n",
    "**1から5までの整数のリストを作る**"
   ]
  },
  {
   "cell_type": "code",
   "execution_count": 2,
   "metadata": {},
   "outputs": [
    {
     "data": {
      "text/plain": [
       "[1, 2, 3, 4, 5]"
      ]
     },
     "execution_count": 2,
     "metadata": {},
     "output_type": "execute_result"
    }
   ],
   "source": [
    "number_list = []\n",
    "number_list.append(1)\n",
    "number_list.append(2)\n",
    "number_list.append(3)\n",
    "number_list.append(4)\n",
    "number_list.append(5)\n",
    "number_list"
   ]
  },
  {
   "cell_type": "markdown",
   "metadata": {},
   "source": [
    "forループとrange()関数でも作れる。\n",
    "\n",
    "例：\n",
    "**1から5までの整数のリストを作る**"
   ]
  },
  {
   "cell_type": "code",
   "execution_count": 3,
   "metadata": {},
   "outputs": [
    {
     "data": {
      "text/plain": [
       "[1, 2, 3, 4, 5]"
      ]
     },
     "execution_count": 3,
     "metadata": {},
     "output_type": "execute_result"
    }
   ],
   "source": [
    "number_list = []\n",
    "for number in range(1, 6):\n",
    "    number_list.append(number)\n",
    "number_list"
   ]
  },
  {
   "cell_type": "markdown",
   "metadata": {},
   "source": [
    "さらには、range()の出力を直接リストに変換しても作れる。\n",
    "\n",
    "例：\n",
    "**1から5までの整数のリストを作る**"
   ]
  },
  {
   "cell_type": "code",
   "execution_count": 4,
   "metadata": {},
   "outputs": [
    {
     "data": {
      "text/plain": [
       "[1, 2, 3, 4, 5]"
      ]
     },
     "execution_count": 4,
     "metadata": {},
     "output_type": "execute_result"
    }
   ],
   "source": [
    "number_list = list(range(1, 6))\n",
    "number_list"
   ]
  },
  {
   "cell_type": "markdown",
   "metadata": {},
   "source": [
    "これらはどれも有効なPythonコードであり、同じ結果を生み出すが、**リスト内包表記**を使った方がPythonらしいコードになる。リスト内包表記のもっとも単純な形式は、次の通りだ。\n",
    "\n",
    "[ expression for item in iterable ]\n",
    "\n",
    "リスト内包表記を使って先程の整数リストを作るには、次のようにする。\n",
    "\n",
    "例：\n",
    "**1から5までの整数のリストを作る（リスト内包表記）**"
   ]
  },
  {
   "cell_type": "code",
   "execution_count": 8,
   "metadata": {},
   "outputs": [
    {
     "data": {
      "text/plain": [
       "[1, 2, 3, 4, 5]"
      ]
     },
     "execution_count": 8,
     "metadata": {},
     "output_type": "execute_result"
    }
   ],
   "source": [
    "number_list = [number for number in range(1, 6)]\n",
    "number_list"
   ]
  },
  {
   "cell_type": "markdown",
   "metadata": {},
   "source": [
    "第1行の最初のnumber変数は、リストに入れる値を作るために必要だ。つまり、ループの実行結果をnumber_listに格納するのである。第2のnumberは、forループの一部だ。最初のnumberが式だということを示すために、少し書き換えた次のコードを試してみる。\n",
    "\n",
    "例：\n",
    "**0から4までの整数のリストを作る（リスト内包表記）**"
   ]
  },
  {
   "cell_type": "code",
   "execution_count": 9,
   "metadata": {},
   "outputs": [
    {
     "data": {
      "text/plain": [
       "[0, 1, 2, 3, 4]"
      ]
     },
     "execution_count": 9,
     "metadata": {},
     "output_type": "execute_result"
    }
   ],
   "source": [
    "number_list = [number - 1 for number in range(1, 6)]\n",
    "number_list"
   ]
  },
  {
   "cell_type": "markdown",
   "metadata": {},
   "source": [
    "リスト内包表記では、角かっこのなかにループが記述される。この内包表記のサンプルは最初のものよりも複雑だったが、もっと複雑なものがある。次に示すように、リスト内包表記には条件式も追加できる。\n",
    "\n",
    "[ expression for item in iterable if condition ]\n",
    "\n",
    "では、1から5までの奇数だけのリストを作る新しい内包表記を作ってみよう（number % 2は、奇数ではTrue、偶数ではFalseになることを覚えておこう）。\n",
    "\n",
    "例：\n",
    "**1から5までの奇数だけのリストを作る（リスト内包表記）**"
   ]
  },
  {
   "cell_type": "code",
   "execution_count": 12,
   "metadata": {},
   "outputs": [
    {
     "data": {
      "text/plain": [
       "[1, 3, 5]"
      ]
     },
     "execution_count": 12,
     "metadata": {},
     "output_type": "execute_result"
    }
   ],
   "source": [
    "a_list = [number for number in range(1, 6) if number % 2 == 1]\n",
    "a_list"
   ]
  },
  {
   "cell_type": "markdown",
   "metadata": {},
   "source": [
    "この内包表記は、次のような古くからの書き方と比べて少しコンパクトになっている。\n",
    "\n",
    "例：\n",
    "**1から5までの奇数だけのリストを作る（古くからの書き方）**"
   ]
  },
  {
   "cell_type": "code",
   "execution_count": 13,
   "metadata": {},
   "outputs": [
    {
     "data": {
      "text/plain": [
       "[1, 3, 5]"
      ]
     },
     "execution_count": 13,
     "metadata": {},
     "output_type": "execute_result"
    }
   ],
   "source": [
    "a_list = []\n",
    "for number in range(1, 6):\n",
    "    if number % 2 == 1:\n",
    "        a_list.append(number)\n",
    "a_list"
   ]
  },
  {
   "cell_type": "markdown",
   "metadata": {},
   "source": [
    "最後に、ループをネストできるのと同じように、内包表記でもfor ...節を複数使うことができる。まず、古くからのネストされたループを買い手結果を表示してみる。\n",
    "\n",
    "例：\n",
    "**ネストされたループ（古くからの書き方）**"
   ]
  },
  {
   "cell_type": "code",
   "execution_count": 17,
   "metadata": {},
   "outputs": [
    {
     "name": "stdout",
     "output_type": "stream",
     "text": [
      "1 1\n",
      "1 2\n",
      "2 1\n",
      "2 2\n",
      "3 1\n",
      "3 2\n"
     ]
    }
   ],
   "source": [
    "rows = range(1, 4)\n",
    "cols = range(1, 3)\n",
    "for row in rows:\n",
    "    for col in cols:\n",
    "        print(row, col)"
   ]
  },
  {
   "cell_type": "markdown",
   "metadata": {},
   "source": [
    "次に、包括表記を使って結果を(raw, col)形式のタプルにして、cells変数に代入する。\n",
    "\n",
    "例：\n",
    "**ネストされたループ（リスト内包表記）**"
   ]
  },
  {
   "cell_type": "code",
   "execution_count": 18,
   "metadata": {},
   "outputs": [
    {
     "name": "stdout",
     "output_type": "stream",
     "text": [
      "(1, 1)\n",
      "(1, 2)\n",
      "(2, 1)\n",
      "(2, 2)\n",
      "(3, 1)\n",
      "(3, 2)\n"
     ]
    }
   ],
   "source": [
    "rows = range(1, 4)\n",
    "cols = range(1, 3)\n",
    "cells = [(row, col) for row in rows for col in cols]\n",
    "for cell in cells:\n",
    "    print(cell)"
   ]
  },
  {
   "cell_type": "markdown",
   "metadata": {},
   "source": [
    "なお、**タプルのアンパック**を使って、cellsリストを反復処理しながらタプルからrow、colの値を引き抜くこともできる。\n",
    "\n",
    "例：\n",
    "**ネストされたループ（リスト内包表記）**"
   ]
  },
  {
   "cell_type": "code",
   "execution_count": 19,
   "metadata": {},
   "outputs": [
    {
     "name": "stdout",
     "output_type": "stream",
     "text": [
      "1 1\n",
      "1 2\n",
      "2 1\n",
      "2 2\n",
      "3 1\n",
      "3 2\n"
     ]
    }
   ],
   "source": [
    "rows = range(1, 4)\n",
    "cols = range(1, 3)\n",
    "cells = [(row, col) for row in rows for col in cols]\n",
    "for row, col in cells:\n",
    "    print(row, col)"
   ]
  },
  {
   "cell_type": "markdown",
   "metadata": {},
   "source": [
    "リスト内包表記内のfor row ... for col ... には、それぞれ専用のifテストも付けられる。"
   ]
  },
  {
   "cell_type": "markdown",
   "metadata": {},
   "source": [
    "### 4.6.2 辞書内包表記\n",
    "---\n",
    "ただのリストだけではない。辞書にも内包表記がある。もっとも単純な形式は、次である。\n",
    "\n",
    "{ key_item : value_item for item in iterable }\n",
    "\n",
    "リスト内包表記と同様に、辞書内包表記もifテストと複数のfor節を持てるようになっている。\n",
    "\n",
    "例：\n",
    "**辞書内包表記**"
   ]
  },
  {
   "cell_type": "code",
   "execution_count": 20,
   "metadata": {},
   "outputs": [
    {
     "data": {
      "text/plain": [
       "{'e': 2, 'l': 1, 'r': 1, 's': 1, 't': 2}"
      ]
     },
     "execution_count": 20,
     "metadata": {},
     "output_type": "execute_result"
    }
   ],
   "source": [
    "word = 'letters'\n",
    "letter_counts = {letter: word.count(letter) for letter in word}\n",
    "letter_counts"
   ]
  },
  {
   "cell_type": "markdown",
   "metadata": {},
   "source": [
    "'letters'という文字列に含まれる7個の文字を反復処理し、その文字が何回現れたかを数える。しかし、すべてのeを2回、すべてのtを2回数えなければならないので、2回分のword.count(letters)の実行時間が無駄になる。しかし、2回目にeを数えたとき、すでにある辞書エントリを置き換えるだけなので、実害はない。同じことがtの計算にも言える。そこで、次のようにすれば、ほんの少しだけPythonらしさが増す。\n",
    "\n",
    "例：\n",
    "**辞書内包表記（set()を使う）**"
   ]
  },
  {
   "cell_type": "code",
   "execution_count": 21,
   "metadata": {},
   "outputs": [
    {
     "data": {
      "text/plain": [
       "{'e': 2, 'l': 1, 'r': 1, 's': 1, 't': 2}"
      ]
     },
     "execution_count": 21,
     "metadata": {},
     "output_type": "execute_result"
    }
   ],
   "source": [
    "word = 'letters'\n",
    "letter_counts = {letter: word.count(letter) for letter in set(word)}\n",
    "letter_counts"
   ]
  },
  {
   "cell_type": "markdown",
   "metadata": {},
   "source": [
    "### 4.6.3 集合内包表記\n",
    "---\n",
    "誰だって仲間はずれにされるのはいやなので、集合でさえ内包表記を持っている。もっとも単純なバージョンは、今見たばかりに辞書内包表記とよく似ている。\n",
    "\n",
    "{ item for item in iterable }\n",
    "\n",
    "集合でも、長いバージョン（ifテスト、複数のfor節）が使える。\n",
    "\n",
    "例：\n",
    "**集合内包表記**"
   ]
  },
  {
   "cell_type": "code",
   "execution_count": 23,
   "metadata": {},
   "outputs": [
    {
     "data": {
      "text/plain": [
       "{1, 4}"
      ]
     },
     "execution_count": 23,
     "metadata": {},
     "output_type": "execute_result"
    }
   ],
   "source": [
    "a_set = {number for number in range(1, 6) if number % 3 == 1}\n",
    "a_set"
   ]
  },
  {
   "cell_type": "markdown",
   "metadata": {},
   "source": [
    "### 4.6.4 ジェネレータ内包表記\n",
    "---\n",
    "実は、タプルには内包表記がない。リスト内包表記の角かっこを普通のかっこに変えれば、タプル内包表記ができると思われたかもしれない。実際、次のように入力しても例外は起きないので、それで動作するように見える。\n",
    "\n",
    "例：\n",
    "**ジェネレータ内包表記**"
   ]
  },
  {
   "cell_type": "code",
   "execution_count": 25,
   "metadata": {},
   "outputs": [],
   "source": [
    "number_thing = (number for number in range(1, 6))\n"
   ]
  },
  {
   "cell_type": "markdown",
   "metadata": {},
   "source": [
    "かっこの間のものは、**ジェネレータ内包表記**であり、このコードは**ジェネレータオブジェクト**を返す。\n",
    "\n",
    "例：\n",
    "**ジェネレータ内包表記**"
   ]
  },
  {
   "cell_type": "code",
   "execution_count": 26,
   "metadata": {},
   "outputs": [
    {
     "data": {
      "text/plain": [
       "generator"
      ]
     },
     "execution_count": 26,
     "metadata": {},
     "output_type": "execute_result"
    }
   ],
   "source": [
    "type(number_thing)"
   ]
  },
  {
   "cell_type": "markdown",
   "metadata": {},
   "source": [
    "ジェネレータについては、「4.8 ジェネレータ」で詳しく説明するが、イテレータにデータを供給する方法のひとつである。\n",
    "\n",
    "次に示すように、このジェネレータオブジェクトは直接forループで処理出来る。\n",
    "\n",
    "例：\n",
    "**ジェネレータオブジェクトからforループを使い値を取り出す**"
   ]
  },
  {
   "cell_type": "code",
   "execution_count": 31,
   "metadata": {},
   "outputs": [
    {
     "name": "stdout",
     "output_type": "stream",
     "text": [
      "1\n",
      "2\n",
      "3\n",
      "4\n",
      "5\n"
     ]
    }
   ],
   "source": [
    "number_thing = (number for number in range(1, 6))\n",
    "for number in number_thing:\n",
    "    print(number)"
   ]
  },
  {
   "cell_type": "markdown",
   "metadata": {},
   "source": [
    "ジェネレータ内包表記をlist()呼び出しでラップすれば、リスト内包表記のように動作させることができる。\n",
    "\n",
    "例：\n",
    "**ジェネレータオブジェクトをlist()でラップする**"
   ]
  },
  {
   "cell_type": "code",
   "execution_count": 29,
   "metadata": {},
   "outputs": [
    {
     "data": {
      "text/plain": [
       "[1, 2, 3, 4, 5]"
      ]
     },
     "execution_count": 29,
     "metadata": {},
     "output_type": "execute_result"
    }
   ],
   "source": [
    "number_thing = (number for number in range(1, 6))\n",
    "number_list = list(number_thing)\n",
    "number_list"
   ]
  },
  {
   "cell_type": "markdown",
   "metadata": {},
   "source": [
    "ジェネレータは一度だけしか実行出来ない。リスト、集合、文字列、辞書はメモリ内にあるが、ジェネレータは一度にひとつずつその場で値を作り、イテレータに渡していってしまうので、作った値を覚えていない。そのため、ジェネレータをもう一度使ったり、バックアップしたりすることはできない。\n",
    "\n",
    "例："
   ]
  },
  {
   "cell_type": "code",
   "execution_count": 32,
   "metadata": {},
   "outputs": [
    {
     "data": {
      "text/plain": [
       "[]"
      ]
     },
     "execution_count": 32,
     "metadata": {},
     "output_type": "execute_result"
    }
   ],
   "source": [
    "try_again = list(number_thing)\n",
    "try_again"
   ]
  },
  {
   "cell_type": "markdown",
   "metadata": {},
   "source": [
    "ジェネレータは、ここで行ったようにジェネレータ内包表記から作ることができるほか、**ジェネレータ関数**からも作れる。まず、一般的な関数について話してから、ジェネレータ関数という特殊条件を取り上げる。"
   ]
  }
 ],
 "metadata": {
  "kernelspec": {
   "display_name": "Python 3",
   "language": "python",
   "name": "python3"
  },
  "language_info": {
   "codemirror_mode": {
    "name": "ipython",
    "version": 3
   },
   "file_extension": ".py",
   "mimetype": "text/x-python",
   "name": "python",
   "nbconvert_exporter": "python",
   "pygments_lexer": "ipython3",
   "version": "3.6.4"
  }
 },
 "nbformat": 4,
 "nbformat_minor": 2
}
