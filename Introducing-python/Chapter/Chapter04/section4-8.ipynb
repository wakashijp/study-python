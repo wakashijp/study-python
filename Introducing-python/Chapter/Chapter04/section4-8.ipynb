{
 "cells": [
  {
   "cell_type": "markdown",
   "metadata": {},
   "source": [
    "# 4章 Pyの皮：コード構造\n",
    "---\n",
    "1章から3章までではさまざまなデータの例を見てきたが、データを使って大したことはまだ何もしていない。ほとんどのコード例は、対話型インタプリタを使っており、短かった。しかし、ここからはただのデータを見ているだけではなく、データを処理するPythonコードを実装していく。\n",
    "\n",
    "Pythonは**空白**を使ってプログラムの構造を定義するという点で普通の言語とは大きく異なる。これは、新人が最初に気づくことのひとつで、ほかの言語の経験がある人にとっては奇妙に感じられるようだ。しかし、しばらくPythonを書いていると、このやり方が自然に感じられるようになり、いちいち意識しなくなる。タイピングが減った分、多くの仕事をするようにさえなってしまう。"
   ]
  },
  {
   "cell_type": "markdown",
   "metadata": {},
   "source": [
    "## 4.8 ジェネレータ\n",
    "---\n",
    "**ジェネレータ**は、Pythonのシーケンスを作成するオブジェクトである。ジェネレータがあれば、シーケンス全体を作ってメモリに格納しなくても（巨大になることがある）シーケンスを反復処理できる。ジェネレータは、イテレータのデータソースになることが多い。今までのサンプルコードでも、すでにジェネレータのひとつであるrange()を使って一連の整数を生成している。\n",
    "\n",
    "Python2では、range()はリストを返すが、それでは収まる以上の整数を生成できない。Python2には、ジェネレータになっているxrange()があるが、Python3では、それが普通のrange()になった。\n",
    "\n",
    "次の例は、1から100までのすべての整数の合計を計算している。\n",
    "\n",
    "例：\n",
    "**1から100までのすべての整数の合計を計算する**"
   ]
  },
  {
   "cell_type": "code",
   "execution_count": 19,
   "metadata": {},
   "outputs": [
    {
     "data": {
      "text/plain": [
       "5050"
      ]
     },
     "execution_count": 19,
     "metadata": {},
     "output_type": "execute_result"
    }
   ],
   "source": [
    "sum(range(1, 101))"
   ]
  },
  {
   "cell_type": "markdown",
   "metadata": {},
   "source": [
    "ジェネレータは、反復処理の度に、最後に呼び出されたときにどこにいたかを管理し、次の値を返す。これは、以前の呼び出しについて何も覚えておらず、いつも同じ状態で1行目を実行する通常の関数とは異なる。\n",
    "\n",
    "大きくなる可能性があるシーケンスを作りたいが、ジェネレータ内包表記に収めるにはコードが大きすぎるときには、**ジェネレータ関数**を書く。値をreturnで返す代わりにyeild文で返すことを除けば、通常の関数と同じだ。それでは、独自バージョンのrange()を書いてみよう。\n",
    "\n",
    "例："
   ]
  },
  {
   "cell_type": "code",
   "execution_count": 20,
   "metadata": {},
   "outputs": [],
   "source": [
    "def my_range(first=0, last=10, step=1):\n",
    "    number = first\n",
    "    while number < last:\n",
    "        yield number\n",
    "        number += step"
   ]
  },
  {
   "cell_type": "markdown",
   "metadata": {},
   "source": [
    "my_rangeは通常の関数である。\n",
    "\n",
    "例："
   ]
  },
  {
   "cell_type": "code",
   "execution_count": 21,
   "metadata": {},
   "outputs": [
    {
     "data": {
      "text/plain": [
       "function"
      ]
     },
     "execution_count": 21,
     "metadata": {},
     "output_type": "execute_result"
    }
   ],
   "source": [
    "type(my_range)"
   ]
  },
  {
   "cell_type": "markdown",
   "metadata": {},
   "source": [
    "そして、**ジェネレータオブジェクト**を返す。\n",
    "\n",
    "例："
   ]
  },
  {
   "cell_type": "code",
   "execution_count": 22,
   "metadata": {},
   "outputs": [],
   "source": [
    "ranger = my_range(1, 5)"
   ]
  },
  {
   "cell_type": "code",
   "execution_count": 23,
   "metadata": {},
   "outputs": [
    {
     "data": {
      "text/plain": [
       "<generator object my_range at 0x111e6d6d0>"
      ]
     },
     "execution_count": 23,
     "metadata": {},
     "output_type": "execute_result"
    }
   ],
   "source": [
    "ranger"
   ]
  },
  {
   "cell_type": "markdown",
   "metadata": {},
   "source": [
    "このジェネレータオブジェクトを対象としてforによる反復処理をすることができる。\n",
    "\n",
    "例："
   ]
  },
  {
   "cell_type": "code",
   "execution_count": 24,
   "metadata": {},
   "outputs": [
    {
     "name": "stdout",
     "output_type": "stream",
     "text": [
      "1\n",
      "2\n",
      "3\n",
      "4\n"
     ]
    }
   ],
   "source": [
    "for x in ranger:\n",
    "    print(x)"
   ]
  }
 ],
 "metadata": {
  "kernelspec": {
   "display_name": "Python 3",
   "language": "python",
   "name": "python3"
  },
  "language_info": {
   "codemirror_mode": {
    "name": "ipython",
    "version": 3
   },
   "file_extension": ".py",
   "mimetype": "text/x-python",
   "name": "python",
   "nbconvert_exporter": "python",
   "pygments_lexer": "ipython3",
   "version": "3.6.4"
  }
 },
 "nbformat": 4,
 "nbformat_minor": 2
}
