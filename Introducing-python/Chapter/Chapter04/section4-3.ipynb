{
 "cells": [
  {
   "cell_type": "markdown",
   "metadata": {},
   "source": [
    "# 4章 Pyの皮：コード構造\n",
    "---\n",
    "1章から3章までではさまざまなデータの例を見てきたが、データを使って大したことはまだ何もしていない。ほとんどのコード例は、対話型インタプリタを使っており、短かった。しかし、ここからはただのデータを見ているだけではなく、データを処理するPythonコードを実装していく。\n",
    "\n",
    "Pythonは**空白**を使ってプログラムの構造を定義するという点で普通の言語とは大きく異なる。これは、新人が最初に気づくことのひとつで、ほかの言語の経験がある人にとっては奇妙に感じられるようだ。しかし、しばらくPythonを書いていると、このやり方が自然に感じられるようになり、いちいち意識しなくなる。タイピングが減った分、多くの仕事をするようにさえなってしまう。"
   ]
  },
  {
   "cell_type": "markdown",
   "metadata": {},
   "source": [
    "## 4.3 if、elif、elseによる比較\n",
    "---\n",
    "今までは、ほとんどデータ構造のことばかり話してきたが、やっとデータをプログラムに織り上げる**コード構造**に一歩足を踏み入れることができる。\n",
    "\n",
    "最初の例は、ブール値のdesasterの内容をチェックして、適切なコメントを表示する簡単なPythonプログラムだ。\n",
    "\n",
    "例：\n",
    "**ブール値をチェックして適切なコメントを表示する**"
   ]
  },
  {
   "cell_type": "code",
   "execution_count": 1,
   "metadata": {},
   "outputs": [
    {
     "name": "stdout",
     "output_type": "stream",
     "text": [
      "Woe!\n"
     ]
    }
   ],
   "source": [
    "disaster = True\n",
    "if disaster:\n",
    "    print(\"Woe!\")\n",
    "else:\n",
    "    print(\"Whee!\")"
   ]
  },
  {
   "cell_type": "markdown",
   "metadata": {},
   "source": [
    "if、else行は、条件（ここではdisasterの値）がTrueかどうかをチェックするPythonの**文**である。尚、print()は、通常の画面にメッセージを表示するPythonの**組み込み関数**だ。"
   ]
  },
  {
   "cell_type": "markdown",
   "metadata": {},
   "source": [
    "他の言語でプログラミングしたことがある人は、ifテストでかっこがいらないことにおやと思われたかもしれない。if (disaster == True)のような書き方をしてはならない。また、末尾の:（コロン）は必要だ。コロンを忘れると、Pythonがエラーメッセージを出してくれる。"
   ]
  },
  {
   "cell_type": "markdown",
   "metadata": {},
   "source": [
    "print()文は、どちらも条件テストの下でインデントされている。ここでは、サブセクションのインデントのために4文字のスペースを使った。インデントのサイズは自由に決めてよいが、Pythonは、セクション内ではコードが首尾一貫だと考えて動く。つまり、インデントは同じ大きさで左端が揃っていなければならない。\n",
    "\n",
    "**PEP8**という推奨スタイルは、4個のスペースを使っている。タブを使ったりタブとスペースを併用したりすると、インデント数が狂うので使わない方がよい。\n",
    "\n",
    "ここではさまざまなことをしている。それらは章が進んだところで詳しく説明していく。\n",
    "\n",
    "- disasterという変数にTrueというブール値を代入した。\n",
    "- ifとelseを使って**条件比較**を行い、disasterの値によって異なるコードを実行した。\n",
    "- テキストを表示するために、print()関数を呼び出した。\n",
    "\n",
    "テストのなかにさらにテストを入れることができる。このような入れ子構造は必要なだけ深くすることができる。\n",
    "\n",
    "例：\n",
    "**入れ子構造**"
   ]
  },
  {
   "cell_type": "code",
   "execution_count": 2,
   "metadata": {},
   "outputs": [
    {
     "name": "stdout",
     "output_type": "stream",
     "text": [
      "It's a cat.\n"
     ]
    }
   ],
   "source": [
    "furry = True\n",
    "small = True\n",
    "if furry:\n",
    "    if small:\n",
    "        print(\"It's a cat.\")\n",
    "    else:\n",
    "        print(\"It's a bear!\")\n",
    "else:\n",
    "    if small:\n",
    "        print(\"It's a skink!\")\n",
    "    else:\n",
    "        print(\"It's a human, Or a hairless bear.\")"
   ]
  },
  {
   "cell_type": "markdown",
   "metadata": {},
   "source": [
    "Pythonでは、インデントによってif、else節がどのように対応しているかを表現する。最初のテストはfurryのチェックで、furryがTrueなら、Pythonはインデックスされたif smallテストに入っていく。そして、smallがTrueならIf smallが評価され、Pythonは次の行に進んでIt's a cat.を出力する。\n",
    "\n",
    "テスト結果が3種類以上に分かれる場合には、if、elif(**else if**という意味）、elseを使う。\n",
    "\n",
    "例：\n",
    "**テスト結果が3種類以上に分かれる場合**"
   ]
  },
  {
   "cell_type": "code",
   "execution_count": 3,
   "metadata": {},
   "outputs": [
    {
     "name": "stdout",
     "output_type": "stream",
     "text": [
      "I've never heard of the color puce\n"
     ]
    }
   ],
   "source": [
    "color = \"puce\"\n",
    "if color == \"red\":\n",
    "    print(\"It's a tomato\")\n",
    "elif color == \"green\":\n",
    "    print(\"It's a green pepper\")\n",
    "elif color == \"bee purple\":\n",
    "    print(\"I don't know what it is, but only bees can see it\")\n",
    "else:\n",
    "    print(\"I've never heard of the color\", color)"
   ]
  },
  {
   "cell_type": "markdown",
   "metadata": {},
   "source": [
    "上の例では、==演算子で等しいかどうかをテストしている。Pythonの**比較演算子**をまとめると次の表になる。\n",
    "\n",
    "Pythonの比較演算子\n",
    "\n",
    "| 意味 | 演算子 |\n",
    "|:----|:------|\n",
    "| 等しい | == |\n",
    "| 等しくない | != |\n",
    "| より小さい | < |\n",
    "| 以下 | <= |\n",
    "| より大きい | > |\n",
    "| 以上 | >= |\n",
    "| 要素になっている | in ... |"
   ]
  },
  {
   "cell_type": "markdown",
   "metadata": {},
   "source": [
    "これらの演算子は、TrueかFalseのブール値を返す。これらがどのように働くのかをこれから見ていくが、その前にまず、xに値を代入しよう\n",
    "\n",
    "例：\n",
    "**比較演算子のテスト**"
   ]
  },
  {
   "cell_type": "code",
   "execution_count": 4,
   "metadata": {},
   "outputs": [],
   "source": [
    "x = 7"
   ]
  },
  {
   "cell_type": "code",
   "execution_count": 5,
   "metadata": {},
   "outputs": [
    {
     "data": {
      "text/plain": [
       "False"
      ]
     },
     "execution_count": 5,
     "metadata": {},
     "output_type": "execute_result"
    }
   ],
   "source": [
    "x == 5"
   ]
  },
  {
   "cell_type": "code",
   "execution_count": 6,
   "metadata": {},
   "outputs": [
    {
     "data": {
      "text/plain": [
       "True"
      ]
     },
     "execution_count": 6,
     "metadata": {},
     "output_type": "execute_result"
    }
   ],
   "source": [
    "x == 7"
   ]
  },
  {
   "cell_type": "code",
   "execution_count": 7,
   "metadata": {},
   "outputs": [
    {
     "data": {
      "text/plain": [
       "True"
      ]
     },
     "execution_count": 7,
     "metadata": {},
     "output_type": "execute_result"
    }
   ],
   "source": [
    "5 < x"
   ]
  },
  {
   "cell_type": "code",
   "execution_count": 8,
   "metadata": {},
   "outputs": [
    {
     "data": {
      "text/plain": [
       "True"
      ]
     },
     "execution_count": 8,
     "metadata": {},
     "output_type": "execute_result"
    }
   ],
   "source": [
    "x < 10"
   ]
  },
  {
   "cell_type": "markdown",
   "metadata": {},
   "source": [
    "**等価性のテスト**のために、ふたつの等号（==）が使われている。ひとつの等号（=）は、変数に値を代入するときに使う。\n",
    "\n",
    "同時に複数の比較をしなければならないときには、and、or、notの**ブール演算子**を使って最終的な真偽を判断する。\n",
    "\n",
    "ブール演算子は、比較対象よりも**優先順位**が低い。そのため、その比較対象となる要素が先に計算されてからブール演算が行われる。\n",
    "\n",
    "次の例では、xに7をセットしているため、5 < xはTrue、x < 10もTrueになり、最後は、True and Trueを処理することになる。\n",
    "\n",
    "例：\n",
    "**ブール演算子**"
   ]
  },
  {
   "cell_type": "code",
   "execution_count": 9,
   "metadata": {},
   "outputs": [
    {
     "data": {
      "text/plain": [
       "True"
      ]
     },
     "execution_count": 9,
     "metadata": {},
     "output_type": "execute_result"
    }
   ],
   "source": [
    "x = 7\n",
    "5 < x and x < 10"
   ]
  },
  {
   "cell_type": "markdown",
   "metadata": {},
   "source": [
    "「2.2.2 優先順位」で示したように、優先順位に関して混乱しないようにしたければ、かっこを使うのがもっとも手っ取り早い。\n",
    "\n",
    "例：\n",
    "**ブール演算子をかっこでくくる**"
   ]
  },
  {
   "cell_type": "code",
   "execution_count": 10,
   "metadata": {},
   "outputs": [
    {
     "data": {
      "text/plain": [
       "True"
      ]
     },
     "execution_count": 10,
     "metadata": {},
     "output_type": "execute_result"
    }
   ],
   "source": [
    "x = 7\n",
    "(5 < x) and (x < 10)"
   ]
  },
  {
   "cell_type": "markdown",
   "metadata": {},
   "source": [
    "ほかのブール演算子もテストしてみる。\n",
    "\n",
    "例：\n",
    "**その他のブール演算子**"
   ]
  },
  {
   "cell_type": "code",
   "execution_count": 12,
   "metadata": {},
   "outputs": [
    {
     "data": {
      "text/plain": [
       "True"
      ]
     },
     "execution_count": 12,
     "metadata": {},
     "output_type": "execute_result"
    }
   ],
   "source": [
    "x = 7\n",
    "5 < x or x < 10"
   ]
  },
  {
   "cell_type": "code",
   "execution_count": 13,
   "metadata": {},
   "outputs": [
    {
     "data": {
      "text/plain": [
       "False"
      ]
     },
     "execution_count": 13,
     "metadata": {},
     "output_type": "execute_result"
    }
   ],
   "source": [
    "5 < x and x > 10"
   ]
  },
  {
   "cell_type": "code",
   "execution_count": 14,
   "metadata": {},
   "outputs": [
    {
     "data": {
      "text/plain": [
       "True"
      ]
     },
     "execution_count": 14,
     "metadata": {},
     "output_type": "execute_result"
    }
   ],
   "source": [
    "5 < x and not x > 10"
   ]
  },
  {
   "cell_type": "markdown",
   "metadata": {},
   "source": [
    "1個の変数で複数の比較をandする場合、Pythonでは次のように書くことができる。\n",
    "\n",
    "例：\n",
    "**1個の変数で複数の比較をandする場合**"
   ]
  },
  {
   "cell_type": "code",
   "execution_count": 15,
   "metadata": {},
   "outputs": [
    {
     "data": {
      "text/plain": [
       "True"
      ]
     },
     "execution_count": 15,
     "metadata": {},
     "output_type": "execute_result"
    }
   ],
   "source": [
    "x = 7\n",
    "5 < x < 10"
   ]
  },
  {
   "cell_type": "markdown",
   "metadata": {},
   "source": [
    "これは、5 < x and x < 10と同じ意味だ。もっと長い比較を書くこともできる。\n",
    "\n",
    "例：\n",
    "**1個の変数で複数の比較をandする場合**"
   ]
  },
  {
   "cell_type": "code",
   "execution_count": 16,
   "metadata": {},
   "outputs": [
    {
     "data": {
      "text/plain": [
       "True"
      ]
     },
     "execution_count": 16,
     "metadata": {},
     "output_type": "execute_result"
    }
   ],
   "source": [
    "5 < x < 10 < 999"
   ]
  },
  {
   "cell_type": "markdown",
   "metadata": {},
   "source": [
    "### 4.3.1 Trueとは何か\n",
    "---\n",
    "チェックしている要素がブール値でなければどうなるのだろうか。Pythonは何をTrue、Falseと考えているのだろうか。\n",
    "\n",
    "偽は、かならずしも明示的にFalseである必要はない。たとえば、次の表に示すものは、すべてFalseと見なされる。\n",
    "\n",
    "Falseと見なされるもの\n",
    "\n",
    "| Falseと見なされるもの | 値 |\n",
    "|:-------------------|:---|\n",
    "| ブール値 | False |\n",
    "| null | None |\n",
    "| 整数のゼロ | 0 |\n",
    "| floatのゼロ | 0.0 |\n",
    "| 空文字列 | '' |\n",
    "| 空リスト | [] |\n",
    "| 空タプル | () |\n",
    "| 空辞書 | {} |\n",
    "| 空集合 | set() |\n",
    "\n",
    "その他のものはすべてTrueと見なされる。Pythonプログラムは、この「真実」の定義（この場合は、「偽」の定義と呼ぶべきだが）を使って、Falseだけでなく空データ構造かとうかチェックしている。\n",
    "\n",
    "例：\n",
    "**「真偽」定義のテスト**"
   ]
  },
  {
   "cell_type": "code",
   "execution_count": 17,
   "metadata": {},
   "outputs": [
    {
     "name": "stdout",
     "output_type": "stream",
     "text": [
      "Hey, it's empty!\n"
     ]
    }
   ],
   "source": [
    "some_list = []\n",
    "if some_list:\n",
    "    print(\"There's something in here\")\n",
    "else:\n",
    "    print(\"Hey, it's empty!\")"
   ]
  },
  {
   "cell_type": "markdown",
   "metadata": {},
   "source": [
    "テストしているものが単純な変数ではなく、式なら、Pythonは式を評価してブール値の結果を返す。そこで次のように式を入力した場合、\n",
    "\n",
    "if color == \"red\":\n",
    "\n",
    "Pythonは、color == \"red\"を評価する。私たちの例では、colorに\"puce\"を代入しているので、color == \"red\"はFalseであり、Pythonは次のテストに移る。\n",
    "\n",
    "elif color == \"green\":"
   ]
  }
 ],
 "metadata": {
  "kernelspec": {
   "display_name": "Python 3",
   "language": "python",
   "name": "python3"
  },
  "language_info": {
   "codemirror_mode": {
    "name": "ipython",
    "version": 3
   },
   "file_extension": ".py",
   "mimetype": "text/x-python",
   "name": "python",
   "nbconvert_exporter": "python",
   "pygments_lexer": "ipython3",
   "version": "3.6.4"
  }
 },
 "nbformat": 4,
 "nbformat_minor": 2
}
