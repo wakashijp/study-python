{
 "cells": [
  {
   "cell_type": "markdown",
   "metadata": {},
   "source": [
    "# 4章 Pyの皮：コード構造\n",
    "---\n",
    "1章から3章までではさまざまなデータの例を見てきたが、データを使って大したことはまだ何もしていない。ほとんどのコード例は、対話型インタプリタを使っており、短かった。しかし、ここからはただのデータを見ているだけではなく、データを処理するPythonコードを実装していく。\n",
    "\n",
    "Pythonは**空白**を使ってプログラムの構造を定義するという点で普通の言語とは大きく異なる。これは、新人が最初に気づくことのひとつで、ほかの言語の経験がある人にとっては奇妙に感じられるようだ。しかし、しばらくPythonを書いていると、このやり方が自然に感じられるようになり、いちいち意識しなくなる。タイピングが減った分、多くの仕事をするようにさえなってしまう。"
   ]
  },
  {
   "cell_type": "markdown",
   "metadata": {},
   "source": [
    "## 4.1 #によるコメント\n",
    "---\n",
    "**コメント**は、プログラムのなかに含まれるテキストで、Pythonインタープリタからは無視される。その近所のPythonコードの意味をはっきりと伝えたり、いつか修正すべき部分のメモとして使ったり、その他あらゆる目的に使える。コメントは、#文字を使って示す。#文字が現れたところからその行の行末までは、コメントになる。\n",
    "\n",
    "コメントは、次のように専用の行に書かれることが多い。\n",
    "\n",
    "例："
   ]
  },
  {
   "cell_type": "code",
   "execution_count": 1,
   "metadata": {},
   "outputs": [],
   "source": [
    "# 60 sec/min * 60 min/hr * 24 hr/day\n",
    "seconds_per_day = 86400"
   ]
  },
  {
   "cell_type": "markdown",
   "metadata": {},
   "source": [
    "コメントの対象となっているコードと同じ行に書かれることもある。\n",
    "\n",
    "例："
   ]
  },
  {
   "cell_type": "code",
   "execution_count": 2,
   "metadata": {},
   "outputs": [],
   "source": [
    "sedonds_per_day = 86400 # 60 sec/min * 60 min/hr * 24 hr/day"
   ]
  },
  {
   "cell_type": "markdown",
   "metadata": {},
   "source": [
    "#文字には、**ハッシュ**、**シャープ**、**ポンド**など、さまざまな名前がある。あるいは**オクソトープ**と言うと、ちょっと不気味な感じだ。どう呼んでも、効果は出現した位置から行末までしかない。\n",
    "\n",
    "Pythonには、複数行コメントはない。コメント行、コメントセクションの冒頭には、必ず#を入れなければならない。\n",
    "\n",
    "例："
   ]
  },
  {
   "cell_type": "code",
   "execution_count": 3,
   "metadata": {},
   "outputs": [],
   "source": [
    "# I can say anything here, even if Python doesn't like it,\n",
    "# because I'm protected by the awesome\n",
    "# octothorp.\n"
   ]
  },
  {
   "cell_type": "markdown",
   "metadata": {},
   "source": [
    "しかし、文字列のなかに含まれているときには、この強力な文字はただの#文字に戻ってしまう。\n",
    "\n",
    "例："
   ]
  },
  {
   "cell_type": "code",
   "execution_count": 4,
   "metadata": {},
   "outputs": [
    {
     "name": "stdout",
     "output_type": "stream",
     "text": [
      "No comment: quotes make the # harmless.\n"
     ]
    }
   ],
   "source": [
    "print(\"No comment: quotes make the # harmless.\")"
   ]
  }
 ],
 "metadata": {
  "kernelspec": {
   "display_name": "Python 3",
   "language": "python",
   "name": "python3"
  },
  "language_info": {
   "codemirror_mode": {
    "name": "ipython",
    "version": 3
   },
   "file_extension": ".py",
   "mimetype": "text/x-python",
   "name": "python",
   "nbconvert_exporter": "python",
   "pygments_lexer": "ipython3",
   "version": "3.6.4"
  }
 },
 "nbformat": 4,
 "nbformat_minor": 2
}
