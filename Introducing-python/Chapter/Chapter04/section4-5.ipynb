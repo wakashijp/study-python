{
 "cells": [
  {
   "cell_type": "markdown",
   "metadata": {},
   "source": [
    "# 4章 Pyの皮：コード構造\n",
    "---\n",
    "1章から3章までではさまざまなデータの例を見てきたが、データを使って大したことはまだ何もしていない。ほとんどのコード例は、対話型インタプリタを使っており、短かった。しかし、ここからはただのデータを見ているだけではなく、データを処理するPythonコードを実装していく。\n",
    "\n",
    "Pythonは**空白**を使ってプログラムの構造を定義するという点で普通の言語とは大きく異なる。これは、新人が最初に気づくことのひとつで、ほかの言語の経験がある人にとっては奇妙に感じられるようだ。しかし、しばらくPythonを書いていると、このやり方が自然に感じられるようになり、いちいち意識しなくなる。タイピングが減った分、多くの仕事をするようにさえなってしまう。"
   ]
  },
  {
   "cell_type": "markdown",
   "metadata": {},
   "source": [
    "## 4.5 forによる反復処理\n",
    "---\n",
    "Pythonは、**イテレータ**（イテレーションごとにリスト、辞書などから要素をひとつずつ取り出して返すもの）を頻繁に使うが、それにはもっともな理由がある。イテレータを使えば、データ構造がどれくらいのサイズなのか、どのように実装されているのかを知らなくても、データ構造の各要素を操作できる。その場で作ったデータもforで受け付けられるので、コンピュータのメモリに全部収めきれないようなデータ**ストリーム**も処理出来る。\n",
    "\n",
    "次のようにシーケンスをループ処理するのはPythonコードとして決して間違ってはいない。\n",
    "\n",
    "例：\n",
    "**シーケンス（リスト）をループ処理する（while）**"
   ]
  },
  {
   "cell_type": "code",
   "execution_count": 3,
   "metadata": {},
   "outputs": [
    {
     "name": "stdout",
     "output_type": "stream",
     "text": [
      "Flopay\n",
      "Mopay\n",
      "Cottontail\n",
      "Peter\n"
     ]
    }
   ],
   "source": [
    "rabbits = ['Flopay', 'Mopay', 'Cottontail', 'Peter']\n",
    "current = 0\n",
    "while current < len(rabbits):\n",
    "    print(rabbits[current])\n",
    "    current += 1"
   ]
  },
  {
   "cell_type": "markdown",
   "metadata": {},
   "source": [
    "しかし、次のようにした方がPythonらしいよいコードになる。\n",
    "\n",
    "例：\n",
    "**シーケンス（リスト）をループ処理する（for）**"
   ]
  },
  {
   "cell_type": "code",
   "execution_count": 4,
   "metadata": {},
   "outputs": [
    {
     "name": "stdout",
     "output_type": "stream",
     "text": [
      "Flopay\n",
      "Mopay\n",
      "Cottontail\n",
      "Peter\n"
     ]
    }
   ],
   "source": [
    "rabbits = ['Flopay', 'Mopay', 'Cottontail', 'Peter']\n",
    "current = 0\n",
    "for rabbit in rabbits:\n",
    "    print(rabbit)"
   ]
  },
  {
   "cell_type": "markdown",
   "metadata": {},
   "source": [
    "rabbitsのようなリストは、文字列、タプル、辞書、集合、その他とともに、Pythonの**イテラブル**（イテレータに対応している）オブジェクトだ。タプルやリストをforで処理すると、一度にひとつずつ要素が取り出される。文字列をforで処理すると、次に示すように一度に1字ずつ文字が生成される。\n",
    "\n",
    "例：\n",
    "**シーケンス（文字列）をループ処理する（for）**"
   ]
  },
  {
   "cell_type": "code",
   "execution_count": 1,
   "metadata": {},
   "outputs": [
    {
     "name": "stdout",
     "output_type": "stream",
     "text": [
      "c\n",
      "a\n",
      "t\n"
     ]
    }
   ],
   "source": [
    "word = 'cat'\n",
    "for letter in word:\n",
    "    print(letter)"
   ]
  },
  {
   "cell_type": "markdown",
   "metadata": {},
   "source": [
    "辞書（または辞書のkeys関数）をforで処理すると、キーが返される。次の例では、キーはボードゲーム「Clue」（北米以外では「Cluedo」）のカード種類を表す。\n",
    "\n",
    "例：\n",
    "**シーケンス（辞書）をループ処理でキーを取り出す（for）**"
   ]
  },
  {
   "cell_type": "code",
   "execution_count": 3,
   "metadata": {},
   "outputs": [
    {
     "name": "stdout",
     "output_type": "stream",
     "text": [
      "room\n",
      "weapon\n",
      "person\n"
     ]
    }
   ],
   "source": [
    "accusation = {'room': 'ballroom', 'weapon': 'lead pipe', 'person': 'Col. Mustard'}\n",
    "for card in accusation: # または for card in accusation.keys():\n",
    "    print(card)"
   ]
  },
  {
   "cell_type": "markdown",
   "metadata": {},
   "source": [
    "キーではなく、値を反復処理したい場合には、辞書のvalues()関数を使えばよい。\n",
    "\n",
    "例：\n",
    "**シーケンス（辞書）をループ処理で値を取り出す（for）**"
   ]
  },
  {
   "cell_type": "code",
   "execution_count": 4,
   "metadata": {},
   "outputs": [
    {
     "name": "stdout",
     "output_type": "stream",
     "text": [
      "ballroom\n",
      "lead pipe\n",
      "Col. Mustard\n"
     ]
    }
   ],
   "source": [
    "accusation = {'room': 'ballroom', 'weapon': 'lead pipe', 'person': 'Col. Mustard'}\n",
    "for value in accusation.values():\n",
    "    print(value)"
   ]
  },
  {
   "cell_type": "markdown",
   "metadata": {},
   "source": [
    "キーと値の両方をタプルの形で返したい場合には、items()関数を使う。\n",
    "\n",
    "例：\n",
    "**シーケンス（辞書）をループ処理でキーと値を同時に取り出す（タプル形式）**"
   ]
  },
  {
   "cell_type": "code",
   "execution_count": 5,
   "metadata": {},
   "outputs": [
    {
     "name": "stdout",
     "output_type": "stream",
     "text": [
      "('room', 'ballroom')\n",
      "('weapon', 'lead pipe')\n",
      "('person', 'Col. Mustard')\n"
     ]
    }
   ],
   "source": [
    "accusation = {'room': 'ballroom', 'weapon': 'lead pipe', 'person': 'Col. Mustard'}\n",
    "for item in accusation.items():\n",
    "    print(item)"
   ]
  },
  {
   "cell_type": "markdown",
   "metadata": {},
   "source": [
    "タプルの各要素を個別の変数に代入する作業は、ワンステップでできることを覚えておこう。items()が返す個々のタプルについて、第1の値（キー）をcard、第2の値（値）をcontentsに代入することができる。\n",
    "\n",
    "例：\n",
    "**シーケンス（辞書）をループ処理でキーと値を同時に取り出す（個々の変数に代入）**"
   ]
  },
  {
   "cell_type": "code",
   "execution_count": 6,
   "metadata": {},
   "outputs": [
    {
     "name": "stdout",
     "output_type": "stream",
     "text": [
      "Card room has the contents ballroom\n",
      "Card weapon has the contents lead pipe\n",
      "Card person has the contents Col. Mustartd\n"
     ]
    }
   ],
   "source": [
    "accusation = {'room': 'ballroom', 'weapon': 'lead pipe', 'person': 'Col. Mustartd'}\n",
    "for card, contents in accusation.items():\n",
    "    print('Card', card, 'has the contents', contents)"
   ]
  },
  {
   "cell_type": "markdown",
   "metadata": {},
   "source": [
    "### 4.5.1 breakによる中止\n",
    "---\n",
    "forループにbreak文を入れると、whileループのときと同様に、そこでループを中止する。"
   ]
  },
  {
   "cell_type": "markdown",
   "metadata": {},
   "source": [
    "### 4.5.2 continueによる次のイテレーションの開始\n",
    "---\n",
    "forループにcontinueを入れると、whileループのときと同様に、ループの次のイテレーションにジャンプする。"
   ]
  },
  {
   "cell_type": "markdown",
   "metadata": {},
   "source": [
    "### 4.5.3 elseによるbreakのチェック\n",
    "---\n",
    "whileと同様に、forは正常終了したかどうかをチェックするオプションのelseを持っている。breakが呼び出され**なければ**、else文が実行される。\n",
    "\n",
    "この機能は、forループがbreak呼び出しで途中で終了しておらず、最後まで実行されたことを確かめたいときに役に立つ。次の例のforループは、チーズショップにチーズがあれば、そのチーズの名前を表示してbreakする。\n",
    "\n",
    "例：\n",
    "**elseによるbreakチェック**"
   ]
  },
  {
   "cell_type": "code",
   "execution_count": 11,
   "metadata": {},
   "outputs": [
    {
     "name": "stdout",
     "output_type": "stream",
     "text": [
      "This is not much of a cheese shop, is it?\n"
     ]
    }
   ],
   "source": [
    "cheeses = []\n",
    "for cheese in cheeses:\n",
    "    print('This shop has some lovely', cheese)\n",
    "    break\n",
    "else: # breakしていないということはチーズがないということ\n",
    "    print('This is not much of a cheese shop, is it?')"
   ]
  },
  {
   "cell_type": "markdown",
   "metadata": {},
   "source": [
    "whileのときと同様に、forループのelseは分かりにくいかもしれないが、何かを探すためにforループを使い、それが見つからなかったときにelseが呼び出されると考えれば意味が分かるだろう。elseを使わずに同じ効果を得るためには、次に示すように、forループ内で探していたものが見つかったどうかを示す変数を使わなければならない。\n",
    "\n",
    "例：\n",
    "**elseを使わないbreakチェック**"
   ]
  },
  {
   "cell_type": "code",
   "execution_count": 9,
   "metadata": {},
   "outputs": [
    {
     "name": "stdout",
     "output_type": "stream",
     "text": [
      "This is not much of a cheese shop, is it?\n"
     ]
    }
   ],
   "source": [
    "cheeses = []\n",
    "found_one = False\n",
    "for cheese in cheeses:\n",
    "    found_one = True\n",
    "    print('This shop has some lovely', cheese)\n",
    "    break\n",
    "\n",
    "if not found_one:\n",
    "    print('This is not much of a cheese shop, is it?')"
   ]
  },
  {
   "cell_type": "markdown",
   "metadata": {},
   "source": [
    "### 4.5.4 zip()を使った複数のシーケンスの反復処理\n",
    "---\n",
    "forループには、もうひとつ巧妙なテクニックがある。zip()関数を使えば、複数のシーケンスを並列的に反復処理出来る。\n",
    "\n",
    "例：\n",
    "**zip()関数を使った複数のシーケンスの反復処理**"
   ]
  },
  {
   "cell_type": "code",
   "execution_count": 1,
   "metadata": {},
   "outputs": [
    {
     "name": "stdout",
     "output_type": "stream",
     "text": [
      "Monday : drink coffee - eat banana - enjoy tiramisu\n",
      "Tuesday : drink tea - eat orange - enjoy ice cream\n",
      "Wednesday : drink beer - eat peach - enjoy pie\n"
     ]
    }
   ],
   "source": [
    "days = ['Monday', 'Tuesday', 'Wednesday']\n",
    "fruits = ['banana', 'orange', 'peach']\n",
    "drinks = ['coffee', 'tea', 'beer']\n",
    "desserts = ['tiramisu', 'ice cream', 'pie', 'pudding']\n",
    "for day, fruit, drink, dessert in zip(days, fruits, drinks, desserts):\n",
    "    print(day, \": drink\", drink, \"- eat\", fruit, \"- enjoy\", dessert)"
   ]
  },
  {
   "cell_type": "markdown",
   "metadata": {},
   "source": [
    "zip()は、もっともサイズの小さいシーケンスの要素を処理しつくしたときに止まる。この例では、リストのなかのひとつ（desserts）だけがほかのリストよりも長い。そのため、ほかのリストを長くしない限り、プリン（pudding）をもらえる人はいない。\n",
    "\n",
    "「3.4節 辞書」で説明したように、dictは、タプル、リスト、文字列などの2要素のシーケンスから辞書を作れる。zip()を使えば、複数のシーケンスをたどって、オフセットが共通する要素からタプルを作ることができる。同じ意味の英単語と仏単語のふたつのタプルを作ってみる。\n",
    "\n",
    "例：\n",
    "**同じ意味の英単語と仏単語のタプルを作る**"
   ]
  },
  {
   "cell_type": "code",
   "execution_count": 2,
   "metadata": {},
   "outputs": [],
   "source": [
    "english = 'Monday', 'Tuesday', 'Wednesday'\n",
    "french = 'Lundi', 'Mardi', 'Mercredi'"
   ]
  },
  {
   "cell_type": "markdown",
   "metadata": {},
   "source": [
    "zip()を使って、これらのタプルからペアを作っていこう。zip()から返される値自体はタプルやリストではなく、タプルやリストにすることができるイテラブルな値だ。\n",
    "\n",
    "例：\n",
    "**zip()関数を使ってふたつのタプルからリストを作る**"
   ]
  },
  {
   "cell_type": "code",
   "execution_count": 3,
   "metadata": {},
   "outputs": [
    {
     "data": {
      "text/plain": [
       "[('Monday', 'Lundi'), ('Tuesday', 'Mardi'), ('Wednesday', 'Mercredi')]"
      ]
     },
     "execution_count": 3,
     "metadata": {},
     "output_type": "execute_result"
    }
   ],
   "source": [
    "list(zip(english, french))"
   ]
  },
  {
   "cell_type": "markdown",
   "metadata": {},
   "source": [
    "zip()の結果を直接dict()に渡すと、小さな英仏辞書ができあがる。\n",
    "\n",
    "例：\n",
    "**zip()関数を使ってふたつのタプルから辞書を作る**"
   ]
  },
  {
   "cell_type": "code",
   "execution_count": 4,
   "metadata": {},
   "outputs": [
    {
     "data": {
      "text/plain": [
       "{'Monday': 'Lundi', 'Tuesday': 'Mardi', 'Wednesday': 'Mercredi'}"
      ]
     },
     "execution_count": 4,
     "metadata": {},
     "output_type": "execute_result"
    }
   ],
   "source": [
    "dict(zip(english, french))"
   ]
  },
  {
   "cell_type": "markdown",
   "metadata": {},
   "source": [
    "### 4.5.5 range()による数値シーケンスの生成\n",
    "---\n",
    "range()関数を使えば、あらかじめリストやタプルなどの大きなデータ構造体を作ってそこに値を格納しなくても、指定した範囲の数値のストリームを返すことができる。これを使えば、コンピュータのメモリを使い尽くしてプログラムをクラッシュさせたりせずに、非常に大きな範囲の数値を作ることができる。\n",
    "\n",
    "range()は、range(start, end, step)というスライスとよく似た形式で使う。startを省略すると、0が先頭になる。唯一の必須引数はendで、スライスと同様に、作成される最後の値はstopの直前である。stepのデフォルト値は1だが、-1を指定して逆順にすることができる。\n",
    "\n",
    "zip()と同様に、range()は**イテラブルな**オブジェクトを返すので、戻り値はfor ... inで反復処理するか、リストなどのシーケンスに変換する必要がある。0, 1, 2という範囲を作ってみる。\n",
    "\n",
    "例：\n",
    "**range()関数を使い0, 1, 2という範囲を作る**"
   ]
  },
  {
   "cell_type": "code",
   "execution_count": 5,
   "metadata": {},
   "outputs": [
    {
     "name": "stdout",
     "output_type": "stream",
     "text": [
      "0\n",
      "1\n",
      "2\n"
     ]
    }
   ],
   "source": [
    "for x in range(0, 3):\n",
    "    print(x)"
   ]
  },
  {
   "cell_type": "code",
   "execution_count": 6,
   "metadata": {},
   "outputs": [
    {
     "data": {
      "text/plain": [
       "[0, 1, 2]"
      ]
     },
     "execution_count": 6,
     "metadata": {},
     "output_type": "execute_result"
    }
   ],
   "source": [
    "list(range(0, 3))"
   ]
  },
  {
   "cell_type": "markdown",
   "metadata": {},
   "source": [
    "2から0までの範囲は、次のように作る。\n",
    "\n",
    "例：\n",
    "**range()関数を使い2から0までの範囲を作る**"
   ]
  },
  {
   "cell_type": "code",
   "execution_count": 7,
   "metadata": {},
   "outputs": [
    {
     "name": "stdout",
     "output_type": "stream",
     "text": [
      "2\n",
      "1\n",
      "0\n"
     ]
    }
   ],
   "source": [
    "for x in range(2, -1, -1):\n",
    "    print(x)"
   ]
  },
  {
   "cell_type": "code",
   "execution_count": 8,
   "metadata": {},
   "outputs": [
    {
     "data": {
      "text/plain": [
       "[2, 1, 0]"
      ]
     },
     "execution_count": 8,
     "metadata": {},
     "output_type": "execute_result"
    }
   ],
   "source": [
    "list(range(2, -1, -1))"
   ]
  },
  {
   "cell_type": "markdown",
   "metadata": {},
   "source": [
    "次のコードは、ステップサイズ2を使って0から10までの偶数を手に入れている。\n",
    "\n",
    "例：\n",
    "**range()関数を使い0から10までの偶数を取得する**"
   ]
  },
  {
   "cell_type": "code",
   "execution_count": 9,
   "metadata": {},
   "outputs": [
    {
     "name": "stdout",
     "output_type": "stream",
     "text": [
      "0\n",
      "2\n",
      "4\n",
      "6\n",
      "8\n",
      "10\n"
     ]
    }
   ],
   "source": [
    "for x in range(0, 11, 2):\n",
    "    print(x)"
   ]
  },
  {
   "cell_type": "code",
   "execution_count": 10,
   "metadata": {},
   "outputs": [
    {
     "data": {
      "text/plain": [
       "[0, 2, 4, 6, 8, 10]"
      ]
     },
     "execution_count": 10,
     "metadata": {},
     "output_type": "execute_result"
    }
   ],
   "source": [
    "list(range(0, 11, 2))"
   ]
  },
  {
   "cell_type": "markdown",
   "metadata": {},
   "source": [
    "### 4.5.6 その他のイテレータ\n",
    "---\n",
    "8章では、ファイルの反復処理の方法を示す。6章では、ユーザー定義オブジェクトをイテラブルオブジェクトにする方法を示す。"
   ]
  }
 ],
 "metadata": {
  "kernelspec": {
   "display_name": "Python 3",
   "language": "python",
   "name": "python3"
  },
  "language_info": {
   "codemirror_mode": {
    "name": "ipython",
    "version": 3
   },
   "file_extension": ".py",
   "mimetype": "text/x-python",
   "name": "python",
   "nbconvert_exporter": "python",
   "pygments_lexer": "ipython3",
   "version": "3.6.4"
  }
 },
 "nbformat": 4,
 "nbformat_minor": 2
}
