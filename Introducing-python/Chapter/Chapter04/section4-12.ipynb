{
 "cells": [
  {
   "cell_type": "markdown",
   "metadata": {},
   "source": [
    "# 4章 Pyの皮：コード構造\n",
    "---\n",
    "1章から3章までではさまざまなデータの例を見てきたが、データを使って大したことはまだ何もしていない。ほとんどのコード例は、対話型インタプリタを使っており、短かった。しかし、ここからはただのデータを見ているだけではなく、データを処理するPythonコードを実装していく。\n",
    "\n",
    "Pythonは**空白**を使ってプログラムの構造を定義するという点で普通の言語とは大きく異なる。これは、新人が最初に気づくことのひとつで、ほかの言語の経験がある人にとっては奇妙に感じられるようだ。しかし、しばらくPythonを書いていると、このやり方が自然に感じられるようになり、いちいち意識しなくなる。タイピングが減った分、多くの仕事をするようにさえなってしまう。"
   ]
  },
  {
   "cell_type": "markdown",
   "metadata": {},
   "source": [
    "## 4.12 独自例外の作成\n",
    "---\n",
    "前節では例外処理を取り上げたが、例外はどれも（IndexErrorなど）Pythonかその標準ライブラリで定義済みのものだった。これらの例外は、自分の目的で自由に使える。また、自分のプログラムのなかで発生することのある特殊な状況に対処するために独自の例外型を定義することもできる。\n",
    "\n",
    "> そのためには、**クラス**を使って新しいオブジェクト型を定義する必要がある。しかし、クラスの作り方については6章まで深入りしない。そこで、クラスがよくわからないという読者は、あとで此の節に戻るとよいだろう。\n",
    "\n",
    "例外はクラスであり、Exceptionクラスの子クラスだ。UppercaseExceptionというクラスを作り、文字列に大文字の単語が含まれていたら生成されるようにしてみよう。\n",
    "\n",
    "例：\n",
    "**UppercaseException Class**"
   ]
  },
  {
   "cell_type": "code",
   "execution_count": 1,
   "metadata": {},
   "outputs": [],
   "source": [
    "class UppercaseException(Exception):\n",
    "    pass"
   ]
  },
  {
   "cell_type": "code",
   "execution_count": 2,
   "metadata": {},
   "outputs": [
    {
     "ename": "UppercaseException",
     "evalue": "MO",
     "traceback": [
      "\u001b[0;31m---------------------------------------------------------------------------\u001b[0m",
      "\u001b[0;31mUppercaseException\u001b[0m                        Traceback (most recent call last)",
      "\u001b[0;32m<ipython-input-2-56dc8d092fd2>\u001b[0m in \u001b[0;36m<module>\u001b[0;34m()\u001b[0m\n\u001b[1;32m      2\u001b[0m \u001b[0;32mfor\u001b[0m \u001b[0mword\u001b[0m \u001b[0;32min\u001b[0m \u001b[0mwords\u001b[0m\u001b[0;34m:\u001b[0m\u001b[0;34m\u001b[0m\u001b[0m\n\u001b[1;32m      3\u001b[0m     \u001b[0;32mif\u001b[0m \u001b[0mword\u001b[0m\u001b[0;34m.\u001b[0m\u001b[0misupper\u001b[0m\u001b[0;34m(\u001b[0m\u001b[0;34m)\u001b[0m\u001b[0;34m:\u001b[0m\u001b[0;34m\u001b[0m\u001b[0m\n\u001b[0;32m----> 4\u001b[0;31m         \u001b[0;32mraise\u001b[0m \u001b[0mUppercaseException\u001b[0m\u001b[0;34m(\u001b[0m\u001b[0mword\u001b[0m\u001b[0;34m)\u001b[0m\u001b[0;34m\u001b[0m\u001b[0m\n\u001b[0m",
      "\u001b[0;31mUppercaseException\u001b[0m: MO"
     ],
     "output_type": "error"
    }
   ],
   "source": [
    "words = ['eeenie', 'meenie', 'miny', 'MO']\n",
    "for word in words:\n",
    "    if word.isupper():\n",
    "        raise UppercaseException(word)"
   ]
  },
  {
   "cell_type": "markdown",
   "metadata": {},
   "source": [
    "ここでは、UppercaseExceptionのふるまいさえ定義していない（passを使っていたことに注意しよう）。例外が生成されたときに何を表示すべきかも、親クラスのExceptionに任せている。\n",
    "\n",
    "例外オブジェクト自体にアクセスして、情報を表示することもできる。\n",
    "\n",
    "例：\n",
    "**例外オブジェクト（UppercaseException）にアクセスして情報を表示する**"
   ]
  },
  {
   "cell_type": "code",
   "execution_count": 8,
   "metadata": {},
   "outputs": [
    {
     "name": "stdout",
     "output_type": "stream",
     "text": [
      "panic\n"
     ]
    }
   ],
   "source": [
    "try:\n",
    "    raise UppercaseException('panic')\n",
    "except UppercaseException as exc:\n",
    "    print(exc)"
   ]
  }
 ],
 "metadata": {
  "kernelspec": {
   "display_name": "Python 3",
   "language": "python",
   "name": "python3"
  },
  "language_info": {
   "codemirror_mode": {
    "name": "ipython",
    "version": 3
   },
   "file_extension": ".py",
   "mimetype": "text/x-python",
   "name": "python",
   "nbconvert_exporter": "python",
   "pygments_lexer": "ipython3",
   "version": "3.6.4"
  }
 },
 "nbformat": 4,
 "nbformat_minor": 2
}
