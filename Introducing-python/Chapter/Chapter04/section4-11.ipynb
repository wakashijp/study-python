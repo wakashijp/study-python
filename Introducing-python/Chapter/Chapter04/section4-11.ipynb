{
 "cells": [
  {
   "cell_type": "markdown",
   "metadata": {},
   "source": [
    "# 4章 Pyの皮：コード構造\n",
    "---\n",
    "1章から3章までではさまざまなデータの例を見てきたが、データを使って大したことはまだ何もしていない。ほとんどのコード例は、対話型インタプリタを使っており、短かった。しかし、ここからはただのデータを見ているだけではなく、データを処理するPythonコードを実装していく。\n",
    "\n",
    "Pythonは**空白**を使ってプログラムの構造を定義するという点で普通の言語とは大きく異なる。これは、新人が最初に気づくことのひとつで、ほかの言語の経験がある人にとっては奇妙に感じられるようだ。しかし、しばらくPythonを書いていると、このやり方が自然に感じられるようになり、いちいち意識しなくなる。タイピングが減った分、多くの仕事をするようにさえなってしまう。"
   ]
  },
  {
   "cell_type": "markdown",
   "metadata": {},
   "source": [
    "## 4.11 エラー処理とtry、except\n",
    "---\n",
    "関数の戻り値を特別な値にしてエラーを示すといった言語も存在するが、Pythonは**例外**を使っている。例外とは、エラーが起きたときに実行されるコードのことだ。\n",
    "\n",
    "すでに例外はいくつか示してきた。リストやタプルに範囲外の位置を指定してアクセスしようとしたときや、存在しないキーで辞書にアクセスしようとしたときなどだ。特定の条件のもとでは失敗するコードを実行するときには、適切な**例外ハンドラ**を作って、起きる可能性のあるエラーをすべてキャッチする必要がある。\n",
    "\n",
    "例外が起きそうなところにはすべて例外処理を追加して、ユーザーに何が起きるのかを知らせておくのはグッドプラクティスだとされている。問題を解決できないかもしれないが、少なくとも状況を知らせて穏便にプログラムを終了させることはできる。ある関数で例外が起き、その関数で例外をキャッチしなければ、上位の関数の対応するハンドラがキャッチするまで例外は**バブルアップ**していく。プログラム内で独自の例外ハンドラを用意できていなければ、次のコードが示すように、Pythonはエラーメッセージとエラー発生箇所についての情報を出力し、プログラムを強制終了する。\n",
    "\n",
    "例：\n",
    "**エラー**"
   ]
  },
  {
   "cell_type": "code",
   "execution_count": 1,
   "metadata": {},
   "outputs": [
    {
     "ename": "IndexError",
     "evalue": "list index out of range",
     "traceback": [
      "\u001b[0;31m---------------------------------------------------------------------------\u001b[0m",
      "\u001b[0;31mIndexError\u001b[0m                                Traceback (most recent call last)",
      "\u001b[0;32m<ipython-input-1-f5eaf9cc45f2>\u001b[0m in \u001b[0;36m<module>\u001b[0;34m()\u001b[0m\n\u001b[1;32m      1\u001b[0m \u001b[0mshort_list\u001b[0m \u001b[0;34m=\u001b[0m \u001b[0;34m[\u001b[0m\u001b[0;36m1\u001b[0m\u001b[0;34m,\u001b[0m \u001b[0;36m2\u001b[0m\u001b[0;34m,\u001b[0m \u001b[0;36m3\u001b[0m\u001b[0;34m]\u001b[0m\u001b[0;34m\u001b[0m\u001b[0m\n\u001b[1;32m      2\u001b[0m \u001b[0mposition\u001b[0m \u001b[0;34m=\u001b[0m \u001b[0;36m5\u001b[0m\u001b[0;34m\u001b[0m\u001b[0m\n\u001b[0;32m----> 3\u001b[0;31m \u001b[0mshort_list\u001b[0m\u001b[0;34m[\u001b[0m\u001b[0mposition\u001b[0m\u001b[0;34m]\u001b[0m\u001b[0;34m\u001b[0m\u001b[0m\n\u001b[0m",
      "\u001b[0;31mIndexError\u001b[0m: list index out of range"
     ],
     "output_type": "error"
    }
   ],
   "source": [
    "short_list = [1, 2, 3]\n",
    "position = 5\n",
    "short_list[position]"
   ]
  },
  {
   "cell_type": "markdown",
   "metadata": {},
   "source": [
    "このように成り行きに任せるのではなく、tryを使って例外が起きそうな場所を囲み、exceptを使って例外処理を提供すべきだ。\n",
    "\n",
    "例：\n",
    "**エラー：try-exceptを使った例外処理**"
   ]
  },
  {
   "cell_type": "code",
   "execution_count": 4,
   "metadata": {},
   "outputs": [
    {
     "name": "stdout",
     "output_type": "stream",
     "text": [
      "Need a position between 0 and 2 but got 5\n"
     ]
    }
   ],
   "source": [
    "short_list = [1, 2, 3]\n",
    "position = 5\n",
    "try:\n",
    "    short_list[position]\n",
    "except:\n",
    "    print('Need a position between 0 and', len(short_list) - 1, 'but got', position)"
   ]
  },
  {
   "cell_type": "markdown",
   "metadata": {},
   "source": [
    "tryブロックのコードは実行される。そこでエラーが起きると、例外が生成され、exceptブロックのコードが実行される。例外が起きなければ、exceptブロックは実行されない。\n",
    "\n",
    "ここで行っているように、引数なしのexceptを指定すると、あらゆる例外型がキャッチされる。しかし、複数の例外が起きる可能性があるときには、それぞれのために別々の例外ハンドラを用意した方がよい。とは言え、これは強制ではない。ただのexceptを使ってすべての例外をキャッチすることはできるが、その処理はおそらく一般的で役に立たないものになるだろう（「なんらかのエラーが発生しました」と表示するなど）。専用例外ハンドラはいくつでも指定できる。\n",
    "\n",
    "例外について型だけでなく詳細情報がわかるようにしたい場合がある。次のようにすれば、name変数に完全な例外オブジェクトを格納できる。\n",
    "\n",
    "> except exceptiontype as name\n",
    "\n",
    "次の例では、まずIndexErrorを探す。シーケンスに無効な位置を指定したときに返される例外型がこれなのだ。コードは、err変数にIndexError例外、other変数にはほかの例外を保存する。そして、otherに格納されたすべての情報を表示して、どのような例外が発生したのかを示す。\n",
    "\n",
    "例：\n",
    "**エラー：try-exceptを使った例外処理（except exceptiontype as name）**"
   ]
  },
  {
   "cell_type": "code",
   "execution_count": 5,
   "metadata": {},
   "outputs": [
    {
     "name": "stdout",
     "output_type": "stream",
     "text": [
      "2\n",
      "1\n",
      "3\n",
      "Bad index: 3\n",
      "3\n",
      "Something else broke: invalid literal for int() with base 10: 'tow'\n"
     ]
    }
   ],
   "source": [
    "short_list = [1, 2, 3]\n",
    "while True:\n",
    "    value = input('Position [q to quit]? ')\n",
    "    if value == 'q':\n",
    "        break\n",
    "    try:\n",
    "        position = int(value)\n",
    "        print(short_list[position])\n",
    "    except IndexError as err:\n",
    "        print('Bad index:', position)\n",
    "    except Exception as other:\n",
    "        print('Something else broke:', other)\n"
   ]
  },
  {
   "cell_type": "markdown",
   "metadata": {},
   "source": [
    "位置3を入力すると、予想どおりIndexErrorが発生する。twoを入力すると、int()関数を困らせることになる。ここで発生した例外は、すべてを拾う第2のexceptコードで処理される。"
   ]
  }
 ],
 "metadata": {
  "kernelspec": {
   "display_name": "Python 3",
   "language": "python",
   "name": "python3"
  },
  "language_info": {
   "codemirror_mode": {
    "name": "ipython",
    "version": 3
   },
   "file_extension": ".py",
   "mimetype": "text/x-python",
   "name": "python",
   "nbconvert_exporter": "python",
   "pygments_lexer": "ipython3",
   "version": "3.6.4"
  }
 },
 "nbformat": 4,
 "nbformat_minor": 2
}
