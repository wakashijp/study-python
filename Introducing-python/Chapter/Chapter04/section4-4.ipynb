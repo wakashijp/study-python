{
 "cells": [
  {
   "cell_type": "markdown",
   "metadata": {},
   "source": [
    "# 4章 Pyの皮：コード構造\n",
    "---\n",
    "1章から3章までではさまざまなデータの例を見てきたが、データを使って大したことはまだ何もしていない。ほとんどのコード例は、対話型インタプリタを使っており、短かった。しかし、ここからはただのデータを見ているだけではなく、データを処理するPythonコードを実装していく。\n",
    "\n",
    "Pythonは**空白**を使ってプログラムの構造を定義するという点で普通の言語とは大きく異なる。これは、新人が最初に気づくことのひとつで、ほかの言語の経験がある人にとっては奇妙に感じられるようだ。しかし、しばらくPythonを書いていると、このやり方が自然に感じられるようになり、いちいち意識しなくなる。タイピングが減った分、多くの仕事をするようにさえなってしまう。"
   ]
  },
  {
   "cell_type": "markdown",
   "metadata": {},
   "source": [
    "## 4.4 whileによる反復処理\n",
    "---\n",
    "if、elif、elseによるテストは、上から下に進む。しかし、同じことを2回以上行わなければならないことが時々ある。そのようなときに必要なのは**ループ**だ。\n",
    "\n",
    "Pythonでもっとも単純なループのメカニズムはwhileである。対話型インタプリタを使って次の例を試してみる。これは1から5までの数値を表示する単純なループだ。\n",
    "\n",
    "例：\n",
    "**1から5までの数値を表示するループ**"
   ]
  },
  {
   "cell_type": "code",
   "execution_count": 1,
   "metadata": {},
   "outputs": [
    {
     "name": "stdout",
     "output_type": "stream",
     "text": [
      "1\n",
      "2\n",
      "3\n",
      "4\n",
      "5\n"
     ]
    }
   ],
   "source": [
    "count = 1\n",
    "while count <= 5:\n",
    "    print(count)\n",
    "    count += 1"
   ]
  },
  {
   "cell_type": "markdown",
   "metadata": {},
   "source": [
    "まず、countに1を代入している。そして、whileループは、countと5を比較しており、countが5以下ならループを続ける。ループ内では、countの値を表示してから、count += 1文でcountを1ずつ**インクリメント**（加算）する。Pythonは、ループの先頭に戻って再びcountと5を比較する。countの値は2になっているが、5以下なので、再びwhileループが実行され、countはインクリメントされて3になる。\n",
    "\n",
    "countがループの最後の行で5から6にインクリメントされるまで、これが続く。countが6になってから最初の行に戻ると、count <= 5が今度はFalseになり、whileループは終了する。Pythonは、その次の行に移動する。"
   ]
  },
  {
   "cell_type": "markdown",
   "metadata": {},
   "source": [
    "### 4.4.1 breakによるループ中止\n",
    "---\n",
    "何かが起きるまでループを続けたいが、それがいつ起きるかがはっきりわからない場合には、break文を持つ**無限ループ**が使える。次のコードは、Pythonのinput()関数を使ってキーボードから入力行を読み出し、最初の文字を大文字に変換して入力行を表示する。。そして、qだけの行を読み込んだらループを終了する。\n",
    "\n",
    "例：\n",
    "**break文を持つ無限ループ**"
   ]
  },
  {
   "cell_type": "code",
   "execution_count": 6,
   "metadata": {},
   "outputs": [
    {
     "name": "stdout",
     "output_type": "stream",
     "text": [
      "Test\n"
     ]
    }
   ],
   "source": [
    "while True:\n",
    "    stuff = input(\"String to capitalize [type q to quit]: \")\n",
    "    if stuff == \"q\":\n",
    "        break\n",
    "    print(stuff.capitalize())"
   ]
  },
  {
   "cell_type": "markdown",
   "metadata": {},
   "source": [
    "### 4.4.2 continueによる次のイテレーションの開始\n",
    "---\n",
    "何らかの理由から、ループを抜け出してしまうのではなく、次のイテレーション（反復処理の1回分）をただちに始めたいという場合がある。次のサンプルはわざとらしいものだが、整数を読み、読んだ整数が奇数なら自乗し、偶数なら何もしない。コメントも加えてある。このプログラムも、qでループを終了できるようにしてある。\n",
    "\n",
    "例：\n",
    "**continueによる次のイテレーションの開始**"
   ]
  },
  {
   "cell_type": "code",
   "execution_count": 3,
   "metadata": {},
   "outputs": [
    {
     "name": "stdout",
     "output_type": "stream",
     "text": [
      "1 squared is 1\n",
      "3 squared is 9\n",
      "5 squared is 25\n"
     ]
    }
   ],
   "source": [
    "while True:\n",
    "    value = input(\"Integer, please [q to quit]: \")\n",
    "    if value == \"q\": # 終了\n",
    "        break\n",
    "    number = int(value)\n",
    "    if number % 2 == 0: # 偶数\n",
    "        continue\n",
    "    print(number, \"squared is\", number * number)\n",
    "    "
   ]
  },
  {
   "cell_type": "markdown",
   "metadata": {},
   "source": [
    "### 4.4.3 elseによるbreakのチェック\n",
    "---\n",
    "whileループが正常終了したら（breakせずに終了したら）、制御はオプションのelse節に渡される。何かをチェックするためにwhileループを書き、それが見つかったらすぐにbreakするときにこれを使う。else節は、whileループが終了したものの、探しものが見つからなかったときに実行される。\n",
    "\n",
    "例：\n",
    "**elseによるbreakのチェック**"
   ]
  },
  {
   "cell_type": "code",
   "execution_count": 4,
   "metadata": {},
   "outputs": [
    {
     "name": "stdout",
     "output_type": "stream",
     "text": [
      "No even number found\n"
     ]
    }
   ],
   "source": [
    "numbers = [1, 3, 5]\n",
    "position = 0\n",
    "while position < len(numbers):\n",
    "    _number = numbers[position]\n",
    "    if _number % 2 == 0:\n",
    "        print('Found even number', _number)\n",
    "        break\n",
    "    position += 1\n",
    "else: # breakが呼び出されていない\n",
    "    print('No even number found')"
   ]
  },
  {
   "cell_type": "markdown",
   "metadata": {},
   "source": [
    "elseのこの使い方はわかりにくいかもしれないが、**breakチェッカー**と考えるとよいだろう。"
   ]
  }
 ],
 "metadata": {
  "kernelspec": {
   "display_name": "Python 3",
   "language": "python",
   "name": "python3"
  },
  "language_info": {
   "codemirror_mode": {
    "name": "ipython",
    "version": 3
   },
   "file_extension": ".py",
   "mimetype": "text/x-python",
   "name": "python",
   "nbconvert_exporter": "python",
   "pygments_lexer": "ipython3",
   "version": "3.6.4"
  }
 },
 "nbformat": 4,
 "nbformat_minor": 2
}
