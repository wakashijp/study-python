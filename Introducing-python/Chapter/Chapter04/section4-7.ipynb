{
 "cells": [
  {
   "cell_type": "markdown",
   "metadata": {},
   "source": [
    "# 4章 Pyの皮：コード構造\n",
    "---\n",
    "1章から3章までではさまざまなデータの例を見てきたが、データを使って大したことはまだ何もしていない。ほとんどのコード例は、対話型インタプリタを使っており、短かった。しかし、ここからはただのデータを見ているだけではなく、データを処理するPythonコードを実装していく。\n",
    "\n",
    "Pythonは**空白**を使ってプログラムの構造を定義するという点で普通の言語とは大きく異なる。これは、新人が最初に気づくことのひとつで、ほかの言語の経験がある人にとっては奇妙に感じられるようだ。しかし、しばらくPythonを書いていると、このやり方が自然に感じられるようになり、いちいち意識しなくなる。タイピングが減った分、多くの仕事をするようにさえなってしまう。"
   ]
  },
  {
   "cell_type": "markdown",
   "metadata": {},
   "source": [
    "## 4.7 関数\n",
    "---\n",
    "これまでのすべてのPythonコードは、小さな断片だった。小さな仕事には、こういうコードも役に立つが、小さなコードを繰り返しタイプしたいと思う人はいない。大きなコードを管理できる部品にまとめる方法がが必要だ。\n",
    "\n",
    "コードの再利用のための第一歩は、**関数**である。関数とは、名前の付いたコードで、ほかのコードから切り離されているもののことだ。関数は任意の型、任意の個数の入力**引数**を取り、任意の型、任意の数の**結果**を出力する。\n",
    "\n",
    "プログラマは、関数に対して次のふたつのことをできる。\n",
    "\n",
    "- 関数の**定義**\n",
    "- 関数の**呼び出し**\n",
    "\n",
    "Python関数を定義するには、defと入力し、関数名を書き、関数に対する入力引数をかっこに囲んで書き、最後にコロン（:）を書く。関数名は、変数名と同じ規則に従う（先頭は英字か\\_でなければならず、英字、数字、\\_以外使えない）。\n",
    "\n",
    "一度に一歩ずつ進むことにしよう。まず、引数を取らない関数を定義して呼び出す。次に示すのは、Pythonで最も単純な関数だ。\n",
    "\n",
    "例：\n",
    "**引数を取らない関数**"
   ]
  },
  {
   "cell_type": "code",
   "execution_count": 1,
   "metadata": {},
   "outputs": [],
   "source": [
    "def do_nothing():\n",
    "    pass"
   ]
  },
  {
   "cell_type": "markdown",
   "metadata": {},
   "source": [
    "この関数のように、引数を取らない関数でも、定義のなかにはかっことコロンが必要だ。if文の下のコードをインデントするのと同じように、インデントされていなければならない。この関数が何もしないことを示すためには、pass文が必要だ。こうすると、**このページを意図的に空白にする**のと同じことになる（もう空白ではないが）。\n",
    "\n",
    "この関数を呼び出すには、名前とかっこを入力する。ここでは、名前どおり何もしない。\n",
    "\n",
    "例：\n",
    "**関数の実行**"
   ]
  },
  {
   "cell_type": "code",
   "execution_count": 2,
   "metadata": {},
   "outputs": [],
   "source": [
    "do_nothing()"
   ]
  },
  {
   "cell_type": "markdown",
   "metadata": {},
   "source": [
    "では、引数がないが1個の単語を出力する別の関数を定義して呼び出す。\n",
    "\n",
    "例：\n",
    "**引数はないが1個の単語を出力する関数**"
   ]
  },
  {
   "cell_type": "code",
   "execution_count": 3,
   "metadata": {},
   "outputs": [],
   "source": [
    "def make_a_sound():\n",
    "    print('quack')"
   ]
  },
  {
   "cell_type": "code",
   "execution_count": 4,
   "metadata": {},
   "outputs": [
    {
     "name": "stdout",
     "output_type": "stream",
     "text": [
      "quack\n"
     ]
    }
   ],
   "source": [
    "make_a_sound()"
   ]
  },
  {
   "cell_type": "markdown",
   "metadata": {},
   "source": [
    "make_a_sound()関数を呼び出すと、Pythonが定義のなかのコードを実行する。この場合は、1個の単語を出力して、メインプログラムに制御を返す。\n",
    "\n",
    "次に引数がないが値を**返す**関数を試してみる。\n",
    "\n",
    "例：\n",
    "**引数はないが値を返す関数**"
   ]
  },
  {
   "cell_type": "code",
   "execution_count": 5,
   "metadata": {},
   "outputs": [],
   "source": [
    "def agree():\n",
    "    return True"
   ]
  },
  {
   "cell_type": "markdown",
   "metadata": {},
   "source": [
    "関数を呼び出し、ifを使って戻り値をテストすることができる。\n",
    "\n",
    "例：\n",
    "**引数はないが値を返す関数**"
   ]
  },
  {
   "cell_type": "code",
   "execution_count": 6,
   "metadata": {},
   "outputs": [
    {
     "name": "stdout",
     "output_type": "stream",
     "text": [
      "Splendid!\n"
     ]
    }
   ],
   "source": [
    "if agree():\n",
    "    print('Splendid!')\n",
    "else:\n",
    "    print('That was unexpected.')"
   ]
  },
  {
   "cell_type": "markdown",
   "metadata": {},
   "source": [
    "実は、これは大きな一歩だ。ifなどの条件のテストやwhileなどのループと関数を組み合わせると、今まではできなかったことができるようになる。\n",
    "\n",
    "ここでかっこの間に何か入れてみることにしよう。anythingという1個の引数を取るecho()という関数を定義しよう。この関数は、return文を使って、anythingの値を2回、間にスペースをはさんで呼び出し元に送り返す。\n",
    "\n",
    "例：\n",
    "**引数を受取り値を返す関数**"
   ]
  },
  {
   "cell_type": "code",
   "execution_count": 7,
   "metadata": {},
   "outputs": [],
   "source": [
    "def echo(anything):\n",
    "    return anything + ' ' + anything"
   ]
  },
  {
   "cell_type": "markdown",
   "metadata": {},
   "source": [
    "では、'Rumplestiltskin'という文字列を引数としてecho()を呼び出してみる。\n",
    "\n",
    "例：\n",
    "**引数を受取り値を返す関数**"
   ]
  },
  {
   "cell_type": "code",
   "execution_count": 8,
   "metadata": {},
   "outputs": [
    {
     "data": {
      "text/plain": [
       "'Rumplestiltskin Rumplestiltskin'"
      ]
     },
     "execution_count": 8,
     "metadata": {},
     "output_type": "execute_result"
    }
   ],
   "source": [
    "echo('Rumplestiltskin')"
   ]
  },
  {
   "cell_type": "markdown",
   "metadata": {},
   "source": [
    "関数を呼び出すときに関数に渡される値も**引数**と呼ばれる。（※1）**(実)**引数を渡して関数を呼び出すとき、それらの値は関数内の対応する**（仮）**引数にコピーされる。上の例では、echo()関数は'Rumplestiltskin'という実引数とともに呼び出されている。この値は、echo()内のanythingという仮引数にコピーされ、呼び出し元に返される（間にスペースをはさんでふたつにして）。\n",
    "\n",
    "> **※1 注釈**\n",
    "> 関数定義で使われる方を**仮引数**（parameter）、呼び出し時に実際に渡される方を**実引数**（argument）と呼ぶが、英語でparameter、argumentを比較的よく使い分けるのと比べて、実引数、仮引数の使い分けは関数のこの部分の説明以外ではあまり見かけず、どちらもただ引数と呼ばれることが多い。実引数と仮引数の違いに注目していない部分では、どちらも引数と呼ぶことにする。\n",
    "\n",
    "以上の関数のサンプルはごく基本的なものだ。入力引数を受け付け、実際にその引数になんらかの処理を行う関数を書いてみよう。先程の色に対してコメントするコードに修正を加えて、colorという入力文字列引数に対するコメントを返す。呼び出し元は、返されたコメントをどう処理するかを自由に決められる。\n",
    "\n",
    "例：\n",
    "**引数を受取り値を処理する関数**"
   ]
  },
  {
   "cell_type": "code",
   "execution_count": 10,
   "metadata": {},
   "outputs": [],
   "source": [
    "def commentary(color):\n",
    "    if color == 'red':\n",
    "        return \"It's a tomato.\"\n",
    "    elif color == 'green':\n",
    "        return \"It's a green pepper.\"\n",
    "    elif color == 'bee purple':\n",
    "        return \"I don't know what it is, but only bees can see it.\"\n",
    "    else:\n",
    "        return \"I've never heard of the color \" + color + \".\""
   ]
  },
  {
   "cell_type": "markdown",
   "metadata": {},
   "source": [
    "では、'blue'という実引数とともにcommentary()関数を呼び出してみる。\n",
    "\n",
    "\\>>> comment = commentary('blue')\n",
    "\n",
    "関数は次のことを行う。\n",
    "\n",
    "- 関数内部のcolor仮引数に'blue'という値を代入する。\n",
    "- if-elif-elseのコードを実行する。\n",
    "- 文字列を返す。\n",
    "- comment変数に文字列を代入する。\n",
    "\n",
    "では、何が返されるのかを見てみる。\n",
    "\n",
    "例：\n",
    "**引数を受取り値を処理する関数**"
   ]
  },
  {
   "cell_type": "code",
   "execution_count": 12,
   "metadata": {},
   "outputs": [
    {
     "name": "stdout",
     "output_type": "stream",
     "text": [
      "I've never heard of the color blue.\n"
     ]
    }
   ],
   "source": [
    "comment = commentary('blue')\n",
    "print(comment)"
   ]
  },
  {
   "cell_type": "markdown",
   "metadata": {},
   "source": [
    "関数は、任意の型の引数をいくつでも（ゼロを含む）受け付けることができる。そして、任意の型の戻り値をいくつでも（ゼロを含む）返すことができる。関数が明示的にreturnを呼び出さなければ、呼び出し元は戻り値としてNoneを受け取る。\n",
    "\n",
    "例：\n",
    "**引数を取らず戻り値も返さない関数**"
   ]
  },
  {
   "cell_type": "code",
   "execution_count": 13,
   "metadata": {},
   "outputs": [
    {
     "name": "stdout",
     "output_type": "stream",
     "text": [
      "None\n"
     ]
    }
   ],
   "source": [
    "def do_nothing():\n",
    "    pass\n",
    "\n",
    "\n",
    "print(do_nothing())"
   ]
  },
  {
   "cell_type": "markdown",
   "metadata": {},
   "source": [
    "### Noneは役に立つ\n",
    "---\n",
    "NoneはPythonの特殊な値で、何も言うべきことがないときに使われる。\n",
    "\n",
    "Noneは、ブール値として評価すると偽になるが、ブール値のFalseと同じではない。例を見てみよう。\n",
    "\n",
    "例：\n",
    "**NoneとFalseの違い（NoneをFalseとして判定する）**"
   ]
  },
  {
   "cell_type": "code",
   "execution_count": 14,
   "metadata": {},
   "outputs": [
    {
     "name": "stdout",
     "output_type": "stream",
     "text": [
      "It's no thing\n"
     ]
    }
   ],
   "source": [
    "thing = None\n",
    "if thing:\n",
    "    print(\"It's some thing\")\n",
    "else:\n",
    "    print(\"It's no thing\")"
   ]
  },
  {
   "cell_type": "markdown",
   "metadata": {},
   "source": [
    "ブール値のFalseとNoneを区別するには、Pythonのis演算子を使えばよい。\n",
    "\n",
    "例：\n",
    "**NoneとFalseの違い（NoneとFalseを区別して判定する）**"
   ]
  },
  {
   "cell_type": "code",
   "execution_count": 15,
   "metadata": {},
   "outputs": [
    {
     "name": "stdout",
     "output_type": "stream",
     "text": [
      "It's nothing\n"
     ]
    }
   ],
   "source": [
    "thing = None\n",
    "if thing is None:\n",
    "    print(\"It's nothing\")\n",
    "else:\n",
    "    print(\"It's something\")"
   ]
  },
  {
   "cell_type": "markdown",
   "metadata": {},
   "source": [
    "これは細かい区別に感じられるかも知れないが、Pythonでは重要な意味を持つ。Noneは、「空の値」と「存在しない値」を区別するために必要なのである。\n",
    "\n",
    "ゼロの整数とfloat、空文字列（''）、空リスト（[]）、空タプル（(,)）、空辞書（{}）、空集合（set()）は、どれもFalseだが、Noneとは等しくない。\n",
    "\n",
    "引数がNoneかどうかを表示する簡単な関数を書いてみる。\n",
    "\n",
    "例：\n",
    "**引数がNoneかどうかを表示する関数**"
   ]
  },
  {
   "cell_type": "code",
   "execution_count": 18,
   "metadata": {},
   "outputs": [],
   "source": [
    "def is_none(thing):\n",
    "    if thing is None:\n",
    "        print(\"It's None\")\n",
    "    elif thing:\n",
    "        print(\"It's True\")\n",
    "    else:\n",
    "        print(\"It's False\")\n"
   ]
  },
  {
   "cell_type": "code",
   "execution_count": 19,
   "metadata": {},
   "outputs": [
    {
     "name": "stdout",
     "output_type": "stream",
     "text": [
      "It's None\n"
     ]
    }
   ],
   "source": [
    "is_none(None)"
   ]
  },
  {
   "cell_type": "code",
   "execution_count": 20,
   "metadata": {},
   "outputs": [
    {
     "name": "stdout",
     "output_type": "stream",
     "text": [
      "It's True\n"
     ]
    }
   ],
   "source": [
    "is_none(True)"
   ]
  },
  {
   "cell_type": "code",
   "execution_count": 21,
   "metadata": {},
   "outputs": [
    {
     "name": "stdout",
     "output_type": "stream",
     "text": [
      "It's False\n"
     ]
    }
   ],
   "source": [
    "is_none(False)"
   ]
  },
  {
   "cell_type": "code",
   "execution_count": 22,
   "metadata": {},
   "outputs": [
    {
     "name": "stdout",
     "output_type": "stream",
     "text": [
      "It's False\n"
     ]
    }
   ],
   "source": [
    "is_none(0)"
   ]
  },
  {
   "cell_type": "code",
   "execution_count": 23,
   "metadata": {},
   "outputs": [
    {
     "name": "stdout",
     "output_type": "stream",
     "text": [
      "It's False\n"
     ]
    }
   ],
   "source": [
    "is_none(0.0)"
   ]
  },
  {
   "cell_type": "code",
   "execution_count": 24,
   "metadata": {},
   "outputs": [
    {
     "name": "stdout",
     "output_type": "stream",
     "text": [
      "It's False\n"
     ]
    }
   ],
   "source": [
    "is_none(())"
   ]
  },
  {
   "cell_type": "code",
   "execution_count": 25,
   "metadata": {},
   "outputs": [
    {
     "name": "stdout",
     "output_type": "stream",
     "text": [
      "It's False\n"
     ]
    }
   ],
   "source": [
    "is_none([])"
   ]
  },
  {
   "cell_type": "code",
   "execution_count": 26,
   "metadata": {},
   "outputs": [
    {
     "name": "stdout",
     "output_type": "stream",
     "text": [
      "It's False\n"
     ]
    }
   ],
   "source": [
    "is_none({})"
   ]
  },
  {
   "cell_type": "code",
   "execution_count": 27,
   "metadata": {},
   "outputs": [
    {
     "name": "stdout",
     "output_type": "stream",
     "text": [
      "It's False\n"
     ]
    }
   ],
   "source": [
    "is_none(set())"
   ]
  },
  {
   "cell_type": "markdown",
   "metadata": {},
   "source": [
    "### 4.7.1 位置引数\n",
    "---\n",
    "Pythonは、関数に渡された引数の処理ということでは、一般にほかの言語の多くと比べて柔軟性が高い。もっともよく知られた引数のタイプは、先頭から順に対応する位置の仮引数にコピーされる**位置引数**である。\n",
    "\n",
    "次の関数は、位置引数から辞書を作って返す。\n",
    "\n",
    "例：\n",
    "**位置引数から辞書を作って返す関数**"
   ]
  },
  {
   "cell_type": "code",
   "execution_count": 28,
   "metadata": {},
   "outputs": [],
   "source": [
    "def menu(wine, entree, dessert):\n",
    "    return {'wine': wine, 'entree': entree, 'dessert': dessert}"
   ]
  },
  {
   "cell_type": "code",
   "execution_count": 29,
   "metadata": {},
   "outputs": [
    {
     "data": {
      "text/plain": [
       "{'dessert': 'cake', 'entree': 'chicken', 'wine': 'chardonnay'}"
      ]
     },
     "execution_count": 29,
     "metadata": {},
     "output_type": "execute_result"
    }
   ],
   "source": [
    "menu('chardonnay', 'chicken', 'cake')"
   ]
  },
  {
   "cell_type": "markdown",
   "metadata": {},
   "source": [
    "位置引数は、非常によく使われているが、個々の位置の意味を覚えておかなければならないという欠点がある。位置の意味を忘れてワインを最初の引数ではなく最後の引数として呼び出してしまうと、食事はずいぶん違うものになってしまう。\n",
    "\n",
    "例：\n",
    "**引数の位置を間違えた場合**"
   ]
  },
  {
   "cell_type": "code",
   "execution_count": 30,
   "metadata": {},
   "outputs": [
    {
     "data": {
      "text/plain": [
       "{'dessert': 'bordeaux', 'entree': 'bagel', 'wine': 'beef'}"
      ]
     },
     "execution_count": 30,
     "metadata": {},
     "output_type": "execute_result"
    }
   ],
   "source": [
    "menu('beef', 'bagel', 'bordeaux')"
   ]
  },
  {
   "cell_type": "markdown",
   "metadata": {},
   "source": [
    "### 4.7.2 キーワード引数\n",
    "---\n",
    "位置引数の混乱を避けるには、対応する仮引数の名前を指定して実引数を指定すればよい。関数定義と引数の順序が異なっていてもかまわない。\n",
    "\n",
    "例：\n",
    "**キーワード引数**"
   ]
  },
  {
   "cell_type": "code",
   "execution_count": 31,
   "metadata": {},
   "outputs": [
    {
     "data": {
      "text/plain": [
       "{'dessert': 'bagel', 'entree': 'beef', 'wine': 'bordeaux'}"
      ]
     },
     "execution_count": 31,
     "metadata": {},
     "output_type": "execute_result"
    }
   ],
   "source": [
    "menu(entree='beef', dessert='bagel', wine='bordeaux')"
   ]
  },
  {
   "cell_type": "markdown",
   "metadata": {},
   "source": [
    "位置引数とキーワード引数は併用できる。まずワインを指定してから、アントレとデザートをキーワード引数で指定してみよう。\n",
    "\n",
    "例：\n",
    "**位置引数とキーワード引数の併用**"
   ]
  },
  {
   "cell_type": "code",
   "execution_count": 32,
   "metadata": {},
   "outputs": [
    {
     "data": {
      "text/plain": [
       "{'dessert': 'flan', 'entree': 'fish', 'wine': 'frontenac'}"
      ]
     },
     "execution_count": 32,
     "metadata": {},
     "output_type": "execute_result"
    }
   ],
   "source": [
    "menu('frontenac', dessert='flan', entree='fish')"
   ]
  },
  {
   "cell_type": "markdown",
   "metadata": {},
   "source": [
    "位置引数とキーワード引数の両方を使って関数を呼び出す場合には、まず先に位置引数を指定しなければならない。"
   ]
  },
  {
   "cell_type": "markdown",
   "metadata": {},
   "source": [
    "### 4.7.3 デフォルト引数値の指定\n",
    "---\n",
    "仮引数にはデフォルト値を指定できる。このデフォルト値は、呼び出し元が対応する実引数を渡してこなかったときに使われる。このパッとしない響きの機能が、実際にはかなり役に立つ。前のサンプルを少し改造して次のように定義したとする。\n",
    "\n",
    "例：\n",
    "**デフォルト引数値の指定**"
   ]
  },
  {
   "cell_type": "code",
   "execution_count": 33,
   "metadata": {},
   "outputs": [],
   "source": [
    "def menu(wine, entree, dessert='pudding'):\n",
    "    return {'wine': wine, 'entree': entree, 'dessert': dessert}"
   ]
  },
  {
   "cell_type": "markdown",
   "metadata": {},
   "source": [
    "そして、dessert引数を指定せずにmenu()を呼び出してみる。\n",
    "\n",
    "例：\n",
    "**デフォルト引数値の指定（dessert引数をを指定しない場合）**"
   ]
  },
  {
   "cell_type": "code",
   "execution_count": 34,
   "metadata": {},
   "outputs": [
    {
     "data": {
      "text/plain": [
       "{'dessert': 'pudding', 'entree': 'chicken', 'wine': 'chardonnay'}"
      ]
     },
     "execution_count": 34,
     "metadata": {},
     "output_type": "execute_result"
    }
   ],
   "source": [
    "menu('chardonnay', 'chicken')"
   ]
  },
  {
   "cell_type": "markdown",
   "metadata": {},
   "source": [
    "引数を指定すれば、それがデフォルト値の代わりに使われる。\n",
    "\n",
    "例：\n",
    "**デフォルト引数値の指定（dessert引数を指定する場合）**"
   ]
  },
  {
   "cell_type": "code",
   "execution_count": 35,
   "metadata": {},
   "outputs": [
    {
     "data": {
      "text/plain": [
       "{'dessert': 'doughnut', 'entree': 'duck', 'wine': 'dunkelfelder'}"
      ]
     },
     "execution_count": 35,
     "metadata": {},
     "output_type": "execute_result"
    }
   ],
   "source": [
    "menu('dunkelfelder', 'duck', 'doughnut')"
   ]
  },
  {
   "cell_type": "markdown",
   "metadata": {},
   "source": [
    "> デフォルト引数の値が計算されるのは、関数が実行されたときではなく、**定義**されたときだ。新人の（そしてときどきはそれほど新人でもない）Pythonプログラマーがよく犯す誤りは、リストや辞書などのミュータブルなデータ型をデフォルト値として使ってしまうことだ。"
   ]
  },
  {
   "cell_type": "markdown",
   "metadata": {},
   "source": [
    "次のコードで、buggy()関数は、空のresultリストを毎回もらって実行されるという想定で書かれている。そして、関数はresultにあるarg引数を追加して要素が1個のリストを表示する。しかし、このコードにはバグがある。リストが空なのは、初めて呼び出されたときだけなのだ。2回目に呼び出されたとき、resultには前回の呼び出しでセットされた1個の要素がまだ残っている。\n",
    "\n",
    "例：\n",
    "**デフォルト引き数値にミュータブルなデータ型を指定した関数（バグ）**"
   ]
  },
  {
   "cell_type": "code",
   "execution_count": 36,
   "metadata": {},
   "outputs": [],
   "source": [
    "def buggy(arg, result=[]):\n",
    "    result.append(arg)\n",
    "    print(result)"
   ]
  },
  {
   "cell_type": "code",
   "execution_count": 37,
   "metadata": {},
   "outputs": [
    {
     "name": "stdout",
     "output_type": "stream",
     "text": [
      "['a']\n"
     ]
    }
   ],
   "source": [
    "buggy('a')"
   ]
  },
  {
   "cell_type": "code",
   "execution_count": 38,
   "metadata": {},
   "outputs": [
    {
     "name": "stdout",
     "output_type": "stream",
     "text": [
      "['a', 'b']\n"
     ]
    }
   ],
   "source": [
    "buggy('b')"
   ]
  },
  {
   "cell_type": "markdown",
   "metadata": {},
   "source": [
    "このコードは、次のように書いておけば正しく動作しただろう。\n",
    "\n",
    "例：\n",
    "**上記のbuggy()関数を正しく書き直した場合**"
   ]
  },
  {
   "cell_type": "code",
   "execution_count": 42,
   "metadata": {},
   "outputs": [],
   "source": [
    "def works(arg):\n",
    "    result = []\n",
    "    result.append(arg)\n",
    "    return result"
   ]
  },
  {
   "cell_type": "code",
   "execution_count": 43,
   "metadata": {},
   "outputs": [
    {
     "data": {
      "text/plain": [
       "['a']"
      ]
     },
     "execution_count": 43,
     "metadata": {},
     "output_type": "execute_result"
    }
   ],
   "source": [
    "works('a')"
   ]
  },
  {
   "cell_type": "code",
   "execution_count": 44,
   "metadata": {},
   "outputs": [
    {
     "data": {
      "text/plain": [
       "['b']"
      ]
     },
     "execution_count": 44,
     "metadata": {},
     "output_type": "execute_result"
    }
   ],
   "source": [
    "works('b')"
   ]
  },
  {
   "cell_type": "markdown",
   "metadata": {},
   "source": [
    "最初の呼び出しだということを示す別のものを渡すという方法もある。\n",
    "\n",
    "例：\n",
    "**上記のbuggy()関数を正しく書き直した場合（空リストではなくNoneを渡す）**"
   ]
  },
  {
   "cell_type": "code",
   "execution_count": 46,
   "metadata": {},
   "outputs": [],
   "source": [
    "def nonbuggy(arg, result=None):\n",
    "    if result is None:\n",
    "        result = []\n",
    "    result.append(arg)\n",
    "    print(result)"
   ]
  },
  {
   "cell_type": "code",
   "execution_count": 47,
   "metadata": {},
   "outputs": [
    {
     "name": "stdout",
     "output_type": "stream",
     "text": [
      "['a']\n"
     ]
    }
   ],
   "source": [
    "nonbuggy('a')"
   ]
  },
  {
   "cell_type": "code",
   "execution_count": 48,
   "metadata": {},
   "outputs": [
    {
     "name": "stdout",
     "output_type": "stream",
     "text": [
      "['b']\n"
     ]
    }
   ],
   "source": [
    "nonbuggy('b')"
   ]
  },
  {
   "cell_type": "markdown",
   "metadata": {},
   "source": [
    "### 4.7.4 \\*による位置引数のタプル化\n",
    "---\n",
    "C、C++プログラミングの経験があるプログラマーは、Pythonプログラムの\\*（アスタリスク）にもポインタと関連する意味があるだろうと思うだろう。しかし、Pythonにはポインタはない。\n",
    "\n",
    "関数定義のなかで仮引数の一部として\\*を使うと、可変個の位置引数をタプルにまとめてその仮引数にセットする。次の例では、print_args()関数に渡された実引数から作ったタプルをargs仮引数にセットしている。\n",
    "\n",
    "例：\n",
    "**\\*による位置引数のタプル化**"
   ]
  },
  {
   "cell_type": "code",
   "execution_count": 53,
   "metadata": {},
   "outputs": [],
   "source": [
    "def print_args(*args):\n",
    "    print('Positional argument tuple:', args)"
   ]
  },
  {
   "cell_type": "markdown",
   "metadata": {},
   "source": [
    "実引数なしで呼び出すと、\\*argsには何も入らない。\n",
    "\n",
    "例：\n",
    "**print_args()関数の実行（実引数なし）**"
   ]
  },
  {
   "cell_type": "code",
   "execution_count": 54,
   "metadata": {},
   "outputs": [
    {
     "name": "stdout",
     "output_type": "stream",
     "text": [
      "Positional argument tuple: ()\n"
     ]
    }
   ],
   "source": [
    "print_args()"
   ]
  },
  {
   "cell_type": "markdown",
   "metadata": {},
   "source": [
    "渡した位置引数はどのようなものであれargsタプルとして表示される。\n",
    "\n",
    "例：\n",
    "**print_args()関数の実行（実引数あり）**"
   ]
  },
  {
   "cell_type": "code",
   "execution_count": 55,
   "metadata": {},
   "outputs": [
    {
     "name": "stdout",
     "output_type": "stream",
     "text": [
      "Positional argument tuple: (3, 2, 1, 'wait!', 'uh...')\n"
     ]
    }
   ],
   "source": [
    "print_args(3, 2, 1, 'wait!', 'uh...')"
   ]
  },
  {
   "cell_type": "markdown",
   "metadata": {},
   "source": [
    "この機能は、print()のように可変個の実引数を受け付ける関数を書く時に役に立つ。必須の位置引数がある場合には、位置引数の最後に\\*argsを書くと、必須引数以外のすべての位置引数をひとつにまとめることができる。\n",
    "\n",
    "例：\n",
    "**位置引数の最後に\\*argsを使う**"
   ]
  },
  {
   "cell_type": "code",
   "execution_count": 58,
   "metadata": {},
   "outputs": [],
   "source": [
    "def print_more(required1, required2, *args):\n",
    "    print('Need this one:', required1)\n",
    "    print('Need this one too:', required2)\n",
    "    print('All the rest:', args)"
   ]
  },
  {
   "cell_type": "markdown",
   "metadata": {},
   "source": [
    "渡した位置引数はどのようなものであれargsタプルとして表示される。\n",
    "\n",
    "例：\n",
    "**位置引数の最後に\\*argsを使う**"
   ]
  },
  {
   "cell_type": "code",
   "execution_count": 59,
   "metadata": {},
   "outputs": [
    {
     "name": "stdout",
     "output_type": "stream",
     "text": [
      "Need this one: cap\n",
      "Need this one too: gloves\n",
      "All the rest: ('scarf', 'monocle', 'mustache wax')\n"
     ]
    }
   ],
   "source": [
    "print_more('cap', 'gloves', 'scarf', 'monocle', 'mustache wax')"
   ]
  },
  {
   "cell_type": "markdown",
   "metadata": {},
   "source": [
    "\\*を使うときにタプル仮引数をargsと呼ぶ必要は特にないが、Pythonコミュニティでは一般的な慣習となっている。"
   ]
  },
  {
   "cell_type": "markdown",
   "metadata": {},
   "source": [
    "### 4.7.5 \\**によるキーワード引数の辞書化\n",
    "---\n",
    "ふたつのアスタリスク（\\**）を使えば、キーワード引数を1個の辞書にまとめることができる。引数の名前は辞書のキー、引数の値は辞書の値になる。次の例は、キーワード引数を表示するprint_kwargs()関数を定義している。\n",
    "\n",
    "例：\n",
    "**\\*\\*によるキーワード引数の辞書化**"
   ]
  },
  {
   "cell_type": "code",
   "execution_count": 60,
   "metadata": {},
   "outputs": [],
   "source": [
    "def print_kwargs(**kwargs):\n",
    "    print('Keyword arguments:', kwargs)"
   ]
  },
  {
   "cell_type": "markdown",
   "metadata": {},
   "source": [
    "では、いくつかキーワード引数を付けてこの関数を呼び出してみよう。\n",
    "\n",
    "例：\n",
    "**\\*\\*によるキーワード引数の辞書化**"
   ]
  },
  {
   "cell_type": "code",
   "execution_count": 61,
   "metadata": {},
   "outputs": [
    {
     "name": "stdout",
     "output_type": "stream",
     "text": [
      "Keyword arguments: {'wine': 'merlot', 'entree': 'mutton', 'dessert': 'macaroon'}\n"
     ]
    }
   ],
   "source": [
    "print_kwargs(wine='merlot', entree='mutton', dessert='macaroon')"
   ]
  },
  {
   "cell_type": "markdown",
   "metadata": {},
   "source": [
    "関数内では、kwargsは辞書である。\n",
    "\n",
    "位置引数をまとめる\\*argsと\\*\\*kwargsを併用する場合、このふたつはこの順序で並べなければならない。argsと同様に、この引数をkwargsと呼ぶ必要はないが、一般にこの名前が使われている。"
   ]
  },
  {
   "cell_type": "markdown",
   "metadata": {},
   "source": [
    "### 4.7.6 docstring\n",
    "---\n",
    "Python公案は、「読みやすさは大切だ」と言っている。関数本体の先頭に文字列を組み込めば、関数定義にドキュメントを付けることができる。これを関数の**docstring**と呼ぶ。\n",
    "\n",
    "例：\n",
    "**docstring**"
   ]
  },
  {
   "cell_type": "code",
   "execution_count": 62,
   "metadata": {},
   "outputs": [],
   "source": [
    "def echo(anything):\n",
    "    'echoは、与えられた入力引数を返す'\n",
    "    return anything"
   ]
  },
  {
   "cell_type": "markdown",
   "metadata": {},
   "source": [
    "好み次第だが、次のようにすれば、docstringを非常に長いものにして、バラエティ豊かな書式整形を施すことができる。\n",
    "\n",
    "例：\n",
    "**docstring**"
   ]
  },
  {
   "cell_type": "code",
   "execution_count": 66,
   "metadata": {},
   "outputs": [],
   "source": [
    "def print_if_true(thing, check):\n",
    "    '''\n",
    "    第2引数が真なら、第1引数を表示する\n",
    "    処理内容：\n",
    "        1．*第2*引数が真かどうかチェックする。\n",
    "        2. 真なら*第1*引数を表示する。\n",
    "    '''\n",
    "    if check:\n",
    "        print(thing)\n"
   ]
  },
  {
   "cell_type": "markdown",
   "metadata": {},
   "source": [
    "関数のdocstringを表示するには、Pythonのhelp()関数を呼び出す。関数名を渡すと、引数リストとともに、きれいに整形されたdocstringが返される。\n",
    "\n",
    "例：\n",
    "**help()を使ってdocstringを表示する**"
   ]
  },
  {
   "cell_type": "code",
   "execution_count": 68,
   "metadata": {},
   "outputs": [
    {
     "name": "stdout",
     "output_type": "stream",
     "text": [
      "Help on function echo in module __main__:\n",
      "\n",
      "echo(anything)\n",
      "    echoは、与えられた入力引数を返す\n",
      "\n"
     ]
    }
   ],
   "source": [
    "help(echo)"
   ]
  },
  {
   "cell_type": "markdown",
   "metadata": {},
   "source": [
    "整形前の素のままのdocstringを見たい場合には、次のようにする。\n",
    "\n",
    "例：\n",
    "**\\_\\_doc\\_\\_を使ってdocstringを表示する**"
   ]
  },
  {
   "cell_type": "code",
   "execution_count": 70,
   "metadata": {},
   "outputs": [
    {
     "name": "stdout",
     "output_type": "stream",
     "text": [
      "echoは、与えられた入力引数を返す\n"
     ]
    }
   ],
   "source": [
    "print(echo.__doc__)"
   ]
  },
  {
   "cell_type": "markdown",
   "metadata": {},
   "source": [
    "\\_\\_doc\\_\\_というちょっと変な感じに見えるものは、関数内の変数としてのdocstringの名前だ。「4.10.1 名前のなかの\\_と\\_\\_の用途」では、これらのアンダースコアの意味を説明する。"
   ]
  },
  {
   "cell_type": "markdown",
   "metadata": {},
   "source": [
    "### 4.7.7 一人前のオブジェクトとしての関数\n",
    "---\n",
    "Pythonでは、**すべてのものがオブジェクト**だということについてはすでに触れた。ここで言うすべてのものには、数値、文字列、タプル、リスト、辞書などが含まれる。そして、関数もだ。関数は、Pythonでは一人前のオブジェクトである。変数に関数を代入したり、ほかの関数の引数として関数を使ったり、関数からの戻り値として関数を返したりできる。そのおかげで、ほかの多くの言語では難しいか不可能なことをPythonでは行える。\n",
    "\n",
    "これをテストするためには、answer()という簡単な関数を定義しよう。この関数は引数を取らず、単に42という数値を表示する。\n",
    "\n",
    "例：\n",
    "**関数を引数とする関数**"
   ]
  },
  {
   "cell_type": "code",
   "execution_count": 71,
   "metadata": {},
   "outputs": [],
   "source": [
    "def answer():\n",
    "    print(42)"
   ]
  },
  {
   "cell_type": "markdown",
   "metadata": {},
   "source": [
    "この関数を実行すると、どうなるかはわかる。\n",
    "\n",
    "例：\n",
    "**関数を引数とする関数**"
   ]
  },
  {
   "cell_type": "code",
   "execution_count": 72,
   "metadata": {},
   "outputs": [
    {
     "name": "stdout",
     "output_type": "stream",
     "text": [
      "42\n"
     ]
    }
   ],
   "source": [
    "answer()"
   ]
  },
  {
   "cell_type": "markdown",
   "metadata": {},
   "source": [
    "次に、run_somethingという名前の別の関数を定義しよう。この関数は、実行する関数を示すfuncという名前の引数を取る。run_somthingは、渡されたfuncを呼び出す。\n",
    "\n",
    "例：\n",
    "**関数を引数とする関数**"
   ]
  },
  {
   "cell_type": "code",
   "execution_count": 73,
   "metadata": {},
   "outputs": [],
   "source": [
    "def run_something(func):\n",
    "    func()"
   ]
  },
  {
   "cell_type": "markdown",
   "metadata": {},
   "source": [
    "run_something()にanswerを渡すと、ほかのデータ型と同様に、関数をデータとして使っていることになる。\n",
    "\n",
    "例：\n",
    "**関数を引数とする関数**"
   ]
  },
  {
   "cell_type": "code",
   "execution_count": 74,
   "metadata": {},
   "outputs": [
    {
     "name": "stdout",
     "output_type": "stream",
     "text": [
      "42\n"
     ]
    }
   ],
   "source": [
    "run_something(answer)"
   ]
  },
  {
   "cell_type": "markdown",
   "metadata": {},
   "source": [
    "answer()ではなく、answerを渡したことに注意しよう。Pythonでは、このかっこは**関数呼び出し**を意味する。かっこがなければ、Pythonは関数をほかのオブジェクトと同じように扱う。それは、Pythonではほかのすべてのものと同様に、関数も**オブジェクト**だからだ。\n",
    "\n",
    "例：\n",
    "**type()を使って関数のタイプを調べる**"
   ]
  },
  {
   "cell_type": "code",
   "execution_count": 75,
   "metadata": {},
   "outputs": [
    {
     "data": {
      "text/plain": [
       "function"
      ]
     },
     "execution_count": 75,
     "metadata": {},
     "output_type": "execute_result"
    }
   ],
   "source": [
    "type(run_something)"
   ]
  },
  {
   "cell_type": "markdown",
   "metadata": {},
   "source": [
    "では、引数を渡して関数を実行してみよう。arg1、arg2というふたつの数値引数の和を表示するadd_args()を定義する。\n",
    "\n",
    "例："
   ]
  },
  {
   "cell_type": "code",
   "execution_count": 76,
   "metadata": {},
   "outputs": [],
   "source": [
    "def add_args(arg1, arg2):\n",
    "    print(arg1 + arg2)"
   ]
  },
  {
   "cell_type": "markdown",
   "metadata": {},
   "source": [
    "そして、add_argsとは何なのだろうか。\n",
    "\n",
    "例："
   ]
  },
  {
   "cell_type": "code",
   "execution_count": 77,
   "metadata": {},
   "outputs": [
    {
     "data": {
      "text/plain": [
       "function"
      ]
     },
     "execution_count": 77,
     "metadata": {},
     "output_type": "execute_result"
    }
   ],
   "source": [
    "type(add_args)"
   ]
  },
  {
   "cell_type": "markdown",
   "metadata": {},
   "source": [
    "ここで、次の3つの引数を取るrun_something_with_args()という関数を定義しよう。\n",
    "\n",
    "func：実行する関数。  \n",
    "arg1：funcの第1引数  \n",
    "arg2：funcの第2引数  \n",
    "\n",
    "例："
   ]
  },
  {
   "cell_type": "code",
   "execution_count": 78,
   "metadata": {},
   "outputs": [],
   "source": [
    "def run_something_with_args(func, arg1, arg2):\n",
    "    func(arg1, arg2)"
   ]
  },
  {
   "cell_type": "markdown",
   "metadata": {},
   "source": [
    "run_something_with_args()では、呼び出し元からfunc引数に代入される関数が渡される。arg1とarg2の値は、そのあとに続く引数リストから得られる。そして、func(arg1, arg2)を実行すると、かっこが記述されているため、ふたつの引数を渡して関数が実行される。\n",
    "\n",
    "それでは、関数名としてadd_args、引数として5と9を渡してrun_something_with_args()を試してみる。\n",
    "\n",
    "例：\n"
   ]
  },
  {
   "cell_type": "code",
   "execution_count": 79,
   "metadata": {},
   "outputs": [
    {
     "name": "stdout",
     "output_type": "stream",
     "text": [
      "14\n"
     ]
    }
   ],
   "source": [
    "run_something_with_args(add_args, 5, 9)"
   ]
  },
  {
   "cell_type": "markdown",
   "metadata": {},
   "source": [
    "run_something_with_args()関数のなかでは、add_argsという関数名の引数がfuncに代入され、5がarg1、9がarg2に代入される。すると、次のコードが実行されることになる。\n",
    "\n",
    "add_args(5, 9)\n",
    "\n",
    "これに\\*args、\\*\\*kwargsのテクニックを組み合わせることもできる。\n",
    "\n",
    "それでは、任意の数の位置引数を取り、sum()関数でそれらの合計を計算して返すテスト関数を定義してみよう。\n",
    "\n",
    "例："
   ]
  },
  {
   "cell_type": "code",
   "execution_count": 80,
   "metadata": {},
   "outputs": [],
   "source": [
    "def sum_args(*args):\n",
    "    return sum(args)"
   ]
  },
  {
   "cell_type": "markdown",
   "metadata": {},
   "source": [
    "sum()は初めて出てくる関数だが、Pythonの組み込み関数で、イテラブルな数値（整数、float）引数に格納されている値の合計を計算する。\n",
    "\n",
    "それでは、関数と任意の数の位置引数を取る、run_with_positonal_args()という新関数を定義する。\n",
    "\n",
    "例：\n"
   ]
  },
  {
   "cell_type": "code",
   "execution_count": 81,
   "metadata": {},
   "outputs": [],
   "source": [
    "def run_with_positional_args(func, *args):\n",
    "    return func(*args)"
   ]
  },
  {
   "cell_type": "markdown",
   "metadata": {},
   "source": [
    "それでは、さらに先に進んでこれを呼びだそう。\n",
    "\n",
    "例："
   ]
  },
  {
   "cell_type": "code",
   "execution_count": 82,
   "metadata": {},
   "outputs": [
    {
     "data": {
      "text/plain": [
       "10"
      ]
     },
     "execution_count": 82,
     "metadata": {},
     "output_type": "execute_result"
    }
   ],
   "source": [
    "run_with_positional_args(sum_args, 1, 2, 3, 4)"
   ]
  },
  {
   "cell_type": "markdown",
   "metadata": {},
   "source": [
    "関数は、リスト、タプル、集合、辞書の要素として使うことができる。関数はイミュータブルなので、辞書のキーとしても使うことができる。"
   ]
  },
  {
   "cell_type": "markdown",
   "metadata": {},
   "source": [
    "### 4.7.8 関数内関数\n",
    "---\n",
    "関数をほかの関数のなかで定義することができる。\n",
    "\n",
    "例："
   ]
  },
  {
   "cell_type": "code",
   "execution_count": 83,
   "metadata": {},
   "outputs": [],
   "source": [
    "def outer(a, b):\n",
    "    def inner(c, d):\n",
    "        return c + d\n",
    "    return inner(a, b)"
   ]
  },
  {
   "cell_type": "code",
   "execution_count": 84,
   "metadata": {},
   "outputs": [
    {
     "data": {
      "text/plain": [
       "11"
      ]
     },
     "execution_count": 84,
     "metadata": {},
     "output_type": "execute_result"
    }
   ],
   "source": [
    "outer(4, 7)"
   ]
  },
  {
   "cell_type": "markdown",
   "metadata": {},
   "source": [
    "関数内関数は、ループやコードの重複を避けるために役立つ。複数回実行される複雑な処理をほかの関数で実行するのである。文字列の例を見てみよう。この関数内関数は、引数にテキストを追加する。\n",
    "\n",
    "例：\n",
    "**関数内関数**"
   ]
  },
  {
   "cell_type": "code",
   "execution_count": 85,
   "metadata": {},
   "outputs": [],
   "source": [
    "def knights(saying):\n",
    "    def inner(quote):\n",
    "        return \"We are the knights who say: '%s'\" % quote\n",
    "    return inner(saying)"
   ]
  },
  {
   "cell_type": "code",
   "execution_count": 86,
   "metadata": {},
   "outputs": [
    {
     "data": {
      "text/plain": [
       "\"We are the knights who say: 'Ni!'\""
      ]
     },
     "execution_count": 86,
     "metadata": {},
     "output_type": "execute_result"
    }
   ],
   "source": [
    "knights('Ni!')"
   ]
  },
  {
   "cell_type": "markdown",
   "metadata": {},
   "source": [
    "### 4.7.9 クロージャ\n",
    "---\n",
    "関数内関数は、**クロージャ**として機能する。クロージャとは、他の関数によって動的に生成される関数で、その関数の外で作れられた変数の値を覚えておいたり、変えたりすることができる。\n",
    "\n",
    "次の例は、先程のknights()と同じものを作る。面倒なので、新しい関数はknights2()という名前にしよう。そして、inner()関数は、inner2()というクロージャにする。違いをまとめると次のようになる。\n",
    "\n",
    "- inner2()は、引数を要求せず、外側の関数に対するsaying引数を直接使う。\n",
    "- knights2()は、inner2を呼び出すのではなく、その関数名を返す。\n",
    "\n",
    "例："
   ]
  },
  {
   "cell_type": "code",
   "execution_count": 87,
   "metadata": {},
   "outputs": [],
   "source": [
    "def knights2(saying):\n",
    "    def inner2():\n",
    "        return \"We are the knights who say: '%s'\" % saying\n",
    "    return inner2"
   ]
  },
  {
   "cell_type": "markdown",
   "metadata": {},
   "source": [
    "inner2()関数は、knight2に渡されたsayingの値を知っており、覚えている。return inner2という行は、このinner2関数のために専用のコピーを返す（しかし呼び出さない）。inner2は動的に作成された関数であり、どのように作成されたかを覚えている。これがすなわち「クロージャ」である。\n",
    "\n",
    "異なる引数を使ってknights2を2回呼び出してみる。\n",
    "\n",
    "例："
   ]
  },
  {
   "cell_type": "code",
   "execution_count": 88,
   "metadata": {},
   "outputs": [],
   "source": [
    "a = knights2('Duck')\n",
    "b = knights2('Hasenpfeffer')"
   ]
  },
  {
   "cell_type": "markdown",
   "metadata": {},
   "source": [
    "では、aとbは何だろうか。\n",
    "\n",
    "例："
   ]
  },
  {
   "cell_type": "code",
   "execution_count": 91,
   "metadata": {},
   "outputs": [
    {
     "data": {
      "text/plain": [
       "function"
      ]
     },
     "execution_count": 91,
     "metadata": {},
     "output_type": "execute_result"
    }
   ],
   "source": [
    "type(a)"
   ]
  },
  {
   "cell_type": "code",
   "execution_count": 92,
   "metadata": {},
   "outputs": [
    {
     "data": {
      "text/plain": [
       "function"
      ]
     },
     "execution_count": 92,
     "metadata": {},
     "output_type": "execute_result"
    }
   ],
   "source": [
    "type(b)"
   ]
  },
  {
   "cell_type": "markdown",
   "metadata": {},
   "source": [
    "これらは関数だが、クロージャでもある。\n",
    "\n",
    "例："
   ]
  },
  {
   "cell_type": "code",
   "execution_count": 93,
   "metadata": {},
   "outputs": [
    {
     "data": {
      "text/plain": [
       "<function __main__.knights2.<locals>.inner2>"
      ]
     },
     "execution_count": 93,
     "metadata": {},
     "output_type": "execute_result"
    }
   ],
   "source": [
    "a"
   ]
  },
  {
   "cell_type": "code",
   "execution_count": 94,
   "metadata": {},
   "outputs": [
    {
     "data": {
      "text/plain": [
       "<function __main__.knights2.<locals>.inner2>"
      ]
     },
     "execution_count": 94,
     "metadata": {},
     "output_type": "execute_result"
    }
   ],
   "source": [
    "b"
   ]
  },
  {
   "cell_type": "markdown",
   "metadata": {},
   "source": [
    "これらを呼び出すと、ふたつのクロージャはknights2に自分たちが作られたときに使われていたsayingの内容を覚えている。\n",
    "\n",
    "例："
   ]
  },
  {
   "cell_type": "code",
   "execution_count": 95,
   "metadata": {},
   "outputs": [
    {
     "data": {
      "text/plain": [
       "\"We are the knights who say: 'Duck'\""
      ]
     },
     "execution_count": 95,
     "metadata": {},
     "output_type": "execute_result"
    }
   ],
   "source": [
    "a()"
   ]
  },
  {
   "cell_type": "code",
   "execution_count": 96,
   "metadata": {},
   "outputs": [
    {
     "data": {
      "text/plain": [
       "\"We are the knights who say: 'Hasenpfeffer'\""
      ]
     },
     "execution_count": 96,
     "metadata": {},
     "output_type": "execute_result"
    }
   ],
   "source": [
    "b()"
   ]
  },
  {
   "cell_type": "markdown",
   "metadata": {},
   "source": [
    "### 4.7.10 無名関数：ラムダ関数\n",
    "---\n",
    "Pythonでは、**ラムダ**関数は、ひとつの文で表現される無名関数だ。\n",
    "\n",
    "この具体的な意味を示すために、まず通常の関数を使った例を作ってみよう。引数は次のとおりだ。\n",
    "\n",
    "words：単語のリスト。\n",
    "func：words内の個々の単語に適用される関数。\n",
    "\n",
    "例："
   ]
  },
  {
   "cell_type": "code",
   "execution_count": 97,
   "metadata": {},
   "outputs": [],
   "source": [
    "def edit_story(words, func):\n",
    "    for word in words:\n",
    "        print(func(word))\n"
   ]
  },
  {
   "cell_type": "markdown",
   "metadata": {},
   "source": [
    "この関数を試すには、単語のリストと個々の単語に適用される関数が必要だ。単語については、私の猫が（仮説的に）階段を1段踏み外したときに立てる（仮説的な）音のリストを使う。\n",
    "\n",
    "例："
   ]
  },
  {
   "cell_type": "code",
   "execution_count": 98,
   "metadata": {},
   "outputs": [],
   "source": [
    "stairs = ['thud', 'meow', 'thud', 'hiss']"
   ]
  },
  {
   "cell_type": "markdown",
   "metadata": {},
   "source": [
    "そして、関数については、ここの単語の先頭を大文字に変え、末尾に感嘆符を追加するものを作る。ネコ科向けタブロイド新聞の見出し用としてもってこいではないだろうか。\n",
    "\n",
    "例："
   ]
  },
  {
   "cell_type": "code",
   "execution_count": 101,
   "metadata": {},
   "outputs": [],
   "source": [
    "def enliven(word): # 文の衝撃力を上げる\n",
    "    return word.capitalize() + '!'"
   ]
  },
  {
   "cell_type": "markdown",
   "metadata": {},
   "source": [
    "素材を全部組み合わせてみよう。\n",
    "\n",
    "例："
   ]
  },
  {
   "cell_type": "code",
   "execution_count": 102,
   "metadata": {},
   "outputs": [
    {
     "name": "stdout",
     "output_type": "stream",
     "text": [
      "Thud!\n",
      "Meow!\n",
      "Thud!\n",
      "Hiss!\n"
     ]
    }
   ],
   "source": [
    "edit_story(stairs, enliven)"
   ]
  },
  {
   "cell_type": "markdown",
   "metadata": {},
   "source": [
    "やっとラムダの話をすることができる。enlive()関数はとても短いので、ラムダに取り替えてしまえばよい。\n",
    "\n",
    "例：\n",
    "**enliven()をラムダ関数にする**"
   ]
  },
  {
   "cell_type": "code",
   "execution_count": 103,
   "metadata": {},
   "outputs": [
    {
     "name": "stdout",
     "output_type": "stream",
     "text": [
      "Thud!\n",
      "Meow!\n",
      "Thud!\n",
      "Hiss!\n"
     ]
    }
   ],
   "source": [
    "edit_story(stairs, lambda word: word.capitalize() + '!')"
   ]
  },
  {
   "cell_type": "markdown",
   "metadata": {},
   "source": [
    "このラムダは1個の引数を取り、ここではそれをwordと呼んでいる。コロンから末尾のかっこまでの部分は、すべて関数定義である。\n",
    "\n",
    "ラムダを使うよりもenlive()のような本物の関数を使った方がコードが明確になることが多いが、ラムダを使わなければ小さな関数をいくつも作ってその名前を覚えておかなければならないような場面では、ラムダが効果的だ。特に、GUIで**コールバック関数**を定義するときにはラムダが役に立つ。実際の例は、付録Aを参照していただきたい。"
   ]
  }
 ],
 "metadata": {
  "kernelspec": {
   "display_name": "Python 3",
   "language": "python",
   "name": "python3"
  },
  "language_info": {
   "codemirror_mode": {
    "name": "ipython",
    "version": 3
   },
   "file_extension": ".py",
   "mimetype": "text/x-python",
   "name": "python",
   "nbconvert_exporter": "python",
   "pygments_lexer": "ipython3",
   "version": "3.6.4"
  }
 },
 "nbformat": 4,
 "nbformat_minor": 2
}
