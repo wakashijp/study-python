{
 "cells": [
  {
   "cell_type": "markdown",
   "metadata": {},
   "source": [
    "# 4章 Pyの皮：コード構造\n",
    "---\n",
    "1章から3章までではさまざまなデータの例を見てきたが、データを使って大したことはまだ何もしていない。ほとんどのコード例は、対話型インタプリタを使っており、短かった。しかし、ここからはただのデータを見ているだけではなく、データを処理するPythonコードを実装していく。\n",
    "\n",
    "Pythonは**空白**を使ってプログラムの構造を定義するという点で普通の言語とは大きく異なる。これは、新人が最初に気づくことのひとつで、ほかの言語の経験がある人にとっては奇妙に感じられるようだ。しかし、しばらくPythonを書いていると、このやり方が自然に感じられるようになり、いちいち意識しなくなる。タイピングが減った分、多くの仕事をするようにさえなってしまう。"
   ]
  },
  {
   "cell_type": "markdown",
   "metadata": {},
   "source": [
    "## 4.10 名前空間とスコープ\n",
    "---\n",
    "名前はどこで使われているかによって別々のものを参照することができる。Pythonプログラムは、さまざまな**名前空間**を持っている。名前空間とは、特定の名前の意味が一意に決まり、ほかの名前空間の同じ名前とは無関係になる領域のことだ。\n",
    "\n",
    "各関数は、それぞれ専用の名前空間を定義する。メインプログラムでxという変数を定義し、関数内でxという名前の別の変数を定義すると、ふたつのxは別々のものを参照する。しかし、この壁は突破できる。必要なら、さまざまな方法でほかの名前空間の名前にアクセスすることができる。\n",
    "\n",
    "プログラムのメイン部分は、**グローバル**名前空間を定義する。そのため、この名前空間の変数は、**グローバル変数**と呼ばれる。\n",
    "\n",
    "グローバル変数の値は、関数内から参照できる。\n",
    "\n",
    "例：\n",
    "**グローバル変数**"
   ]
  },
  {
   "cell_type": "code",
   "execution_count": 1,
   "metadata": {},
   "outputs": [],
   "source": [
    "animal = 'fruitbat'\n",
    "def print_global():\n",
    "    print('inside print_global:', animal)\n"
   ]
  },
  {
   "cell_type": "code",
   "execution_count": 2,
   "metadata": {},
   "outputs": [
    {
     "name": "stdout",
     "output_type": "stream",
     "text": [
      "at the top level: fruitbat\n"
     ]
    }
   ],
   "source": [
    "print('at the top level:', animal)"
   ]
  },
  {
   "cell_type": "code",
   "execution_count": 3,
   "metadata": {},
   "outputs": [
    {
     "name": "stdout",
     "output_type": "stream",
     "text": [
      "inside print_global: fruitbat\n"
     ]
    }
   ],
   "source": [
    "print_global()"
   ]
  },
  {
   "cell_type": "markdown",
   "metadata": {},
   "source": [
    "しかし、関数内でグローバル変数の値を取得し、さらに書き換えようとするとエラーが起きる。\n",
    "\n",
    "例：\n",
    "**グローバル変数を関数内で書き換えるとエラーになる**"
   ]
  },
  {
   "cell_type": "code",
   "execution_count": 8,
   "metadata": {},
   "outputs": [],
   "source": [
    "animal = 'fruitbat'\n",
    "def change_and_print_global():\n",
    "    print('inside change_and_print_global:', animal)\n",
    "    animal = 'wombat'\n",
    "    print('after the change:', animal)"
   ]
  },
  {
   "cell_type": "code",
   "execution_count": 9,
   "metadata": {},
   "outputs": [
    {
     "ename": "UnboundLocalError",
     "evalue": "local variable 'animal' referenced before assignment",
     "traceback": [
      "\u001b[0;31m---------------------------------------------------------------------------\u001b[0m",
      "\u001b[0;31mUnboundLocalError\u001b[0m                         Traceback (most recent call last)",
      "\u001b[0;32m<ipython-input-9-f8c8058a7439>\u001b[0m in \u001b[0;36m<module>\u001b[0;34m()\u001b[0m\n\u001b[0;32m----> 1\u001b[0;31m \u001b[0mchange_and_print_global\u001b[0m\u001b[0;34m(\u001b[0m\u001b[0;34m)\u001b[0m\u001b[0;34m\u001b[0m\u001b[0m\n\u001b[0m",
      "\u001b[0;32m<ipython-input-8-95f396f5c77d>\u001b[0m in \u001b[0;36mchange_and_print_global\u001b[0;34m()\u001b[0m\n\u001b[1;32m      1\u001b[0m \u001b[0manimal\u001b[0m \u001b[0;34m=\u001b[0m \u001b[0;34m'fruitbat'\u001b[0m\u001b[0;34m\u001b[0m\u001b[0m\n\u001b[1;32m      2\u001b[0m \u001b[0;32mdef\u001b[0m \u001b[0mchange_and_print_global\u001b[0m\u001b[0;34m(\u001b[0m\u001b[0;34m)\u001b[0m\u001b[0;34m:\u001b[0m\u001b[0;34m\u001b[0m\u001b[0m\n\u001b[0;32m----> 3\u001b[0;31m     \u001b[0mprint\u001b[0m\u001b[0;34m(\u001b[0m\u001b[0;34m'inside change_and_print_global:'\u001b[0m\u001b[0;34m,\u001b[0m \u001b[0manimal\u001b[0m\u001b[0;34m)\u001b[0m\u001b[0;34m\u001b[0m\u001b[0m\n\u001b[0m\u001b[1;32m      4\u001b[0m     \u001b[0manimal\u001b[0m \u001b[0;34m=\u001b[0m \u001b[0;34m'wombat'\u001b[0m\u001b[0;34m\u001b[0m\u001b[0m\n\u001b[1;32m      5\u001b[0m     \u001b[0mprint\u001b[0m\u001b[0;34m(\u001b[0m\u001b[0;34m'after the change:'\u001b[0m\u001b[0;34m,\u001b[0m \u001b[0manimal\u001b[0m\u001b[0;34m)\u001b[0m\u001b[0;34m\u001b[0m\u001b[0m\n",
      "\u001b[0;31mUnboundLocalError\u001b[0m: local variable 'animal' referenced before assignment"
     ],
     "output_type": "error"
    }
   ],
   "source": [
    "change_and_print_global()"
   ]
  },
  {
   "cell_type": "markdown",
   "metadata": {},
   "source": [
    "ここでは、同じanimalという関数内で定義された変数を書き換えようとする。しかし、そのような変数は定義されていない。\n",
    "\n",
    "例：\n",
    "**グローバル変数とローカル変数**"
   ]
  },
  {
   "cell_type": "code",
   "execution_count": 10,
   "metadata": {},
   "outputs": [],
   "source": [
    "animal = 'fruitbat'\n",
    "def change_local():\n",
    "    animal = 'wonbat'\n",
    "    print('inside change_local:', animal, id(animal))"
   ]
  },
  {
   "cell_type": "code",
   "execution_count": 11,
   "metadata": {},
   "outputs": [
    {
     "name": "stdout",
     "output_type": "stream",
     "text": [
      "inside change_local: wonbat 4440225472\n"
     ]
    }
   ],
   "source": [
    "change_local()"
   ]
  },
  {
   "cell_type": "code",
   "execution_count": 12,
   "metadata": {},
   "outputs": [
    {
     "data": {
      "text/plain": [
       "'fruitbat'"
      ]
     },
     "execution_count": 12,
     "metadata": {},
     "output_type": "execute_result"
    }
   ],
   "source": [
    "animal"
   ]
  },
  {
   "cell_type": "code",
   "execution_count": 13,
   "metadata": {},
   "outputs": [
    {
     "data": {
      "text/plain": [
       "4440101168"
      ]
     },
     "execution_count": 13,
     "metadata": {},
     "output_type": "execute_result"
    }
   ],
   "source": [
    "id(animal)"
   ]
  },
  {
   "cell_type": "markdown",
   "metadata": {},
   "source": [
    "何が起きたのだろうか。第1行は、グローバル変数のanimalに'fruitbat'という文字列を代入している。change_local()関数もanimalという変数を持っているが、その変数は関数のローカル名前空間内の存在だ。\n",
    "\n",
    "ここでPythonのid()関数を使って個々のオブジェクトに与えられる一意な値を表示しているのは、change_local()のなかのanimal変数がプログラムのメインレベルのanimal変数とは別のものだということを証明するためだ。\n",
    "\n",
    "関数内からローカル変数ではなく、グローバル変数の方にアクセスするには、globalキーワードを使ってそのことを明示しなければならない（Python公案の「暗黙より明示の方がいい」を思い出そう）。\n",
    "\n",
    "例：\n",
    "**グローバル変数とローカル変数（globalキーワード）**"
   ]
  },
  {
   "cell_type": "code",
   "execution_count": 14,
   "metadata": {},
   "outputs": [],
   "source": [
    "animal = 'fruitbat'\n",
    "def change_and_print_global():\n",
    "    global animal\n",
    "    animal = 'wonbat'\n",
    "    print('inside chonge_and_print_global:', animal)\n"
   ]
  },
  {
   "cell_type": "code",
   "execution_count": 15,
   "metadata": {},
   "outputs": [
    {
     "data": {
      "text/plain": [
       "'fruitbat'"
      ]
     },
     "execution_count": 15,
     "metadata": {},
     "output_type": "execute_result"
    }
   ],
   "source": [
    "animal"
   ]
  },
  {
   "cell_type": "code",
   "execution_count": 16,
   "metadata": {},
   "outputs": [
    {
     "name": "stdout",
     "output_type": "stream",
     "text": [
      "inside chonge_and_print_global: wonbat\n"
     ]
    }
   ],
   "source": [
    "change_and_print_global()"
   ]
  },
  {
   "cell_type": "code",
   "execution_count": 17,
   "metadata": {},
   "outputs": [
    {
     "data": {
      "text/plain": [
       "'wonbat'"
      ]
     },
     "execution_count": 17,
     "metadata": {},
     "output_type": "execute_result"
    }
   ],
   "source": [
    "animal"
   ]
  },
  {
   "cell_type": "markdown",
   "metadata": {},
   "source": [
    "関数内でglobalと書かなければ、Pythonはローカル名前空間を使い、animal変数はローカルになる。関数が終わったら、ローカル変数は消えてなくなる。\n",
    "\n",
    "Pythonは、名前空間の内容にアクセスするための関数をふたつ用意している。\n",
    "\n",
    "- locals()は、ローカル名前空間の内容を示す辞書を返す。\n",
    "- globals()は、グローバル名前空間の内容を示す辞書を返す。\n",
    "\n",
    "ふたつの辞書は、次のようにして使う。\n",
    "\n",
    "例：\n",
    "**locals()とglobals()**"
   ]
  },
  {
   "cell_type": "code",
   "execution_count": 18,
   "metadata": {},
   "outputs": [],
   "source": [
    "animal = 'fruitbat'\n",
    "def change_local():\n",
    "    animal = 'wonbat' # ローカル変数\n",
    "    print('locals:', locals())\n"
   ]
  },
  {
   "cell_type": "code",
   "execution_count": 19,
   "metadata": {},
   "outputs": [
    {
     "data": {
      "text/plain": [
       "'fruitbat'"
      ]
     },
     "execution_count": 19,
     "metadata": {},
     "output_type": "execute_result"
    }
   ],
   "source": [
    "animal"
   ]
  },
  {
   "cell_type": "code",
   "execution_count": 20,
   "metadata": {},
   "outputs": [
    {
     "name": "stdout",
     "output_type": "stream",
     "text": [
      "locals: {'animal': 'wonbat'}\n"
     ]
    }
   ],
   "source": [
    "change_local()"
   ]
  },
  {
   "cell_type": "code",
   "execution_count": 21,
   "metadata": {},
   "outputs": [
    {
     "name": "stdout",
     "output_type": "stream",
     "text": [
      "globals: {'__name__': '__main__', '__doc__': 'Automatically created module for IPython interactive environment', '__package__': None, '__loader__': None, '__spec__': None, '__builtin__': <module 'builtins' (built-in)>, '__builtins__': <module 'builtins' (built-in)>, '_ih': ['', \"animal = 'fruitbat'\\ndef print_global():\\n    print('inside print_global:', animal)\", \"print('at the top level:', animal)\", 'print_global()', \"animal = 'fruitbat'\\ndef change_and_print_global():\\n    print('inside change_and_print_global:', animal)\\n    animal = 'wombat'\\n    print('after the change:', animal)\", 'change_and_print_global()', \"animal = 'fruitbat'\\ndef change_and_print_global():\\n    print('inside change_and_print_global:', animal)\\n    _animal = 'wombat'\\n    print('after the change:', _animal)\", 'change_and_print_global()', \"animal = 'fruitbat'\\ndef change_and_print_global():\\n    print('inside change_and_print_global:', animal)\\n    animal = 'wombat'\\n    print('after the change:', animal)\", 'change_and_print_global()', \"animal = 'fruitbat'\\ndef change_local():\\n    animal = 'wonbat'\\n    print('inside change_local:', animal, id(animal))\", 'change_local()', 'animal', 'id(animal)', \"animal = 'fruitbat'\\ndef change_and_print_global():\\n    global animal\\n    animal = 'wonbat'\\n    print('inside chonge_and_print_global:', animal)\", 'animal', 'change_and_print_global()', 'animal', \"animal = 'fruitbat'\\ndef change_local():\\n    animal = 'wonbat' # ローカル変数\\n    print('locals:', locals())\", 'animal', 'change_local()', \"print('globals:', globals())\"], '_oh': {12: 'fruitbat', 13: 4440101168, 15: 'fruitbat', 17: 'wonbat', 19: 'fruitbat'}, '_dh': ['/Users/m/AnacondaProjects/study-python/Introducing-python/Chapter/Chapter04'], 'In': ['', \"animal = 'fruitbat'\\ndef print_global():\\n    print('inside print_global:', animal)\", \"print('at the top level:', animal)\", 'print_global()', \"animal = 'fruitbat'\\ndef change_and_print_global():\\n    print('inside change_and_print_global:', animal)\\n    animal = 'wombat'\\n    print('after the change:', animal)\", 'change_and_print_global()', \"animal = 'fruitbat'\\ndef change_and_print_global():\\n    print('inside change_and_print_global:', animal)\\n    _animal = 'wombat'\\n    print('after the change:', _animal)\", 'change_and_print_global()', \"animal = 'fruitbat'\\ndef change_and_print_global():\\n    print('inside change_and_print_global:', animal)\\n    animal = 'wombat'\\n    print('after the change:', animal)\", 'change_and_print_global()', \"animal = 'fruitbat'\\ndef change_local():\\n    animal = 'wonbat'\\n    print('inside change_local:', animal, id(animal))\", 'change_local()', 'animal', 'id(animal)', \"animal = 'fruitbat'\\ndef change_and_print_global():\\n    global animal\\n    animal = 'wonbat'\\n    print('inside chonge_and_print_global:', animal)\", 'animal', 'change_and_print_global()', 'animal', \"animal = 'fruitbat'\\ndef change_local():\\n    animal = 'wonbat' # ローカル変数\\n    print('locals:', locals())\", 'animal', 'change_local()', \"print('globals:', globals())\"], 'Out': {12: 'fruitbat', 13: 4440101168, 15: 'fruitbat', 17: 'wonbat', 19: 'fruitbat'}, 'get_ipython': <bound method InteractiveShell.get_ipython of <ipykernel.zmqshell.ZMQInteractiveShell object at 0x108929198>>, 'exit': <IPython.core.autocall.ZMQExitAutocall object at 0x108977ef0>, 'quit': <IPython.core.autocall.ZMQExitAutocall object at 0x108977ef0>, '_': 'fruitbat', '__': 'wonbat', '___': 'fruitbat', '_i': 'change_local()', '_ii': 'animal', '_iii': \"animal = 'fruitbat'\\ndef change_local():\\n    animal = 'wonbat' # ローカル変数\\n    print('locals:', locals())\", '_i1': \"animal = 'fruitbat'\\ndef print_global():\\n    print('inside print_global:', animal)\", 'animal': 'fruitbat', 'print_global': <function print_global at 0x108a5d598>, '_i2': \"print('at the top level:', animal)\", '_i3': 'print_global()', '_i4': \"animal = 'fruitbat'\\ndef change_and_print_global():\\n    print('inside change_and_print_global:', animal)\\n    animal = 'wombat'\\n    print('after the change:', animal)\", 'change_and_print_global': <function change_and_print_global at 0x108ad8a60>, '_i5': 'change_and_print_global()', '_i6': \"animal = 'fruitbat'\\ndef change_and_print_global():\\n    print('inside change_and_print_global:', animal)\\n    _animal = 'wombat'\\n    print('after the change:', _animal)\", '_i7': 'change_and_print_global()', '_i8': \"animal = 'fruitbat'\\ndef change_and_print_global():\\n    print('inside change_and_print_global:', animal)\\n    animal = 'wombat'\\n    print('after the change:', animal)\", '_i9': 'change_and_print_global()', '_i10': \"animal = 'fruitbat'\\ndef change_local():\\n    animal = 'wonbat'\\n    print('inside change_local:', animal, id(animal))\", 'change_local': <function change_local at 0x108ad8d90>, '_i11': 'change_local()', '_i12': 'animal', '_12': 'fruitbat', '_i13': 'id(animal)', '_13': 4440101168, '_i14': \"animal = 'fruitbat'\\ndef change_and_print_global():\\n    global animal\\n    animal = 'wonbat'\\n    print('inside chonge_and_print_global:', animal)\", '_i15': 'animal', '_15': 'fruitbat', '_i16': 'change_and_print_global()', '_i17': 'animal', '_17': 'wonbat', '_i18': \"animal = 'fruitbat'\\ndef change_local():\\n    animal = 'wonbat' # ローカル変数\\n    print('locals:', locals())\", '_i19': 'animal', '_19': 'fruitbat', '_i20': 'change_local()', '_i21': \"print('globals:', globals())\"}\n"
     ]
    }
   ],
   "source": [
    "print('globals:', globals())"
   ]
  },
  {
   "cell_type": "code",
   "execution_count": 22,
   "metadata": {},
   "outputs": [
    {
     "data": {
      "text/plain": [
       "'fruitbat'"
      ]
     },
     "execution_count": 22,
     "metadata": {},
     "output_type": "execute_result"
    }
   ],
   "source": [
    "animal"
   ]
  },
  {
   "cell_type": "markdown",
   "metadata": {},
   "source": [
    "change_local()のローカル名前空間には、animalローカル変数しか含まれていないが、グローバルな前空間には、別のanimalグローバル変数以外にもいくつか変数が含まれている。"
   ]
  }
 ],
 "metadata": {
  "kernelspec": {
   "display_name": "Python 3",
   "language": "python",
   "name": "python3"
  },
  "language_info": {
   "codemirror_mode": {
    "name": "ipython",
    "version": 3
   },
   "file_extension": ".py",
   "mimetype": "text/x-python",
   "name": "python",
   "nbconvert_exporter": "python",
   "pygments_lexer": "ipython3",
   "version": "3.6.4"
  }
 },
 "nbformat": 4,
 "nbformat_minor": 2
}
