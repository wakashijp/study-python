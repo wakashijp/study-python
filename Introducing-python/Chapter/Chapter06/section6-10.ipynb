{
 "cells": [
  {
   "cell_type": "markdown",
   "metadata": {},
   "source": [
    "# 6章 オブジェクトとクラス\n",
    "---\n",
    "今までの部分では、文字列や辞書などのデータ構造と関数やモジュールなどのコード構造を見てきた。この章では、**オブジェクト**というカスタムデータ構造を扱う。"
   ]
  },
  {
   "cell_type": "markdown",
   "metadata": {},
   "source": [
    "## 6.10 メソッドのタイプ\n",
    "---\n",
    "一部のデータ（**属性**）と関数（**メソッド**）はクラス自体の一部であり、それ以外のデータと関数がクラスから作られたオブジェクトの一部となっている。\n",
    "\n",
    "クラス定義のなかでメソッドの第1引数がselfになっていたら、それは**インスタンスメソッド**だ。これは、独自クラスを作るときに普通書くタイプのメソッドである。インスタンスメソッドの第1引数はselfであり、メソッドが呼び出されるとPythonはメソッドにオブジェクトを与える。\n",
    "\n",
    "それに対し、**クラスメソッド**はクラス全体に影響を与える。クラスに加えた変更は、すべてのオブジェクトに影響を与える。クラス定義のなかで、@classmethodというデコレータを入れると、その次の関数はクラスメソッドになる。また、メソッドの第1引数は、クラス全体になる。Pythonの伝統では、この引数をclsと呼ぶことになっているが、それはclassが予約語でこのような場面では使えないからだ。それでは、Aクラスのために、何個のオブジェクトインスタンスが作られたかを数えるクラスメソッドを定義してみよう。\n"
   ]
  },
  {
   "cell_type": "code",
   "execution_count": 1,
   "metadata": {},
   "outputs": [],
   "source": [
    "class A():\n",
    "    count = 0\n",
    "    \n",
    "    def __init__(self):\n",
    "        A.count += 1\n",
    "    \n",
    "    def exclaim(self):\n",
    "        print(\"I'm an A!\")\n",
    "    \n",
    "    @classmethod\n",
    "    def kids(cls):\n",
    "        print(\"A has\", cls.count, \"little objects.\")"
   ]
  },
  {
   "cell_type": "code",
   "execution_count": 2,
   "metadata": {},
   "outputs": [
    {
     "name": "stdout",
     "output_type": "stream",
     "text": [
      "A has 3 little objects.\n"
     ]
    }
   ],
   "source": [
    "easy_a = A()\n",
    "breezy_a = A()\n",
    "wheezy_a = A()\n",
    "A.kids()"
   ]
  },
  {
   "cell_type": "markdown",
   "metadata": {},
   "source": [
    "self.count（これでは、オブジェクトインスタンスの属性になってしまう）ではなく、A.count（クラス属性）を参照していることに注意しよう。kids()メソッドのなかではcls.countを使ったが、A.countを使ってもよかったところだ。\n",
    "\n",
    "クラス定義に含まれる第3のタイプのメソッドは、クラスにもオブジェクトにも影響を与えない。独立した存在としてふらふらしているよりも都合がいいのでクラス定義のなかにいるだけだ。それは、@staticmethodデコレータを付けた**静的メソッド**である。静的メソッドは、第1引数としてselfやclsを取らない。\n",
    "\n",
    "次に示すのは、CoyoteWeaponクラスの宣伝として静的メソッドを使っている例だ。"
   ]
  },
  {
   "cell_type": "code",
   "execution_count": 3,
   "metadata": {},
   "outputs": [],
   "source": [
    "class CoyoteWeapon():\n",
    "    @staticmethod\n",
    "    def commercial():\n",
    "        print(\"This CoyoteWeapon has been brought to you by Acme.\")\n"
   ]
  },
  {
   "cell_type": "code",
   "execution_count": 4,
   "metadata": {},
   "outputs": [
    {
     "name": "stdout",
     "output_type": "stream",
     "text": [
      "This CoyoteWeapon has been brought to you by Acme.\n"
     ]
    }
   ],
   "source": [
    "CoyoteWeapon.commercial()"
   ]
  },
  {
   "cell_type": "markdown",
   "metadata": {},
   "source": [
    "このメソッドは、CoyoteWeaponクラスからオブジェクトを作らずに実行出来ることに注意しよう。"
   ]
  }
 ],
 "metadata": {
  "kernelspec": {
   "display_name": "Python 3",
   "language": "python",
   "name": "python3"
  },
  "language_info": {
   "codemirror_mode": {
    "name": "ipython",
    "version": 3
   },
   "file_extension": ".py",
   "mimetype": "text/x-python",
   "name": "python",
   "nbconvert_exporter": "python",
   "pygments_lexer": "ipython3",
   "version": "3.6.4"
  }
 },
 "nbformat": 4,
 "nbformat_minor": 2
}
