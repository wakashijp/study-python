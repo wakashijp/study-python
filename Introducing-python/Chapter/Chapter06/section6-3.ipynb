{
 "cells": [
  {
   "cell_type": "markdown",
   "metadata": {},
   "source": [
    "# 6章 オブジェクトとクラス\n",
    "---\n",
    "今までの部分では、文字列や辞書などのデータ構造と関数やモジュールなどのコード構造を見てきた。この章では、**オブジェクト**というカスタムデータ構造を扱う。"
   ]
  },
  {
   "cell_type": "markdown",
   "metadata": {},
   "source": [
    "## 6.3 継承\n",
    "---\n",
    "コーディング上の問題を解決しようとしているとき、既存のクラスで必要なことをほとんどしてくれるオブジェクトが作れそうだということがよくある。そういうときにはどうすればよいだろうか。そのクラスを書き換えてもよいが、そうするとクラスは複雑になり、今まで動いていたものを壊してしまう恐れがある。\n",
    "\n",
    "もちろん、元のクラスをコピーアンドペーストし、自分のコードに追加して新しいクラスを作ることもできる。しかし、こうするとメンテナンスしなければならないコードが増えてしまうし、新旧のクラスでまったく同じように動作していた部分が、ふたつのクラスに含まれることになるため、互いにかけ離れた処理を行うように実装されていくかもしれない。\n",
    "\n",
    "このようなときに使うべき方法は、**継承**だ。使いたい既存のクラスを指定し、追加、変更したい一部だけを定義する新しいクラスを作るのである。継承はコードの再利用を見事に実現するすばらしい方法だ。継承を使えば、新しいクラスは古いクラスのすべてのコードを切り貼りせずに自動的に利用できる。\n",
    "\n",
    "新クラスでは、追加、変更したい部分だけを定義する。するとこの定義が実際に使われ、上書きされた古いクラスの動作は使われない。これを**オーバーライド**と言う。元のクラスは**親、スーパークラス、基底クラス**、新しいクラスは**子、サブクラス、派生クラス**と呼ばれる。これらの用語はオブジェクト指向プログラミング全般で使われている。\n",
    "\n",
    "では、実際に継承してみよう。Carという空クラスを定義してから、YugoというCarのサブクラスを定義する。サブクラスは、同じclassキーワードを使って定義するが、かっこ内に親クラスの名前を入れる（下のclass Yugo(Car)のような形）。"
   ]
  },
  {
   "cell_type": "code",
   "execution_count": 1,
   "metadata": {},
   "outputs": [],
   "source": [
    "class Car():\n",
    "    pass"
   ]
  },
  {
   "cell_type": "code",
   "execution_count": 2,
   "metadata": {},
   "outputs": [],
   "source": [
    "class Yugo(Car):\n",
    "    pass"
   ]
  },
  {
   "cell_type": "markdown",
   "metadata": {},
   "source": [
    "次に、それぞれのクラスからオブジェクトを作る。"
   ]
  },
  {
   "cell_type": "code",
   "execution_count": 3,
   "metadata": {},
   "outputs": [],
   "source": [
    "give_me_a_car = Car()\n",
    "give_me_a_yugo = Yugo()"
   ]
  },
  {
   "cell_type": "markdown",
   "metadata": {},
   "source": [
    "子クラスは、親クラスを専門特化したものである。これを、オブジェクト指向の専門用語では、「YugoはCar**である**」を満たす「**である**（is-a）」関係だと言う。give_me_a_yugoオブジェクトはYugoクラスのインスタンスだが、Carができることを継承してもいる。しかしこのままでは、CarとYugoは、潜水艦の甲板と同じくらい役に立たないので、実際に何かをする新しい定義を試してみよう。"
   ]
  },
  {
   "cell_type": "code",
   "execution_count": 4,
   "metadata": {},
   "outputs": [],
   "source": [
    "class Car():\n",
    "    def exclaim(self):\n",
    "        print(\"I'm a Car!\")\n",
    "\n",
    "class Yugo(Car):\n",
    "    pass"
   ]
  },
  {
   "cell_type": "markdown",
   "metadata": {},
   "source": [
    "最後に、それぞれのクラスからオブジェクトをひとつずつ作り、exclaimメソッドを呼び出してみよう。"
   ]
  },
  {
   "cell_type": "code",
   "execution_count": 5,
   "metadata": {},
   "outputs": [],
   "source": [
    "give_me_a_car = Car()\n",
    "give_me_a_yugo = Yugo()\n"
   ]
  },
  {
   "cell_type": "code",
   "execution_count": 6,
   "metadata": {},
   "outputs": [
    {
     "name": "stdout",
     "output_type": "stream",
     "text": [
      "I'm a Car!\n"
     ]
    }
   ],
   "source": [
    "give_me_a_car.exclaim()"
   ]
  },
  {
   "cell_type": "code",
   "execution_count": 7,
   "metadata": {},
   "outputs": [
    {
     "name": "stdout",
     "output_type": "stream",
     "text": [
      "I'm a Car!\n"
     ]
    }
   ],
   "source": [
    "give_me_a_yugo.exclaim()"
   ]
  },
  {
   "cell_type": "markdown",
   "metadata": {},
   "source": [
    "特別なことは何もしていないのに、YugoはCarのexclaim()メソッドを継承している。実際に、Yugoが自分はCar**である**と言っているのである。しかし、これではアイデンティティの危機に陥りかねない。そのようなときの対処方法を見てみよう。"
   ]
  }
 ],
 "metadata": {
  "kernelspec": {
   "display_name": "Python 3",
   "language": "python",
   "name": "python3"
  },
  "language_info": {
   "codemirror_mode": {
    "name": "ipython",
    "version": 3
   },
   "file_extension": ".py",
   "mimetype": "text/x-python",
   "name": "python",
   "nbconvert_exporter": "python",
   "pygments_lexer": "ipython3",
   "version": "3.6.4"
  }
 },
 "nbformat": 4,
 "nbformat_minor": 2
}
