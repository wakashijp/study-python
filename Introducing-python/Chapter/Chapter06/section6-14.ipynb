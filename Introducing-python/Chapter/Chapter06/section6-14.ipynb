{
 "cells": [
  {
   "cell_type": "markdown",
   "metadata": {},
   "source": [
    "# 6章 オブジェクトとクラス\n",
    "---\n",
    "今までの部分では、文字列や辞書などのデータ構造と関数やモジュールなどのコード構造を見てきた。この章では、**オブジェクト**というカスタムデータ構造を扱う。"
   ]
  },
  {
   "cell_type": "markdown",
   "metadata": {},
   "source": [
    "## 6.14 モジュールではなくクラスとオブジェクトを使うべきなのはいつか\n",
    "---\n",
    "ここで、コードをクラスにまとめるか、モジュールにまとめるかを決めるためのガイドラインを示しておこう。\n",
    "\n",
    "- 動作（メソッド）は同じだが、内部状態（属性）は異なる複数のインスタンスを必要とするときには、オブジェクトがもっとも役に立つ。\n",
    "- クラスは継承をサポートするが、モジュールはサポートしない。\n",
    "- 何かをひとつだけ必要とするときには、モジュールがよい。Pythonモジュールは、プログラムに何度参照されても、1個のコピーしかロードされない（Java、C++プログラマーへ。GoF本「オブジェクト思考における再利用のためのデザインパターン」をよく知っている読者なら、Pythonモジュールは**シングルトン**として使える）。\n",
    "- 複数の値を持つ変数があり、これらを複数の関数に引数として渡せるときには、それをクラスとして定義した方がよい場合がある。たとえば、カラーイメージを表現するために、size、colorなどのキーを持つ辞書を使っていたとする。プログラム内のカラーイメージごとに別々の辞書を作り、それをscale()、transform()などの関数に引数として渡してもよいのだが、キーや関数が増えていくとごちゃごちゃしてくる。それよりも、size、colorなどの属性を持ち、scale()、transform()などのメソッドを持つImageクラスを定義した方がすっきりとする。こうすれば、カラーイメージのためのすべてのデータ、メソッドを1か所にまとめられる。\n",
    "- 問題にとってもっとも単純な方法を使う。辞書、リスト、タプルは、モジュールよりも単純で小さく高速であり、クラスよりも普通は単純だ。"
   ]
  },
  {
   "cell_type": "markdown",
   "metadata": {},
   "source": [
    "**Guidoのアドバイス**\n",
    "\n",
    "データ構造を作り込みすぎないようにしよう。オブジェクトよりもタプルの方がいい。（名前付きタプルも試してみよう）。ゲッター／セッター関数よりも単純なフィールドを選ぶようにしよう。組み込みデータ型はプログラマーの友達だ。数値、文字列、タプル、リスト、集合、辞書をもっと使おう。そしてコレクションライブラリ、特にデックをチェックしよう。\n",
    "\n",
    "[Guido van Rossum](https://plus.google.com/u/0/115212051037621986145/posts/HajXHPGN752)"
   ]
  },
  {
   "cell_type": "markdown",
   "metadata": {},
   "source": [
    "### 6.14.1 名前付きタプル\n",
    "---\n",
    "Guidoが触れた**名前付きタプル**を本書ではまだ説明していないので、ここで取り上げておこう。名前付きタプルはタプルのサブクラスで、位置（[offset]）だけでなく名前（.name）でも値にアクセスできる。\n",
    "\n",
    "前節で使ったサンプルからDuckクラスを名前付きタプルに変換してみよう。この名前付きタプルは、文字列属性としてbillとtailを持つ。namedtuple関数には、ふたつの引数を渡す。\n",
    "\n",
    "- 名前\n",
    "- 空白区切りのフィールド名の文字列\n",
    "\n",
    "名前付きタプルはPythonが自動的に供給するデータ構造ではないので、使うためにはモジュールをロードしなければならない。次のサンプルの先頭行はそれを行っている。"
   ]
  },
  {
   "cell_type": "code",
   "execution_count": 1,
   "metadata": {},
   "outputs": [
    {
     "data": {
      "text/plain": [
       "Duck(bill='wide orange', tail='long')"
      ]
     },
     "execution_count": 1,
     "metadata": {},
     "output_type": "execute_result"
    }
   ],
   "source": [
    "from collections import namedtuple\n",
    "Duck = namedtuple('Duck', 'bill tail')\n",
    "duck = Duck('wide orange', 'long')\n",
    "duck"
   ]
  },
  {
   "cell_type": "code",
   "execution_count": 2,
   "metadata": {},
   "outputs": [
    {
     "data": {
      "text/plain": [
       "'wide orange'"
      ]
     },
     "execution_count": 2,
     "metadata": {},
     "output_type": "execute_result"
    }
   ],
   "source": [
    "duck.bill"
   ]
  },
  {
   "cell_type": "code",
   "execution_count": 3,
   "metadata": {},
   "outputs": [
    {
     "data": {
      "text/plain": [
       "'long'"
      ]
     },
     "execution_count": 3,
     "metadata": {},
     "output_type": "execute_result"
    }
   ],
   "source": [
    "duck.tail"
   ]
  },
  {
   "cell_type": "markdown",
   "metadata": {},
   "source": [
    "名前付きタプルは辞書からも作れる。"
   ]
  },
  {
   "cell_type": "code",
   "execution_count": 4,
   "metadata": {},
   "outputs": [
    {
     "data": {
      "text/plain": [
       "Duck(bill='wide orange', tail='long')"
      ]
     },
     "execution_count": 4,
     "metadata": {},
     "output_type": "execute_result"
    }
   ],
   "source": [
    "parts = {'bill': 'wide orange', 'tail': 'long'}\n",
    "duck2 = Duck(**parts)\n",
    "duck2"
   ]
  },
  {
   "cell_type": "markdown",
   "metadata": {},
   "source": [
    "上のコードでは、\\*\\*partsに注意しよう。これは**キーワード引数**だ。\\*\\*partsはparts辞書のキーと値を抽出してDuck()に引数として渡す。次のように書くのと同じ意味になる。"
   ]
  },
  {
   "cell_type": "code",
   "execution_count": 5,
   "metadata": {},
   "outputs": [],
   "source": [
    "duck2 = Duck(bill = 'wide orange', tail = 'long')"
   ]
  },
  {
   "cell_type": "markdown",
   "metadata": {},
   "source": [
    "名前付きタプルはイミュータブルだが、1個以上のフィールドを交換した別の名前付きタプルを返すことはできる"
   ]
  },
  {
   "cell_type": "code",
   "execution_count": 6,
   "metadata": {},
   "outputs": [
    {
     "data": {
      "text/plain": [
       "Duck(bill='crushing', tail='magnificent')"
      ]
     },
     "execution_count": 6,
     "metadata": {},
     "output_type": "execute_result"
    }
   ],
   "source": [
    "duck3 = duck2._replace(tail='magnificent', bill='crushing')\n",
    "duck3"
   ]
  },
  {
   "cell_type": "markdown",
   "metadata": {},
   "source": [
    "duckは辞書として定義することもできただろう。"
   ]
  },
  {
   "cell_type": "code",
   "execution_count": 7,
   "metadata": {},
   "outputs": [
    {
     "data": {
      "text/plain": [
       "{'bill': 'wide orange', 'tail': 'long'}"
      ]
     },
     "execution_count": 7,
     "metadata": {},
     "output_type": "execute_result"
    }
   ],
   "source": [
    "duck_dict = {'bill': 'wide orange', 'tail': 'long'}\n",
    "duck_dict"
   ]
  },
  {
   "cell_type": "markdown",
   "metadata": {},
   "source": [
    "辞書にはフィールドを追加できる。"
   ]
  },
  {
   "cell_type": "code",
   "execution_count": 8,
   "metadata": {},
   "outputs": [
    {
     "data": {
      "text/plain": [
       "{'bill': 'wide orange', 'color': 'green', 'tail': 'long'}"
      ]
     },
     "execution_count": 8,
     "metadata": {},
     "output_type": "execute_result"
    }
   ],
   "source": [
    "duck_dict['color'] = 'green'\n",
    "duck_dict"
   ]
  },
  {
   "cell_type": "markdown",
   "metadata": {},
   "source": [
    "しかし、名前付きタプルには追加出来ない。"
   ]
  },
  {
   "cell_type": "code",
   "execution_count": 12,
   "metadata": {},
   "outputs": [
    {
     "ename": "AttributeError",
     "evalue": "'Duck' object has no attribute 'color'",
     "output_type": "error",
     "traceback": [
      "\u001b[0;31m---------------------------------------------------------------------------\u001b[0m",
      "\u001b[0;31mAttributeError\u001b[0m                            Traceback (most recent call last)",
      "\u001b[0;32m<ipython-input-12-eecc5df363d5>\u001b[0m in \u001b[0;36m<module>\u001b[0;34m()\u001b[0m\n\u001b[0;32m----> 1\u001b[0;31m \u001b[0mduck\u001b[0m\u001b[0;34m.\u001b[0m\u001b[0mcolor\u001b[0m \u001b[0;34m=\u001b[0m \u001b[0;34m'green'\u001b[0m\u001b[0;34m\u001b[0m\u001b[0m\n\u001b[0m",
      "\u001b[0;31mAttributeError\u001b[0m: 'Duck' object has no attribute 'color'"
     ]
    }
   ],
   "source": [
    "duck.color = 'green'"
   ]
  },
  {
   "cell_type": "markdown",
   "metadata": {},
   "source": [
    "以上から名前付きタプルの長所をまとめると次のようになるだろう。\n",
    "\n",
    "- イミュータブルなオブジェクトのようにふるまう。\n",
    "- オブジェクトよりも空間的、時間的に効率がよい。\n",
    "- 辞書スタイルの角かっこではなく、ドット記法で属性にアクセスできる。\n",
    "- 辞書のキーとして使える。"
   ]
  }
 ],
 "metadata": {
  "kernelspec": {
   "display_name": "Python 3",
   "language": "python",
   "name": "python3"
  },
  "language_info": {
   "codemirror_mode": {
    "name": "ipython",
    "version": 3
   },
   "file_extension": ".py",
   "mimetype": "text/x-python",
   "name": "python",
   "nbconvert_exporter": "python",
   "pygments_lexer": "ipython3",
   "version": "3.6.4"
  }
 },
 "nbformat": 4,
 "nbformat_minor": 2
}
