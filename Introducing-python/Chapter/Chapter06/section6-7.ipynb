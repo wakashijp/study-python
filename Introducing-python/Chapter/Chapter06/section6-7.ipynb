{
 "cells": [
  {
   "cell_type": "markdown",
   "metadata": {},
   "source": [
    "# 6章 オブジェクトとクラス\n",
    "---\n",
    "今までの部分では、文字列や辞書などのデータ構造と関数やモジュールなどのコード構造を見てきた。この章では、**オブジェクト**というカスタムデータ構造を扱う。"
   ]
  },
  {
   "cell_type": "markdown",
   "metadata": {},
   "source": [
    "## 6.7 selfの自己弁護\n",
    "---\n",
    "インスタンスメソッド（今までの例で見てきたようなメソッド）の第1引数としてselfを組み込まなければならないことは、インデントの強要と並んでPythonの欠点として批判されることがある。Pythonは、このself引数を使って、適切なオブジェクトの属性とメソッドを見つけてくる。具体的な例として、オブジェクトのメソッド呼び出しのコードを示し、その背後でPythonが実際に行っていることを説明しよう。\n",
    "\n",
    "この章の前の方でCarクラスを作ったが、そのexclaim()メソッドを再び呼び出してみよう。"
   ]
  },
  {
   "cell_type": "code",
   "execution_count": 1,
   "metadata": {},
   "outputs": [],
   "source": [
    "class Car():\n",
    "    def exclaim(self):\n",
    "        print(\"I'm a Car!\")\n"
   ]
  },
  {
   "cell_type": "code",
   "execution_count": 2,
   "metadata": {},
   "outputs": [
    {
     "name": "stdout",
     "output_type": "stream",
     "text": [
      "I'm a Car!\n"
     ]
    }
   ],
   "source": [
    "car = Car()\n",
    "car.exclaim()"
   ]
  },
  {
   "cell_type": "markdown",
   "metadata": {},
   "source": [
    "このコードの背後でPythonが実際に行っているのは次のようなことだ。\n",
    "\n",
    "- carオブジェクトのクラス（Car）を探し出す。\n",
    "- Carクラスのexclaim()メソッドにself引数としてcarオブジェクトを渡す。\n",
    "\n",
    "ちなみに、自分で次のような形で実行することができ、そうすると通常の構文（car.exclaim()）のときと同じ動作が得られる。"
   ]
  },
  {
   "cell_type": "code",
   "execution_count": 4,
   "metadata": {},
   "outputs": [
    {
     "name": "stdout",
     "output_type": "stream",
     "text": [
      "I'm a Car!\n"
     ]
    }
   ],
   "source": [
    "Car.exclaim(car)"
   ]
  },
  {
   "cell_type": "markdown",
   "metadata": {},
   "source": [
    "しかし、この長いスタイルをあえて使う理由はない。"
   ]
  }
 ],
 "metadata": {
  "kernelspec": {
   "display_name": "Python 3",
   "language": "python",
   "name": "python3"
  },
  "language_info": {
   "codemirror_mode": {
    "name": "ipython",
    "version": 3
   },
   "file_extension": ".py",
   "mimetype": "text/x-python",
   "name": "python",
   "nbconvert_exporter": "python",
   "pygments_lexer": "ipython3",
   "version": "3.6.4"
  }
 },
 "nbformat": 4,
 "nbformat_minor": 2
}
