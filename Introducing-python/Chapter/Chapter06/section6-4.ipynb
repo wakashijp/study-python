{
 "cells": [
  {
   "cell_type": "markdown",
   "metadata": {},
   "source": [
    "# 6章 オブジェクトとクラス\n",
    "---\n",
    "今までの部分では、文字列や辞書などのデータ構造と関数やモジュールなどのコード構造を見てきた。この章では、**オブジェクト**というカスタムデータ構造を扱う。"
   ]
  },
  {
   "cell_type": "markdown",
   "metadata": {},
   "source": [
    "## 6.4 メソッドのオーバーライド\n",
    "---\n",
    "今見てきたように、新しいクラスは親クラスからすべてのものを継承する。ここでは一歩進んで、親クラスのメソッドを上書き（**オーバーライド**）する方法を示す。Yugoには、おそらくCarとは異なる部分があるはずだ。そうでなければ、新しいクラスを定義した意味はないだろう。exclaim()メソッドの動作をYugo向けに変えてみよう。"
   ]
  },
  {
   "cell_type": "code",
   "execution_count": 1,
   "metadata": {},
   "outputs": [],
   "source": [
    "class Car():\n",
    "    def exclaim(self):\n",
    "        print(\"I'm a Car!\")\n",
    "\n",
    "class Yugo(Car):\n",
    "    def exclaim(self):\n",
    "        print(\"I'm a Yugo! Much like a Car, but more Yugo-ish.\")\n"
   ]
  },
  {
   "cell_type": "markdown",
   "metadata": {},
   "source": [
    "これらのクラスからオブジェクトを作ろう。"
   ]
  },
  {
   "cell_type": "code",
   "execution_count": 2,
   "metadata": {},
   "outputs": [],
   "source": [
    "give_me_a_car = Car()\n",
    "give_me_a_yugo = Yugo()\n"
   ]
  },
  {
   "cell_type": "markdown",
   "metadata": {},
   "source": [
    "ふたつのオブジェクトはどう言うだろうか。"
   ]
  },
  {
   "cell_type": "code",
   "execution_count": 3,
   "metadata": {},
   "outputs": [
    {
     "name": "stdout",
     "output_type": "stream",
     "text": [
      "I'm a Car!\n"
     ]
    }
   ],
   "source": [
    "give_me_a_car.exclaim()"
   ]
  },
  {
   "cell_type": "code",
   "execution_count": 4,
   "metadata": {},
   "outputs": [
    {
     "name": "stdout",
     "output_type": "stream",
     "text": [
      "I'm a Yugo! Much like a Car, but more Yugo-ish.\n"
     ]
    }
   ],
   "source": [
    "give_me_a_yugo.exclaim()"
   ]
  },
  {
   "cell_type": "markdown",
   "metadata": {},
   "source": [
    "この例でオーバーライドしたのはexclaim()メソッドだが、\\_\\_init\\_\\_()を含むあらゆるメソッドをオーバーライドできる。\n",
    "\n",
    "次に示すのは、先程のPersonクラスを使った別の例だ。医者（MDPerson）と弁護士（JDPerson）を表すサブクラスを作ろう。"
   ]
  },
  {
   "cell_type": "code",
   "execution_count": 5,
   "metadata": {},
   "outputs": [],
   "source": [
    "class Person():\n",
    "    def __init__(self, name):\n",
    "        self.name = name\n",
    "\n",
    "\n",
    "class MDPerson(Person):\n",
    "    def __init__(self, name):\n",
    "        self.name = \"Doctor \" + name\n",
    "\n",
    "\n",
    "class JDPerson(Person):\n",
    "    def __init__(self, name):\n",
    "        self.name = name + \", Esquire\"\n"
   ]
  },
  {
   "cell_type": "markdown",
   "metadata": {},
   "source": [
    "ここで、初期化メソッドの\\_\\_init\\_\\_()は、親のPersonクラスと同じ引数を取っているが、オブジェクトに格納されるnameの値を変えている。"
   ]
  },
  {
   "cell_type": "code",
   "execution_count": 6,
   "metadata": {},
   "outputs": [],
   "source": [
    "person = Person('Fudd')\n",
    "doctor = MDPerson('Fudd')\n",
    "lawyer = JDPerson('Fudd')"
   ]
  },
  {
   "cell_type": "code",
   "execution_count": 7,
   "metadata": {},
   "outputs": [
    {
     "name": "stdout",
     "output_type": "stream",
     "text": [
      "Fudd\n"
     ]
    }
   ],
   "source": [
    "print(person.name)"
   ]
  },
  {
   "cell_type": "code",
   "execution_count": 9,
   "metadata": {},
   "outputs": [
    {
     "name": "stdout",
     "output_type": "stream",
     "text": [
      "Doctor Fudd\n"
     ]
    }
   ],
   "source": [
    "print(doctor.name)"
   ]
  },
  {
   "cell_type": "code",
   "execution_count": 10,
   "metadata": {},
   "outputs": [
    {
     "name": "stdout",
     "output_type": "stream",
     "text": [
      "Fudd, Esquire\n"
     ]
    }
   ],
   "source": [
    "print(lawyer.name)"
   ]
  }
 ],
 "metadata": {
  "kernelspec": {
   "display_name": "Python 3",
   "language": "python",
   "name": "python3"
  },
  "language_info": {
   "codemirror_mode": {
    "name": "ipython",
    "version": 3
   },
   "file_extension": ".py",
   "mimetype": "text/x-python",
   "name": "python",
   "nbconvert_exporter": "python",
   "pygments_lexer": "ipython3",
   "version": "3.6.4"
  }
 },
 "nbformat": 4,
 "nbformat_minor": 2
}
