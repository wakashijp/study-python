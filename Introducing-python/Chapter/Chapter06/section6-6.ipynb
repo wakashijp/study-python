{
 "cells": [
  {
   "cell_type": "markdown",
   "metadata": {},
   "source": [
    "# 6章 オブジェクトとクラス\n",
    "---\n",
    "今までの部分では、文字列や辞書などのデータ構造と関数やモジュールなどのコード構造を見てきた。この章では、**オブジェクト**というカスタムデータ構造を扱う。"
   ]
  },
  {
   "cell_type": "markdown",
   "metadata": {},
   "source": [
    "## 6.6 superによる親への支援要請\n",
    "---\n",
    "子クラスが親のメソッドをオーバーライドしたり、新しいメソッドを追加したりする方法はすでに説明した。しかし、子クラスが親メソッドを呼び出したいときにはどうすればよいのだろうか。きっとsuper()が、「よくぞ聞いてくれました」と言っているはずだ。ここでは、電子メールアドレスを持っているPersonを表現するEmailPersonという新クラスを定義する。\n",
    "\n",
    "まず、親のPersonを定義しよう。"
   ]
  },
  {
   "cell_type": "code",
   "execution_count": 1,
   "metadata": {},
   "outputs": [],
   "source": [
    "class Person():\n",
    "    def __init__(self, name):\n",
    "        self.name = name\n"
   ]
  },
  {
   "cell_type": "markdown",
   "metadata": {},
   "source": [
    "次のサブクラスの\\_\\_init\\_\\_()呼び出しには、email引数が追加されていることに注意しよう。"
   ]
  },
  {
   "cell_type": "code",
   "execution_count": 2,
   "metadata": {},
   "outputs": [],
   "source": [
    "class EmailPerson(Person):\n",
    "    def __init__(self, name, email):\n",
    "        super().__init__(name)\n",
    "        self.email = email\n"
   ]
  },
  {
   "cell_type": "markdown",
   "metadata": {},
   "source": [
    "サブクラスのために\\_\\_init\\_\\_()メソッドを定義するということは、親クラスの\\_\\_init\\_\\_()メソッドを置き換えようとしているということであり、親クラスバージョンはもう自動的に呼び出されなくなる。そのため、親クラスバージョンを呼び出すためには、明示的に呼び出しをしなければならない。ここで行われているのは次のようなことだ。\n",
    "\n",
    "- super()が親クラスのPersonの定義を取り出す。\n",
    "- super().\\_\\_init\\_\\_()メソッドの呼び出しは、Person.\\_\\_init\\_\\_()メソッドを呼び出す。このとき、self引数の親クラスへの受け渡しはPythonが処理するので、プログラマーはオプションの引数を適切に渡すことだけをきちんとやればよい。この場合は、Person()が付け付けるオプション引数はnameだけである。\n",
    "- self.email = email行はPersonに含まれていない新しいコードだ。これによって、EmailPersonがPersonと差別化されている。\n",
    "\n",
    "先に進んで、EmailPersonクラスのオブジェクトをひとつ作ろう。"
   ]
  },
  {
   "cell_type": "code",
   "execution_count": 3,
   "metadata": {},
   "outputs": [],
   "source": [
    "bob = EmailPerson('Bob Frapples', 'bob@frapples.com')"
   ]
  },
  {
   "cell_type": "markdown",
   "metadata": {},
   "source": [
    "nameとemailの両方の属性にアクセスできるはずだ。"
   ]
  },
  {
   "cell_type": "code",
   "execution_count": 5,
   "metadata": {},
   "outputs": [
    {
     "data": {
      "text/plain": [
       "'Bob Frapples'"
      ]
     },
     "execution_count": 5,
     "metadata": {},
     "output_type": "execute_result"
    }
   ],
   "source": [
    "bob.name"
   ]
  },
  {
   "cell_type": "code",
   "execution_count": 6,
   "metadata": {},
   "outputs": [
    {
     "data": {
      "text/plain": [
       "'bob@frapples.com'"
      ]
     },
     "execution_count": 6,
     "metadata": {},
     "output_type": "execute_result"
    }
   ],
   "source": [
    "bob.email"
   ]
  },
  {
   "cell_type": "markdown",
   "metadata": {},
   "source": [
    "なぜ、次のように新クラスを定義しなかったのだろうか。\n",
    "\n",
    "```\n",
    "class EmailPersion(Person):\n",
    "    def __init__(self, name, email):\n",
    "        self.name = name\n",
    "        self.email = email\n",
    "```\n",
    "\n"
   ]
  },
  {
   "cell_type": "markdown",
   "metadata": {},
   "source": [
    "そうすることは不可能ではないが、そうしてしまうと継承を使っている意味がなくなってしまう。先ほどのコードでは、super()を使ってPersonにただのPersonオブジェクトと同じ仕事をさせた。これには別のメリットがある。Personの定義が将来変わっても、super()を使っていれば、EmailPersonがPersonから継承している属性やメソッドは、その変更を反映したものになるのである。\n",
    "\n",
    "子が独自の処理をしつつ、親の助けも必要な場合には（現実の親子のように）、super()を使うようにしよう。"
   ]
  }
 ],
 "metadata": {
  "kernelspec": {
   "display_name": "Python 3",
   "language": "python",
   "name": "python3"
  },
  "language_info": {
   "codemirror_mode": {
    "name": "ipython",
    "version": 3
   },
   "file_extension": ".py",
   "mimetype": "text/x-python",
   "name": "python",
   "nbconvert_exporter": "python",
   "pygments_lexer": "ipython3",
   "version": "3.6.4"
  }
 },
 "nbformat": 4,
 "nbformat_minor": 2
}
