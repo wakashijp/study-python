{
 "cells": [
  {
   "cell_type": "markdown",
   "metadata": {},
   "source": [
    "# 6章 オブジェクトとクラス\n",
    "---\n",
    "今までの部分では、文字列や辞書などのデータ構造と関数やモジュールなどのコード構造を見てきた。この章では、**オブジェクト**というカスタムデータ構造を扱う。"
   ]
  },
  {
   "cell_type": "markdown",
   "metadata": {},
   "source": [
    "## 6.12 特殊メソッド\n",
    "---\n",
    "これで基本的なオブジェクトは作って使えるようになったが、もう少し深く掘り下げてまだしていないことをしてみよう。\n",
    "\n",
    "たとえば、a = 3 + 8のようなコードを入力したとき、値3や8を持つ整数オブジェクトは、+の実装方法をどのようにして知るのだろうか。また、aは、計算結果を得るための=の使い方をどのようにして知るのだろうか。これらの演算子には、**特殊メソッド**を使うとたどり着く（**マジックメソッド**と呼ばれているところを見かけるかもしれない）。マジックのためにGandalfを呼び出す必要はない。仕組みは複雑でさえない。\n",
    "\n",
    "これらのメソッドの名前は、先頭と末尾がダブルアンダースコア（\\_\\_）になっている。こういうメソッドは今までにも登場している。\\_\\_init\\_\\_()は、渡された引数と使ってクラス定義から新しく作成されたオブジェクトを初期化する。\n",
    "\n",
    "たとえば、単純なWordクラスがあり、ふたつの単語を（大文字と小文字の区別をせずに）比較するequals()メソッドが必要だとする。つまり、値'ha'を持つWordと'HA'を持つWordは等しいと見なされる。\n",
    "\n",
    "次のコードは、equals()と呼んでいる普通のメソッドを使った最初の試みだ。self.textは、このWordオブジェクトが格納する文字列で、equals()メソッドは、これとword2（別のWordオブジェクト）の文字列を比較する。"
   ]
  },
  {
   "cell_type": "code",
   "execution_count": 4,
   "metadata": {},
   "outputs": [],
   "source": [
    "class Word():\n",
    "    def __init__(self, text):\n",
    "        self.text = text\n",
    "    \n",
    "    def equals(self, word2):\n",
    "        return self.text.lower() == word2.text.lower()"
   ]
  },
  {
   "cell_type": "markdown",
   "metadata": {},
   "source": [
    "そして、3つの異なる文字列から3個のWordオブジェクトを作る。"
   ]
  },
  {
   "cell_type": "code",
   "execution_count": 6,
   "metadata": {},
   "outputs": [],
   "source": [
    "first = Word('ha')\n",
    "second = Word('HA')\n",
    "third = Word('eh')"
   ]
  },
  {
   "cell_type": "markdown",
   "metadata": {},
   "source": [
    "'ha'という文字列と'HA'という文字列は、小文字に変換してから比較すれば、等しいと見なされる。"
   ]
  },
  {
   "cell_type": "code",
   "execution_count": 7,
   "metadata": {},
   "outputs": [
    {
     "data": {
      "text/plain": [
       "True"
      ]
     },
     "execution_count": 7,
     "metadata": {},
     "output_type": "execute_result"
    }
   ],
   "source": [
    "first.equals(second)"
   ]
  },
  {
   "cell_type": "markdown",
   "metadata": {},
   "source": [
    "しかし、'eh'という文字列と'ha'という文字列は同じにならない。"
   ]
  },
  {
   "cell_type": "code",
   "execution_count": 8,
   "metadata": {},
   "outputs": [
    {
     "data": {
      "text/plain": [
       "False"
      ]
     },
     "execution_count": 8,
     "metadata": {},
     "output_type": "execute_result"
    }
   ],
   "source": [
    "first.equals(third)"
   ]
  },
  {
   "cell_type": "markdown",
   "metadata": {},
   "source": [
    "この小文字への変換と比較を実行するようにequals()メソッドを定義したが、Pythonの組み込み型と同じように、if first == secondと書ければ便利である。\n",
    "\n",
    "ではその仕事に取り掛かろう。equals()メソッドを\\_\\_eq\\_\\_()という特殊名に変更する（理由はすぐあとで説明する）。"
   ]
  },
  {
   "cell_type": "code",
   "execution_count": 9,
   "metadata": {},
   "outputs": [],
   "source": [
    "class Word():\n",
    "    def __init__(self, text):\n",
    "        self.text = text\n",
    "    \n",
    "    def __eq__(self, word2):\n",
    "        return self.text.lower() == word2.text.lower()\n"
   ]
  },
  {
   "cell_type": "code",
   "execution_count": 10,
   "metadata": {},
   "outputs": [],
   "source": [
    "first = Word('ha')\n",
    "second = Word('HA')\n",
    "third = Word('eh')"
   ]
  },
  {
   "cell_type": "code",
   "execution_count": 11,
   "metadata": {},
   "outputs": [
    {
     "data": {
      "text/plain": [
       "True"
      ]
     },
     "execution_count": 11,
     "metadata": {},
     "output_type": "execute_result"
    }
   ],
   "source": [
    "first == second"
   ]
  },
  {
   "cell_type": "code",
   "execution_count": 12,
   "metadata": {},
   "outputs": [
    {
     "data": {
      "text/plain": [
       "False"
      ]
     },
     "execution_count": 12,
     "metadata": {},
     "output_type": "execute_result"
    }
   ],
   "source": [
    "first == third"
   ]
  },
  {
   "cell_type": "markdown",
   "metadata": {},
   "source": [
    "手品のようだ!必要なものは、等価性テストのPythonの特殊メソッド名\\_\\_eq\\_\\_()だけだったのだ。表6−1、表6−2は、もっとも役に立つ特殊メソッドの名前をまとめたものである。\n",
    "\n",
    "表6−1 比較のための特殊メソッド\n",
    "\n",
    "| メソッド | 意味 |\n",
    "|:--------|:------|\n",
    "| \\_\\_eq\\_\\_(self, other) | self == other |\n",
    "| \\_\\_ne\\_\\_(self, other) | self != other |\n",
    "| \\_\\_lt\\_\\_(self, other) | self < other |\n",
    "| \\_\\_gt\\_\\_(self, other) | self > other |\n",
    "| \\_\\_le\\_\\_(self, other) | self <= other |\n",
    "| \\_\\_ge\\_\\_(self, other) | self >= other |\n",
    "\n",
    "表6-2 算術計算のための特殊メソッド\n",
    "\n",
    "| メソッド | 意味 |\n",
    "|:--------|:-------|\n",
    "| \\_\\_add\\_\\_(self, other) | self + other |\n",
    "| \\_\\_sub\\_\\_(self, other) | self - other |\n",
    "| \\_\\_mul\\_\\_(self, other) | self * other |\n",
    "| \\_\\_floordiv\\_\\_(self, other) | self // other |\n",
    "| \\_\\_truediv\\_\\_(self, other) | self / other |\n",
    "| \\_\\_mod\\_\\_(self, other) | self % other |\n",
    "| \\_\\_pow\\_\\_(self, other) | self \\*\\* other |"
   ]
  },
  {
   "cell_type": "markdown",
   "metadata": {},
   "source": [
    "+（特殊メソッド\\_\\_add\\_\\_()）や-（特殊メソッド\\_\\_sub\\_\\_()）などの数学演算子の用途は数値だけに限らない。たとえば、Pythonの文字列オブジェクトは+を連結のために、\\*を繰り返しの用途に使っている。特殊メソッド名はほかにもたくさんあり、[Pythonドキュメント：特殊メソッド名](https://docs.python.org/ja/3/reference/datamodel.html#special-method-names)でドキュメント化されている。そのなかで最も一般的なものを表6-3にまとめた。\n",
    "\n",
    "表6-3 その他の特殊メソッド\n",
    "\n",
    "| メソッド | 意味 |\n",
    "|:-------|:-------|\n",
    "| \\_\\_str\\_\\_(self) | str(self) |\n",
    "| \\_\\_repr\\_\\_(self) | repr(self) |\n",
    "| \\_\\_len\\_\\_(self) | len(self) |\n",
    "\n",
    "\\_\\_init\\_\\_()を別にすれば、メソッドのなかでもっともよく使っているのは\\_\\_str\\_\\_()かもしれない。オブジェクトを表示するときには、これを使う。このメソッドは、print()、str()、その他7章で説明する文字列整形関数で使われている。対話型インタプリタは、\\_\\_repr\\_\\_()を定義し忘れると、Pythonが定義しているオブジェクトのデフォルトの文字列バージョンが使われる。"
   ]
  },
  {
   "cell_type": "code",
   "execution_count": 13,
   "metadata": {},
   "outputs": [
    {
     "data": {
      "text/plain": [
       "<__main__.Word at 0x107c9e940>"
      ]
     },
     "execution_count": 13,
     "metadata": {},
     "output_type": "execute_result"
    }
   ],
   "source": [
    "first = Word('ha')\n",
    "first"
   ]
  },
  {
   "cell_type": "code",
   "execution_count": 14,
   "metadata": {},
   "outputs": [
    {
     "name": "stdout",
     "output_type": "stream",
     "text": [
      "<__main__.Word object at 0x107c9e940>\n"
     ]
    }
   ],
   "source": [
    "print(first)"
   ]
  },
  {
   "cell_type": "markdown",
   "metadata": {},
   "source": [
    "それでは、Wordクラスに\\_\\_str\\_\\_()、\\_\\_repr\\_\\_()メソッドを追加して、表示を見やすくしよう。"
   ]
  },
  {
   "cell_type": "code",
   "execution_count": 15,
   "metadata": {},
   "outputs": [],
   "source": [
    "class Word():\n",
    "    def __init__(self, text):\n",
    "        self.text = text\n",
    "    \n",
    "    def __eq__(self, word2):\n",
    "        return self.text.lower() == word2.text.lower()\n",
    "    \n",
    "    def __str__(self):\n",
    "        return self.text\n",
    "    \n",
    "    def __repr__(self):\n",
    "        return 'Word(\"' + self.text + '\")'\n"
   ]
  },
  {
   "cell_type": "code",
   "execution_count": 16,
   "metadata": {},
   "outputs": [],
   "source": [
    "first = Word('ha')"
   ]
  },
  {
   "cell_type": "code",
   "execution_count": 17,
   "metadata": {},
   "outputs": [
    {
     "data": {
      "text/plain": [
       "Word(\"ha\")"
      ]
     },
     "execution_count": 17,
     "metadata": {},
     "output_type": "execute_result"
    }
   ],
   "source": [
    "first"
   ]
  },
  {
   "cell_type": "code",
   "execution_count": 18,
   "metadata": {},
   "outputs": [
    {
     "name": "stdout",
     "output_type": "stream",
     "text": [
      "ha\n"
     ]
    }
   ],
   "source": [
    "print(first)"
   ]
  },
  {
   "cell_type": "markdown",
   "metadata": {},
   "source": [
    "その他の特殊メソッドについても深く知りたい場合は、Pythonドキュメントの[特殊メソッド名](https://docs.python.org/ja/3/reference/datamodel.html#special-method-names)を参照していただきたい。"
   ]
  }
 ],
 "metadata": {
  "kernelspec": {
   "display_name": "Python 3",
   "language": "python",
   "name": "python3"
  },
  "language_info": {
   "codemirror_mode": {
    "name": "ipython",
    "version": 3
   },
   "file_extension": ".py",
   "mimetype": "text/x-python",
   "name": "python",
   "nbconvert_exporter": "python",
   "pygments_lexer": "ipython3",
   "version": "3.6.4"
  }
 },
 "nbformat": 4,
 "nbformat_minor": 2
}
