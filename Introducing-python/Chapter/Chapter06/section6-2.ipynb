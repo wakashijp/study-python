{
 "cells": [
  {
   "cell_type": "markdown",
   "metadata": {},
   "source": [
    "# 6章 オブジェクトとクラス\n",
    "---\n",
    "今までの部分では、文字列や辞書などのデータ構造と関数やモジュールなどのコード構造を見てきた。この章では、**オブジェクト**というカスタムデータ構造を扱う。"
   ]
  },
  {
   "cell_type": "markdown",
   "metadata": {},
   "source": [
    "## 6.2 classによるクラスの定義\n",
    "---\n",
    "2章では、オブジェクトをプラスティックのボックスに喩えた。クラスは、そのようなボックスを作るための鋳型のようなものだ。たとえば、Stringは'cat'や'duck'などの文字列オブジェクトを作るPython組み込みクラスである。Pythonは、そのほかにもリスト、辞書など、その他の標準データ型を作るための組み込みクラスを多数持っている。Pythonでカスタムオブジェクトを作るためには、まずclassキーワードを使ってクラスを定義しなければならない。単純な例を見ていこう。\n",
    "\n",
    "人についての情報を表現するためにオブジェクトを定義したいものとする。個々のオブジェクトはひとりの人間を表す。まず、鋳型としてPersonというクラスを定義する。\n",
    "\n",
    "次のサンプルでは、このクラスの複数のバージョンを試してみる。そうして、もっとも単純なクラスを元に、実際に役に立つものを作っていく。\n",
    "\n",
    "最初は考えられる限りもっとも単純なクラス、空クラスから始めよう。"
   ]
  },
  {
   "cell_type": "code",
   "execution_count": 1,
   "metadata": {},
   "outputs": [],
   "source": [
    "class Person():\n",
    "    pass"
   ]
  },
  {
   "cell_type": "markdown",
   "metadata": {},
   "source": [
    "関数の場合と同様に、クラスが空だということを示すためにpassと言う必要がある。この定義は、オブジェクトを作るために必要な最小限のものである。オブジェクトは、クラス名をまるで関数のように呼び出して作る。"
   ]
  },
  {
   "cell_type": "code",
   "execution_count": 2,
   "metadata": {},
   "outputs": [],
   "source": [
    "someone = Person()"
   ]
  },
  {
   "cell_type": "markdown",
   "metadata": {},
   "source": [
    "この場合、Person()は、Personクラスから1個のオブジェクトを作る。しかし、Personクラスは空なので、そこから作ったsomeoneオブジェクトはただ存在するというだけで、ほかに何も出来ない。実際にこのようなクラスを定義することはないだろう。ここでこれを示しているのは、次のサンプルを作るためだ。\n",
    "\n",
    "今度は、Pythonオブジェクトを初期化する特殊メソッド\\_\\_init\\_\\_を含む形でもう一度クラスを定義しよう。"
   ]
  },
  {
   "cell_type": "code",
   "execution_count": 3,
   "metadata": {},
   "outputs": [],
   "source": [
    "class Persion():\n",
    "    def __init__(self):\n",
    "        pass"
   ]
  },
  {
   "cell_type": "markdown",
   "metadata": {},
   "source": [
    "これは、実際のPythonクラス定義に含まれているものだ。\\_\\_init\\_\\_()とselfは見慣れない感じだろう。\\_\\_init\\_\\_()は、クラス定義から個々のオブジェクトを作るときにそれを初期化するメソッドに付けられた特殊名である。self引数は、作られたオブジェクト自体を参照することを示す。\n",
    "\n",
    "クラス定義で\\_\\_init\\_\\_()を定義するときには、第1引数はselfでなければならない。selfはPythonの予約語ではないが、一般にこの目的で使われる。selfを使っておけば、あとでコードを読む人（あなたも含む！）は、それがどういう意味なのかを推測しなくて済む。\n",
    "\n",
    "しかし、それでもPersonの第2の定義では、なんらかを行うオブジェクトは作られない。Pythonで単純なオブジェクトを作る方法を示す。今回は、初期化メソッドにnameというパラメータを追加する。"
   ]
  },
  {
   "cell_type": "code",
   "execution_count": 8,
   "metadata": {},
   "outputs": [],
   "source": [
    "class Person():\n",
    "    def __init__(self, name):\n",
    "        self.name = name"
   ]
  },
  {
   "cell_type": "markdown",
   "metadata": {},
   "source": [
    "name引数として文字列を渡せば、Personクラスからオブジェクトを作れるようになった。"
   ]
  },
  {
   "cell_type": "code",
   "execution_count": 9,
   "metadata": {},
   "outputs": [],
   "source": [
    "hunter = Person('Elmer Fudd')"
   ]
  },
  {
   "cell_type": "markdown",
   "metadata": {},
   "source": [
    "このコード行が行うことは、次の通りだ。\n",
    "\n",
    "- Personクラスの定義を探し出す。\n",
    "- メモリ内に新しいオブジェクトの**インスタンス**を作成する。\n",
    "- 新しく作ったオブジェクトをself、もうひとつの引数（'Elmer Fudd'）をnameとして渡して、オブジェクトの\\_\\_init\\_\\_メソッドを呼び出す。\n",
    "- nameの値をオブジェクトに格納する。\n",
    "- その新しいオブジェクトを返す。\n",
    "- オブジェクトにhunterという名前を与える。\n",
    "\n",
    "この新しいオブジェクトは、Pythonのほかのオブジェクトとよく似ている。このオブジェクトは、リスト、タプル、辞書、集合の要素といて使うことができる。関数に引数として渡したり、関数から結果として返したりすることもできる。\n",
    "\n",
    "渡したnameの値はどうなるのだろうか。この値は、属性としてオブジェクトとともに保存される。属性は直接読み書きできる。"
   ]
  },
  {
   "cell_type": "code",
   "execution_count": 10,
   "metadata": {},
   "outputs": [
    {
     "name": "stdout",
     "output_type": "stream",
     "text": [
      "The mighty hunter:  Elmer Fudd\n"
     ]
    }
   ],
   "source": [
    "print('The mighty hunter: ', hunter.name)"
   ]
  },
  {
   "cell_type": "markdown",
   "metadata": {},
   "source": [
    "なお、Personクラスの**内部**では、name属性にはself.nameという形でアクセスする。hunterのようなオブジェクトを作ったとき、オブジェクトの外からはhunter.nameと呼ぶ。\n",
    "\n",
    "すべてのクラス定義が\\_\\_init\\_\\_を持たなければならないわけでは**ない**。\\_\\_init\\_\\_は、同じクラスから作られたほかのオブジェクトからこのオブジェクトを区別するために必要な処理をするために使われる。"
   ]
  }
 ],
 "metadata": {
  "kernelspec": {
   "display_name": "Python 3",
   "language": "python",
   "name": "python3"
  },
  "language_info": {
   "codemirror_mode": {
    "name": "ipython",
    "version": 3
   },
   "file_extension": ".py",
   "mimetype": "text/x-python",
   "name": "python",
   "nbconvert_exporter": "python",
   "pygments_lexer": "ipython3",
   "version": "3.6.4"
  }
 },
 "nbformat": 4,
 "nbformat_minor": 2
}
