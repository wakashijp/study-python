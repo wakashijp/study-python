{
 "cells": [
  {
   "cell_type": "markdown",
   "metadata": {},
   "source": [
    "# 6章 オブジェクトとクラス\n",
    "---\n",
    "今までの部分では、文字列や辞書などのデータ構造と関数やモジュールなどのコード構造を見てきた。この章では、**オブジェクト**というカスタムデータ構造を扱う。"
   ]
  },
  {
   "cell_type": "markdown",
   "metadata": {},
   "source": [
    "## 6.11 ダックタイピング\n",
    "---\n",
    "Pythonは、**ポリモーフィズム**の緩やかな実装を持っている。クラスの種類にかかわらず、異なるオブジェクトに対して同じ操作を適用するのである。\n",
    "\n",
    "同じ\\_\\_init\\_\\_()を共有する3種類のQuoteクラスを定義しよう。このクラスには、次のふたつの関数を追加する。\n",
    "\n",
    "- who()は、保存されているperson文字列を単純に返す。\n",
    "- says()は、保存されているwordsにクラスごとに異なる記号を付けて返す。\n",
    "\n",
    "実際のコードを見てみよう。"
   ]
  },
  {
   "cell_type": "code",
   "execution_count": 7,
   "metadata": {},
   "outputs": [],
   "source": [
    "class Quote():\n",
    "    def __init__(self, person, words):\n",
    "        self.person = person\n",
    "        self.words = words\n",
    "    \n",
    "    def who(self):\n",
    "        return self.person\n",
    "    \n",
    "    def says(self):\n",
    "        return self.words + '.'\n",
    "\n",
    "\n",
    "class QuestionQuote(Quote):\n",
    "    def says(self):\n",
    "        return self.words + '?'\n",
    "\n",
    "    \n",
    "class ExclamationQuote(Quote):\n",
    "    def says(self):\n",
    "        return self.words + '!'"
   ]
  },
  {
   "cell_type": "markdown",
   "metadata": {},
   "source": [
    "QuestionQuoteやExclamationQuoteの初期化の方法はQuoteと変わらないので、\\_\\_init\\_\\_()メソッドのオーバーライドはしていない。そこで、Pythonは、インスタンス変数のpersonとwordsの保存のために自動的に親クラスのQuoteの\\_\\_init\\_\\_()メソッドを呼び出す。QuestionQuote、ExclamationQuoteサブクラスから作られたオブジェクトのself.wordsにアクセスできるのはそのためだ。\n",
    "\n",
    "次に、いくつかオブジェクトを作ろう。\n"
   ]
  },
  {
   "cell_type": "code",
   "execution_count": 8,
   "metadata": {},
   "outputs": [
    {
     "name": "stdout",
     "output_type": "stream",
     "text": [
      "Elmer Fudd I'm hunting wabbits.\n"
     ]
    }
   ],
   "source": [
    "hunter = Quote('Elmer Fudd', \"I'm hunting wabbits\")\n",
    "print(hunter.who(), hunter.says())"
   ]
  },
  {
   "cell_type": "code",
   "execution_count": 9,
   "metadata": {},
   "outputs": [
    {
     "name": "stdout",
     "output_type": "stream",
     "text": [
      "Bugs Bunny What's up, doc?\n"
     ]
    }
   ],
   "source": [
    "hunted1 = QuestionQuote('Bugs Bunny', \"What's up, doc\")\n",
    "print(hunted1.who(), hunted1.says())"
   ]
  },
  {
   "cell_type": "code",
   "execution_count": 10,
   "metadata": {},
   "outputs": [
    {
     "name": "stdout",
     "output_type": "stream",
     "text": [
      "Daffy Duck It's rabbit season!\n"
     ]
    }
   ],
   "source": [
    "hunted2 = ExclamationQuote('Daffy Duck', \"It's rabbit season\")\n",
    "print(hunted2.who(), hunted2.says())"
   ]
  },
  {
   "cell_type": "markdown",
   "metadata": {},
   "source": [
    "異なる3種類のsays()メソッドが3つのクラスのために異なる動作を提供する。これがオブジェクト指向言語の伝統的なポリモーフィズムだ。Pythonはそこからさらに少し進んで、who()、says()メソッドを持ちさえすればどのようなオブジェクトであっても（つまり、継承など利用しなくても）、共通のインターフェイスを持つオブジェクトとして扱うことができる。\n",
    "\n",
    "それでは、先ほどの森の猟師と獲物たち（Quoteクラスの子孫たち）とは無関係なBabblingBrookというクラスを定義しよう。"
   ]
  },
  {
   "cell_type": "code",
   "execution_count": 11,
   "metadata": {},
   "outputs": [],
   "source": [
    "class BabblingBrook():\n",
    "    def who(self):\n",
    "        return 'Brook'\n",
    "    \n",
    "    def says(self):\n",
    "        return 'Babble'\n"
   ]
  },
  {
   "cell_type": "code",
   "execution_count": 12,
   "metadata": {},
   "outputs": [],
   "source": [
    "brook = BabblingBrook()"
   ]
  },
  {
   "cell_type": "markdown",
   "metadata": {},
   "source": [
    "そして、さまざまなオブジェクトのwho()、says()メソッドを実行してみよう。そのうちのひとつ（brook）は、ほかのものとはまったく無関係である。"
   ]
  },
  {
   "cell_type": "code",
   "execution_count": 13,
   "metadata": {},
   "outputs": [],
   "source": [
    "def who_says(obj):\n",
    "    print(obj.who(), 'says', obj.says())\n"
   ]
  },
  {
   "cell_type": "code",
   "execution_count": 14,
   "metadata": {},
   "outputs": [
    {
     "name": "stdout",
     "output_type": "stream",
     "text": [
      "Elmer Fudd says I'm hunting wabbits.\n"
     ]
    }
   ],
   "source": [
    "who_says(hunter)"
   ]
  },
  {
   "cell_type": "code",
   "execution_count": 15,
   "metadata": {},
   "outputs": [
    {
     "name": "stdout",
     "output_type": "stream",
     "text": [
      "Bugs Bunny says What's up, doc?\n"
     ]
    }
   ],
   "source": [
    "who_says(hunted1)"
   ]
  },
  {
   "cell_type": "code",
   "execution_count": 16,
   "metadata": {},
   "outputs": [
    {
     "name": "stdout",
     "output_type": "stream",
     "text": [
      "Daffy Duck says It's rabbit season!\n"
     ]
    }
   ],
   "source": [
    "who_says(hunted2)"
   ]
  },
  {
   "cell_type": "code",
   "execution_count": 17,
   "metadata": {},
   "outputs": [
    {
     "name": "stdout",
     "output_type": "stream",
     "text": [
      "Brook says Babble\n"
     ]
    }
   ],
   "source": [
    "who_says(brook)"
   ]
  },
  {
   "cell_type": "markdown",
   "metadata": {},
   "source": [
    "このような動作は、古いことわざにちなんで**ダックタイピング**と呼ばれる。\n",
    "\n",
    "アヒルのように歩き、アヒルのようにクワッと鳴くなら、それはアヒルだ。"
   ]
  }
 ],
 "metadata": {
  "kernelspec": {
   "display_name": "Python 3",
   "language": "python",
   "name": "python3"
  },
  "language_info": {
   "codemirror_mode": {
    "name": "ipython",
    "version": 3
   },
   "file_extension": ".py",
   "mimetype": "text/x-python",
   "name": "python",
   "nbconvert_exporter": "python",
   "pygments_lexer": "ipython3",
   "version": "3.6.4"
  }
 },
 "nbformat": 4,
 "nbformat_minor": 2
}
