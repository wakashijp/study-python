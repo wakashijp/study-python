{
 "cells": [
  {
   "cell_type": "markdown",
   "metadata": {},
   "source": [
    "# 3章 Pyの具：リスト、タプル、辞書、集合\n",
    "---\n",
    "2章では、ブール値、整数、浮動小数点数、文字列という基本データを説明し、Pythonの土台を明らかにした。これらを原子と考えるなら、この章で取り上げるデータ構造は分子のようなものである。つまり、これらの基本データ型を組み合わせて複雑なデータ構造を作れる。プログラミングの仕事では、特定の形でデータを切り貼りする作業が大きなウェートを占めるが、これらのデータ構造はカッターや糊の役割を果たす。"
   ]
  },
  {
   "cell_type": "markdown",
   "metadata": {},
   "source": [
    "## 3.7 もっと大きいデータ構造\n",
    "---\n",
    "私たちは、単純なブール値、数値、文字列からリスト、タプル、集合、辞書に進んできた。これら組み込みデータ構造を結合すれば、もっと大きくて複雑な独自のデータ構造を作ることができる。まず、3種類のリストを作る。\n",
    "\n",
    "例："
   ]
  },
  {
   "cell_type": "code",
   "execution_count": 1,
   "metadata": {},
   "outputs": [],
   "source": [
    "marxes = ['Groucho', 'Chico', 'Harpo']\n",
    "pythons = ['Chapman', 'Cleese', 'Gilliam', 'Jones', 'Palin']\n",
    "stooges = ['Moe', 'Curly', 'Larry']"
   ]
  },
  {
   "cell_type": "markdown",
   "metadata": {},
   "source": [
    "個々のリストを要素とするタプルを作ることができる。\n",
    "\n",
    "例：\n",
    "**3つのリストを要素とするタプル**"
   ]
  },
  {
   "cell_type": "code",
   "execution_count": 2,
   "metadata": {},
   "outputs": [],
   "source": [
    "tuple_of_lists = marxes, pythons, stooges"
   ]
  },
  {
   "cell_type": "code",
   "execution_count": 3,
   "metadata": {},
   "outputs": [
    {
     "data": {
      "text/plain": [
       "(['Groucho', 'Chico', 'Harpo'],\n",
       " ['Chapman', 'Cleese', 'Gilliam', 'Jones', 'Palin'],\n",
       " ['Moe', 'Curly', 'Larry'])"
      ]
     },
     "execution_count": 3,
     "metadata": {},
     "output_type": "execute_result"
    }
   ],
   "source": [
    "tuple_of_lists"
   ]
  },
  {
   "cell_type": "markdown",
   "metadata": {},
   "source": [
    "また、3つのリストを含むリストを作ることができる。\n",
    "\n",
    "例：\n",
    "**3つのリストを含むリスト**"
   ]
  },
  {
   "cell_type": "code",
   "execution_count": 9,
   "metadata": {},
   "outputs": [],
   "source": [
    "list_of_lists = [marxes, pythons, stooges]"
   ]
  },
  {
   "cell_type": "code",
   "execution_count": 10,
   "metadata": {},
   "outputs": [
    {
     "data": {
      "text/plain": [
       "[['Groucho', 'Chico', 'Harpo'],\n",
       " ['Chapman', 'Cleese', 'Gilliam', 'Jones', 'Palin'],\n",
       " ['Moe', 'Curly', 'Larry']]"
      ]
     },
     "execution_count": 10,
     "metadata": {},
     "output_type": "execute_result"
    }
   ],
   "source": [
    "list_of_lists"
   ]
  },
  {
   "cell_type": "markdown",
   "metadata": {},
   "source": [
    "最後に、リストの辞書を作る。キーとしてコメディグループの名前、値としてメンバーのリストを使う。\n",
    "\n",
    "例：\n",
    "**リストの辞書**"
   ]
  },
  {
   "cell_type": "code",
   "execution_count": 7,
   "metadata": {},
   "outputs": [],
   "source": [
    "dict_of_lists = {'Marxes': marxes, 'Pythons': pythons, 'Stooges': stooges}"
   ]
  },
  {
   "cell_type": "code",
   "execution_count": 8,
   "metadata": {},
   "outputs": [
    {
     "data": {
      "text/plain": [
       "{'Marxes': ['Groucho', 'Chico', 'Harpo'],\n",
       " 'Pythons': ['Chapman', 'Cleese', 'Gilliam', 'Jones', 'Palin'],\n",
       " 'Stooges': ['Moe', 'Curly', 'Larry']}"
      ]
     },
     "execution_count": 8,
     "metadata": {},
     "output_type": "execute_result"
    }
   ],
   "source": [
    "dict_of_lists"
   ]
  },
  {
   "cell_type": "markdown",
   "metadata": {},
   "source": [
    "制限は、データ型自体にある。たとえば、辞書のキーはイミュータブルでなければいけない。そのため、リスト、辞書、集合は他の辞書のキーにはなれない。しかし、タプルはキーになれる。たとえば、関心のある位置のGPS座標（緯度、軽度、高度）をインデックスとすることができる。地図情報の活用例については、ほかに「B.6 マップ」を参照。\n",
    "\n",
    "例：\n",
    "**タプルをキーにした辞書**"
   ]
  },
  {
   "cell_type": "code",
   "execution_count": 11,
   "metadata": {},
   "outputs": [],
   "source": [
    "houses = {\n",
    "    (44.79, -93.14, 285): 'My House',\n",
    "    (38.89, -77.03, 13): 'The White House'\n",
    "}"
   ]
  },
  {
   "cell_type": "code",
   "execution_count": 12,
   "metadata": {},
   "outputs": [
    {
     "data": {
      "text/plain": [
       "{(38.89, -77.03, 13): 'The White House', (44.79, -93.14, 285): 'My House'}"
      ]
     },
     "execution_count": 12,
     "metadata": {},
     "output_type": "execute_result"
    }
   ],
   "source": [
    "houses"
   ]
  }
 ],
 "metadata": {
  "kernelspec": {
   "display_name": "Python 3",
   "language": "python",
   "name": "python3"
  },
  "language_info": {
   "codemirror_mode": {
    "name": "ipython",
    "version": 3
   },
   "file_extension": ".py",
   "mimetype": "text/x-python",
   "name": "python",
   "nbconvert_exporter": "python",
   "pygments_lexer": "ipython3",
   "version": "3.6.4"
  }
 },
 "nbformat": 4,
 "nbformat_minor": 2
}
