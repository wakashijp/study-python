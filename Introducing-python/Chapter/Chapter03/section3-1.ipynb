{
 "cells": [
  {
   "cell_type": "markdown",
   "metadata": {},
   "source": [
    "# 3章 Pyの具：リスト、タプル、辞書、集合\n",
    "---\n",
    "2章では、ブール値、整数、浮動小数点数、文字列という基本データを説明し、Pythonの土台を明らかにした。これらを原子と考えるなら、この章で取り上げるデータ構造は分子のようなものである。つまり、これらの基本データ型を組み合わせて複雑なデータ構造を作れる。プログラミングの仕事では、特定の形でデータを切り貼りする作業が大きなウェートを占めるが、これらのデータ構造はカッターや糊の役割を果たす。"
   ]
  },
  {
   "cell_type": "markdown",
   "metadata": {},
   "source": [
    "## 3.1 リストとタプル\n",
    "---\n",
    "Pythonには、文字列以外に**タプル**と**リスト**の2種類のシーケンス構造があり、0個以上の要素を持つことができる。文字列と異なり、要素は型がまちまちでよい。それだけではなく、個々の要素はリスト、タプルを含む**任意**のPythonオブジェクトでよい。そのため、いくらでも深く、複雑なデータ構造を作れる。\n",
    "\n",
    "なぜPythonにはリストとタプルの2種類があるのだろうか。タプルは**イミュータブル**であり、タプルに要素を代入すると、それは焼き固められたように、書き換えられなくなる。それに対し、リストは**ミュータブル**で、要素の挿入と削除を行うことができる。\n",
    "\n",
    "これからそれぞれの例を挙げて説明する。"
   ]
  }
 ],
 "metadata": {
  "kernelspec": {
   "display_name": "Python 3",
   "language": "python",
   "name": "python3"
  },
  "language_info": {
   "codemirror_mode": {
    "name": "ipython",
    "version": 3
   },
   "file_extension": ".py",
   "mimetype": "text/x-python",
   "name": "python",
   "nbconvert_exporter": "python",
   "pygments_lexer": "ipython3",
   "version": "3.6.4"
  }
 },
 "nbformat": 4,
 "nbformat_minor": 2
}
