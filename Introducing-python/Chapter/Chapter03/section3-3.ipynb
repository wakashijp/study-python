{
 "cells": [
  {
   "cell_type": "markdown",
   "metadata": {},
   "source": [
    "# 3章 Pyの具：リスト、タプル、辞書、集合\n",
    "---\n",
    "2章では、ブール値、整数、浮動小数点数、文字列という基本データを説明し、Pythonの土台を明らかにした。これらを原子と考えるなら、この章で取り上げるデータ構造は分子のようなものである。つまり、これらの基本データ型を組み合わせて複雑なデータ構造を作れる。プログラミングの仕事では、特定の形でデータを切り貼りする作業が大きなウェートを占めるが、これらのデータ構造はカッターや糊の役割を果たす。"
   ]
  },
  {
   "cell_type": "markdown",
   "metadata": {},
   "source": [
    "## 3.3 タプル\n",
    "---\n",
    "タプルは、リストと同様に任意の要素を集めたシーケンスである。リストとは異なり、タプルは**イミュータブル**である。つまり、タプルを定義したあとで要素を追加、削除、変更することはできない。そこで、タプルは定数リストと言うべきものになっている。"
   ]
  },
  {
   "cell_type": "markdown",
   "metadata": {},
   "source": [
    "### 3.3.1 ()を使ったタプルの作成\n",
    "---\n",
    "これからサンプルで示していくように、タプルを作るための構文は少し混乱している。\n",
    "\n",
    "まず、()を使って空タプルを作る。\n",
    "\n",
    "例："
   ]
  },
  {
   "cell_type": "code",
   "execution_count": 3,
   "metadata": {},
   "outputs": [
    {
     "data": {
      "text/plain": [
       "()"
      ]
     },
     "execution_count": 3,
     "metadata": {},
     "output_type": "execute_result"
    }
   ],
   "source": [
    "empty_tuple = ()\n",
    "empty_tuple"
   ]
  },
  {
   "cell_type": "markdown",
   "metadata": {},
   "source": [
    "1個以上の要素を持つタプルは、個々の要素をカンマで区切っていく。要素が1個のタプルも末尾にカンマを付けて作る。\n",
    "\n",
    "例："
   ]
  },
  {
   "cell_type": "code",
   "execution_count": 2,
   "metadata": {},
   "outputs": [
    {
     "data": {
      "text/plain": [
       "('Groucho',)"
      ]
     },
     "execution_count": 2,
     "metadata": {},
     "output_type": "execute_result"
    }
   ],
   "source": [
    "one_marx = 'Groucho',\n",
    "one_marx"
   ]
  },
  {
   "cell_type": "markdown",
   "metadata": {},
   "source": [
    "要素が複数ある場合には、すべての要素の後ろにカンマを付ける（最後の要素の後ろのカンマは省略できる）。\n",
    "\n",
    "例："
   ]
  },
  {
   "cell_type": "code",
   "execution_count": 4,
   "metadata": {},
   "outputs": [
    {
     "data": {
      "text/plain": [
       "('Groucho', 'Chico', 'Harpo')"
      ]
     },
     "execution_count": 4,
     "metadata": {},
     "output_type": "execute_result"
    }
   ],
   "source": [
    "marx_tuple = 'Groucho', 'Chico', 'Harpo'\n",
    "marx_tuple"
   ]
  },
  {
   "cell_type": "markdown",
   "metadata": {},
   "source": [
    "Pythonは、タプルをエコー表示するときにかっこを追加するが、定義するときにかっこが必要になるわけではない。タプルを定義するのは、値を区切るカンマだ。しかし、かっこを使ってもエラーになったりはしない。値全体をかっこで囲むことは認められており、そうすればタプルだとわかりやすくなる。\n",
    "\n",
    "例："
   ]
  },
  {
   "cell_type": "code",
   "execution_count": 5,
   "metadata": {},
   "outputs": [
    {
     "data": {
      "text/plain": [
       "('Groucho', 'Chico', 'Harpo')"
      ]
     },
     "execution_count": 5,
     "metadata": {},
     "output_type": "execute_result"
    }
   ],
   "source": [
    "marx_tuple = ('Groucho', 'Chico', 'Harpo')\n",
    "marx_tuple"
   ]
  },
  {
   "cell_type": "markdown",
   "metadata": {},
   "source": [
    "タプルを使えば、一度に複数の変数を代入できる。\n",
    "\n",
    "例："
   ]
  },
  {
   "cell_type": "code",
   "execution_count": 15,
   "metadata": {},
   "outputs": [],
   "source": [
    "marx_tuple = ('Groucho', 'Chico', 'Harpo')\n",
    "a, b, c = marx_tuple"
   ]
  },
  {
   "cell_type": "code",
   "execution_count": 14,
   "metadata": {},
   "outputs": [
    {
     "data": {
      "text/plain": [
       "'Groucho'"
      ]
     },
     "execution_count": 14,
     "metadata": {},
     "output_type": "execute_result"
    }
   ],
   "source": [
    "a"
   ]
  },
  {
   "cell_type": "code",
   "execution_count": 7,
   "metadata": {},
   "outputs": [
    {
     "data": {
      "text/plain": [
       "'Chico'"
      ]
     },
     "execution_count": 7,
     "metadata": {},
     "output_type": "execute_result"
    }
   ],
   "source": [
    "b"
   ]
  },
  {
   "cell_type": "code",
   "execution_count": 8,
   "metadata": {},
   "outputs": [
    {
     "data": {
      "text/plain": [
       "'Harpo'"
      ]
     },
     "execution_count": 8,
     "metadata": {},
     "output_type": "execute_result"
    }
   ],
   "source": [
    "c"
   ]
  },
  {
   "cell_type": "markdown",
   "metadata": {},
   "source": [
    "これは、**タプル**の**アンパック**と呼ばれることがある。\n",
    "\n",
    "タプルを使えば、一時変数を使わずにひとつの文で値を交換出来る。\n",
    "\n",
    "例："
   ]
  },
  {
   "cell_type": "code",
   "execution_count": 13,
   "metadata": {},
   "outputs": [],
   "source": [
    "password = 'swordfish'\n",
    "icecream = 'tuttifrutti'\n",
    "password, icecream = icecream, password"
   ]
  },
  {
   "cell_type": "code",
   "execution_count": 12,
   "metadata": {},
   "outputs": [
    {
     "data": {
      "text/plain": [
       "'tuttifrutti'"
      ]
     },
     "execution_count": 12,
     "metadata": {},
     "output_type": "execute_result"
    }
   ],
   "source": [
    "password"
   ]
  },
  {
   "cell_type": "code",
   "execution_count": 10,
   "metadata": {},
   "outputs": [
    {
     "data": {
      "text/plain": [
       "'swordfish'"
      ]
     },
     "execution_count": 10,
     "metadata": {},
     "output_type": "execute_result"
    }
   ],
   "source": [
    "icecream"
   ]
  },
  {
   "cell_type": "markdown",
   "metadata": {},
   "source": [
    "変換関数のtuple()を使うとほかのものからタプルを作れる。\n",
    "\n",
    "例："
   ]
  },
  {
   "cell_type": "code",
   "execution_count": 11,
   "metadata": {},
   "outputs": [
    {
     "data": {
      "text/plain": [
       "('Groucho', 'Chico', 'Harpo')"
      ]
     },
     "execution_count": 11,
     "metadata": {},
     "output_type": "execute_result"
    }
   ],
   "source": [
    "marx_list = ['Groucho', 'Chico', 'Harpo']\n",
    "tuple(marx_list)"
   ]
  },
  {
   "cell_type": "markdown",
   "metadata": {},
   "source": [
    "### 3.3.2 タプルとリストの比較\n",
    "---\n",
    "タプルはリストの代わりに使えることがあるが、作成後に書き換えられないので、リストと比べて関数がかなり少ない。append()、insert()などの関数はない。では、なぜリストの代わりにタプルを使おうという気になるのだろうか。\n",
    "\n",
    "- タプルは、消費スペースが小さい。\n",
    "- タプルの要素は、誤って書き換える危険がない。\n",
    "- タプルは辞書のキーとして使える。\n",
    "- **名前付きタプル**（「6.14.1 名前付きタプル」参照）は、オブジェクトの単純な代用品として使える。\n",
    "- 関数の引数は、タプルとして渡される。（「4.7 関数」参照）\n"
   ]
  }
 ],
 "metadata": {
  "kernelspec": {
   "display_name": "Python 3",
   "language": "python",
   "name": "python3"
  },
  "language_info": {
   "codemirror_mode": {
    "name": "ipython",
    "version": 3
   },
   "file_extension": ".py",
   "mimetype": "text/x-python",
   "name": "python",
   "nbconvert_exporter": "python",
   "pygments_lexer": "ipython3",
   "version": "3.6.4"
  }
 },
 "nbformat": 4,
 "nbformat_minor": 2
}
