{
 "cells": [
  {
   "cell_type": "markdown",
   "metadata": {},
   "source": [
    "# 5章 Pyの化粧箱：モジュール、パッケージ、プログラム\n",
    "---\n",
    "基礎力の養成の段階では、組み込みデータ型からもっと大きなデータ構造、さらにはコード構造の構築に進んだ。この章では、ついに本題に入って、Pythonで現実的な大規模プログラムを書くための方法を学ぶ。"
   ]
  },
  {
   "cell_type": "markdown",
   "metadata": {},
   "source": [
    "## 5.1 スタンドアローンプログラム\n",
    "---\n",
    "今までは、Pythonの対話型インタプリタのなかで次のようなコードの断片を書いて実行していた。\n",
    "\n",
    "\\>>> print(\"This interactive snippet works.\")\n",
    "This interactive snippet works.\n",
    "\n",
    "いよいよ初めてのスタンドアローンプログラムを書こう。手持ちのコンピュータで次の1行のPythonコードを含むtest1.pyというファイルを作る。\n",
    "\n",
    "print(\"This standalone program works!\")\n",
    "\n",
    "\\>>>プロンプトがないことに注意しよう。1行のPythonコードだけだ。printの前にインデントを入れないようにしていただきたい。\n",
    "\n",
    "テキストターミナル、またはターミナルウィンドウでPythonを実行している場合は、Pythonプログラムの名前に続いてプログラムファイル名を入力する。\n",
    "\n",
    "$ python test1.py\n",
    "This standalone program works!\n",
    "\n",
    "> 本書で今までに示してきた対話型コードは、ファイルに保存すればすべて直接実行出来る。カット＆ペーストをするときには、冒頭の\\>>>と...（直後の1個のスペースを含む）を削除するのを忘れないようにしよう。"
   ]
  }
 ],
 "metadata": {
  "kernelspec": {
   "display_name": "Python 3",
   "language": "python",
   "name": "python3"
  },
  "language_info": {
   "codemirror_mode": {
    "name": "ipython",
    "version": 3
   },
   "file_extension": ".py",
   "mimetype": "text/x-python",
   "name": "python",
   "nbconvert_exporter": "python",
   "pygments_lexer": "ipython3",
   "version": "3.6.4"
  }
 },
 "nbformat": 4,
 "nbformat_minor": 2
}
