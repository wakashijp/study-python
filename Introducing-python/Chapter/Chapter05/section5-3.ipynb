{
 "cells": [
  {
   "cell_type": "markdown",
   "metadata": {},
   "source": [
    "# 5章 Pyの化粧箱：モジュール、パッケージ、プログラム\n",
    "---\n",
    "基礎力の養成の段階では、組み込みデータ型からもっと大きなデータ構造、さらにはコード構造の構築に進んだ。この章では、ついに本題に入って、Pythonで現実的な大規模プログラムを書くための方法を学ぶ。"
   ]
  },
  {
   "cell_type": "markdown",
   "metadata": {},
   "source": [
    "## 5.3 モジュールとimport文\n",
    "---\n",
    "Pythonコードを複数のファイルで作り、それらを使うという新たなレベルにステップアップしよう。**モジュール**は、Pythonコードにまとめたファイルである。\n",
    "\n",
    "本書のテキストは階層構造になっている。単語、文、段落、章。そうなっていなければ、1，2ページ読んだだけでとても読めないという感じになってしまうだろう。コードにも同じようなボトムアップの構造がある。データ型が単語、文が文、関数が段落、モジュールが章に当たる。さらにこの喩えを使っていくと、本書では、たとえば何かを8章で説明すると言うことがあるが、それはプログラミングでほかのモジュールのコードを参照するのと似ている。\n",
    "\n",
    "ほかのモジュールのコードは、import文で参照する。こうすると、インポートしたモジュールのコード、変数をプログラム内で使えるようになる。"
   ]
  },
  {
   "cell_type": "markdown",
   "metadata": {},
   "source": [
    "### 5.3.1 モジュールのインポート\n",
    "---\n",
    "import文のもっとも単純な使い方は、import moduleというものだ。ここで、moduleの部分は、ほかのPythonファイルのファイル名から拡張子の.pyを取り除いたものである。\n",
    "\n",
    "気象台をシミュレートして、天気予報を表示してみよう。メインプログラムが予報を表示する。そして、ひとつの関数を含む別のモジュールが、予報で使われる天気についての説明を返す。\n",
    "\n",
    "メインプログラムは次のようになる（weatherman.pyと呼ぶことにする）。\n",
    "\n",
    "```\n",
    "import report\n",
    "\n",
    "\n",
    "description = report.get_description()\n",
    "print(\"Today's weather:\", description)\n",
    "```\n",
    "そして、モジュールは次の通りだ(report.py）\n",
    "\n",
    "```\n",
    "def get_description(): # 下記docstringを参照\n",
    "    \"\"\"プロと同じようにランダムな天気を返す\"\"\"\n",
    "    from random import choice\n",
    "    possibilities = ['rain', 'snow', 'sleet', 'fog', 'sun', 'who knows']\n",
    "    return choice(possibilities)\n",
    "```\n",
    "\n",
    "これらふたつのファイルを同じディレクトに置き、Pythonにweatherman.pyをメインプログラムとして実行せよと指示すると、weatherman.pyはreportモジュールにアクセスし、そのget_description()関数を実行する。このバージョンのget_description()関数は、文字列リストからランダムな結果を返すように作られているので、メインプログラムはその結果を手に入れて表示する。\n",
    "\n",
    "```\n",
    "$ python weaterman.py\n",
    "Today's weather: who knows\n",
    "```\n",
    "\n",
    "```\n",
    "$ python weatherman.py\n",
    "Today's weather: sun\n",
    "```\n",
    "\n",
    "```\n",
    "$ python weatherman.py\n",
    "Today's weather: sleet\n",
    "```\n",
    "\n",
    "このプログラムでは、ふたつの別々の場所でインポートを使っている。\n",
    "\n",
    "- メインプログラムのweatherman.pyは、reportモジュールをインポートしている。\n",
    "- モジュールファイルreport.pyのget_description()関数は、Python標準のrandomモジュールからchoice関数をインポートしている。\n",
    "\n",
    "ふたつのインポートはインポートの方法も異なる。\n",
    "\n",
    "- weatherman.pyはimport reportを呼び出し、次にreport.get_description()を実行している。\n",
    "- report.pyのget_description()関数は、from random import choiceを呼び出してから、choice(possibilities）を呼び出している。\n",
    "\n",
    "ひとつ目の方法は、reportモジュール全体をインポートしているが、get_description()のプレフィックスとしてreportを使わなければならない。このimport文を通り過ぎると、メインプログラムはreport.というプレフィックスを付ける限り、report.pyに含まれるすべての部分にアクセスできるようになる。モジュールの名前でモジュールの内容を**修飾**することにより、名前の衝突が避けられる。どこかほかのモジュールにget_description()関数があっても、間違ってそれを呼び出すことはない。\n",
    "\n",
    "第2の方法では、私たちは関数のなかにおり、ほかにchoiceという名前のものはないことがわかっているので、randomモジュールから直接choice()関数をインポートしている。そのため、get_description()関数は、次のようにランダムな結果を返すコードとして書くことができた。\n",
    "\n",
    "```\n",
    "def get_description():\n",
    "    import random\n",
    "    possibilities = ['rain', 'snow', 'sleet', 'fog', 'sun', 'who knows']\n",
    "    return random.choice(possibilities)\n",
    "```\n",
    "\n",
    "プログラムのさまざまな側面と同様に、自分にとってもっとも明確と思えるスタイルを選ぶようにしよう。モジュール修飾名（random.choice)の方が安全だが、少し余分にタイプしなければならない。\n",
    "\n",
    "今までのget_description()サンプルでは、**何**をインポートするかについては異なる何を示していたが、**どこ**でインポートをするかについてはそうではなかった。どれもimportを呼び出していたのは関数のなかだった。randomは関数の外からでもインポートできる。"
   ]
  },
  {
   "cell_type": "code",
   "execution_count": 1,
   "metadata": {},
   "outputs": [],
   "source": [
    "import random\n",
    "def get_description():\n",
    "    possibilities = ['rain', 'show', 'sleet', 'fog', 'sun', 'who knows']\n",
    "    return random.choice(possibilities)"
   ]
  },
  {
   "cell_type": "code",
   "execution_count": 2,
   "metadata": {},
   "outputs": [
    {
     "data": {
      "text/plain": [
       "'sleet'"
      ]
     },
     "execution_count": 2,
     "metadata": {},
     "output_type": "execute_result"
    }
   ],
   "source": [
    "get_description()"
   ]
  },
  {
   "cell_type": "code",
   "execution_count": 4,
   "metadata": {},
   "outputs": [
    {
     "data": {
      "text/plain": [
       "'who knows'"
      ]
     },
     "execution_count": 4,
     "metadata": {},
     "output_type": "execute_result"
    }
   ],
   "source": [
    "get_description()"
   ]
  },
  {
   "cell_type": "markdown",
   "metadata": {},
   "source": [
    "インポートされるコードが複数の場所で使われる場合には、関数の外でインポートすることを考えるとよい。使われる場所が限定されている場合には、使う関数のなかから呼び出す。コードの依存関係をすべてはっきりとわかるようにするために、ファイルの冒頭ですべてのインポートをする人々もいる。どちらでも機能する。"
   ]
  },
  {
   "cell_type": "markdown",
   "metadata": {},
   "source": [
    "### 5.3.2 別名によるモジュールのインポート\n",
    "---\n",
    "先程はメインプログラムのweatherman.pyでimport reportを呼び出した。しかし、同じ名前の別のモジュールが必要なときや、もっと覚えやすい名前を簡潔な名前を使いたい場合にはどうすればよいだろうか。そのようなときには、**別名**を使ってインポートすればよい。wrという別名を使ってみよう。\n",
    "\n",
    "```\n",
    "import report as wr\n",
    "\n",
    "description = wr.get_description()\n",
    "print(\"Today's weather:\", description)\n",
    "```\n"
   ]
  },
  {
   "cell_type": "markdown",
   "metadata": {},
   "source": []
  }
 ],
 "metadata": {
  "kernelspec": {
   "display_name": "Python 3",
   "language": "python",
   "name": "python3"
  },
  "language_info": {
   "codemirror_mode": {
    "name": "ipython",
    "version": 3
   },
   "file_extension": ".py",
   "mimetype": "text/x-python",
   "name": "python",
   "nbconvert_exporter": "python",
   "pygments_lexer": "ipython3",
   "version": "3.6.4"
  }
 },
 "nbformat": 4,
 "nbformat_minor": 2
}
