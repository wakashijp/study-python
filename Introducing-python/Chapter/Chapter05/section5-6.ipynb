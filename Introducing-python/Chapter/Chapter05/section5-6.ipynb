{
 "cells": [
  {
   "cell_type": "markdown",
   "metadata": {},
   "source": [
    "# 5章 Pyの化粧箱：モジュール、パッケージ、プログラム\n",
    "---\n",
    "基礎力の養成の段階では、組み込みデータ型からもっと大きなデータ構造、さらにはコード構造の構築に進んだ。この章では、ついに本題に入って、Pythonで現実的な大規模プログラムを書くための方法を学ぶ。"
   ]
  },
  {
   "cell_type": "markdown",
   "metadata": {},
   "source": [
    "## 5.6 バッテリー補充：ほかのPythonコードの入手\n",
    "---\n",
    "標準ライブラリには必要な処理をしてくれる関数がなかったり、微妙に動作が要求とは異なる関数しかなかったりすることがある。しかし、標準ライブラリ以外にも、オープンソースのサードパーティPythonソフトウェアの世界がある。優れたリソースとしては、次のものがある。\n",
    "\n",
    "- [PyPI](https://pypi.python.org/pypi)\n",
    "- [github](https://github.com/Python)\n",
    "- [readthedocs](https://readthedocs.org)\n",
    "\n",
    "また、[activestate](http://code.activestate.com/recipes/langs/python/)には、比較的小さなコードサンプルが多数揃っている。\n",
    "\n",
    "本書のほぼすべてのPythonコードは、コンピュータに標準でインストールされるPythonシステムの内容を使っている。そのなかには、すべての組み込みライブラリと標準ライブラリが含まれる。しかし、外部パッケージも使っていることがある。\n",
    "\n",
    "1章ではrequestsを使ったが、9.1.3節ではその詳細を説明する。また、付録Dでは、サードパーティPythonソフトウェアのインストール方法、その他の開発上必要な細部を示す。"
   ]
  }
 ],
 "metadata": {
  "kernelspec": {
   "display_name": "Python 3",
   "language": "python",
   "name": "python3"
  },
  "language_info": {
   "codemirror_mode": {
    "name": "ipython",
    "version": 3
   },
   "file_extension": ".py",
   "mimetype": "text/x-python",
   "name": "python",
   "nbconvert_exporter": "python",
   "pygments_lexer": "ipython3",
   "version": "3.6.4"
  }
 },
 "nbformat": 4,
 "nbformat_minor": 2
}
