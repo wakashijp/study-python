{
 "cells": [
  {
   "cell_type": "markdown",
   "metadata": {},
   "source": [
    "# 5章 Pyの化粧箱：モジュール、パッケージ、プログラム\n",
    "---\n",
    "基礎力の養成の段階では、組み込みデータ型からもっと大きなデータ構造、さらにはコード構造の構築に進んだ。この章では、ついに本題に入って、Pythonで現実的な大規模プログラムを書くための方法を学ぶ。"
   ]
  },
  {
   "cell_type": "markdown",
   "metadata": {},
   "source": [
    "## 5.2 コマンドライン引数\n",
    "---\n",
    "コンピュータ上で次の2行を含むtest2.pyというファイルを作ろう。\n",
    "\n",
    "import sys  \n",
    "print('Program arguments:', sys.argv\n",
    "\n",
    "手持ちのPythonを使ってこのプログラムを実行する。LinuxやMac OS Xのターミナルウィンドウで標準のシェルプログラムを使うと、次のような感じになる。\n",
    "\n",
    "\\$ python test2.py  \n",
    "Program arguments: ['test2.py']  \n",
    "\\$ python test2.py tra la la  \n",
    "Program arguments: ['test2.py', 'tra', 'la', 'la']\n"
   ]
  }
 ],
 "metadata": {
  "kernelspec": {
   "display_name": "Python 3",
   "language": "python",
   "name": "python3"
  },
  "language_info": {
   "codemirror_mode": {
    "name": "ipython",
    "version": 3
   },
   "file_extension": ".py",
   "mimetype": "text/x-python",
   "name": "python",
   "nbconvert_exporter": "python",
   "pygments_lexer": "ipython3",
   "version": "3.6.4"
  }
 },
 "nbformat": 4,
 "nbformat_minor": 2
}
