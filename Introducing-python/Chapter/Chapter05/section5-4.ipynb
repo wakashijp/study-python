{
 "cells": [
  {
   "cell_type": "markdown",
   "metadata": {},
   "source": [
    "# 5章 Pyの化粧箱：モジュール、パッケージ、プログラム\n",
    "---\n",
    "基礎力の養成の段階では、組み込みデータ型からもっと大きなデータ構造、さらにはコード構造の構築に進んだ。この章では、ついに本題に入って、Pythonで現実的な大規模プログラムを書くための方法を学ぶ。"
   ]
  },
  {
   "cell_type": "markdown",
   "metadata": {},
   "source": [
    "## 5.4\n",
    "---\n",
    "私たちは1行のコードから複数行の関数、スタンドアローンプログラムを経て、同一ディレクトリ上の複数のモジュールまで進んできた。Pythonアプリケーションをもっと大規模にするために、モジュールは**パッケージ**と呼ばれる階層構造に組織することができる。\n",
    "\n",
    "たとえば異なるタイプの天気予報のテキストが欲しいものとする。ひとつは翌日のもの、もう一つは翌週のものだ。このようなとき、たとえばsourcesというディレクトリを作り、そのなかにdaily.pyとweekly.pyのふたつのモジュールを作って、両方のモジュールにforecastという関数を作る。dailyバージョンは1個の文字列を返すのに対し、weeklyバージョンは7個の文字列のリストを返す。\n",
    "\n",
    "それでは、メインプログラムとふたつのモジュールを見ていこう。（enumerate()関数は、リストを分解してforループにリストの個々の要素を供給する。このとき、ちょっとしたボーナスとして個々の要素に番号を追加する）。\n",
    "\n",
    "**メインプログラム：weather.py**\n",
    "```\n",
    "from sources import daily, weekly\n",
    "\n",
    "\n",
    "print(\"Daily forecast:\", daily.forecast())\n",
    "print(\"Weekly forecast:\")\n",
    "for number, outlook in enumerate(weekly.forecast(), 1):\n",
    "    print(number, outlook)\n",
    "```\n",
    "\n",
    "**モジュール1：sources/daily.py**\n",
    "```\n",
    "def forecast():\n",
    "    \"\"\"ニセの天気予報\"\"\"\n",
    "    return 'like yesterday'\n",
    "```\n",
    "\n",
    "**モジュール2：sources/weekly.py**\n",
    "```\n",
    "def forecast():\n",
    "    \"\"\"ニセの週間天気予報\"\"\"\n",
    "    return ['snow', 'more snow', 'sleet', 'freezing rain', 'fog', 'hail']\n",
    "```\n",
    "\n",
    "sourcesディレクトリには、もうひとつ\\_\\_init\\_\\_.pyという名前のファイルを作る必要がある。中身は空でよいが、Pythonはこのファイルがあるディレクトリをパッケージとして扱うのである。\n",
    "\n",
    "メインプログラムのweather.pyを実行して、何が起きるかを見てみよう。\n",
    "\n",
    "```\n",
    "$ python weather.py\n",
    "Daily forecast: like yesterday\n",
    "Weekly forecast:\n",
    "1 snow\n",
    "2 more snow\n",
    "3 sleet\n",
    "4 freezing rain\n",
    "5 rain\n",
    "6 fog\n",
    "7 hail\n",
    "```\n"
   ]
  },
  {
   "cell_type": "code",
   "execution_count": null,
   "metadata": {},
   "outputs": [],
   "source": []
  }
 ],
 "metadata": {
  "kernelspec": {
   "display_name": "Python 3",
   "language": "python",
   "name": "python3"
  },
  "language_info": {
   "codemirror_mode": {
    "name": "ipython",
    "version": 3
   },
   "file_extension": ".py",
   "mimetype": "text/x-python",
   "name": "python",
   "nbconvert_exporter": "python",
   "pygments_lexer": "ipython3",
   "version": "3.6.4"
  }
 },
 "nbformat": 4,
 "nbformat_minor": 2
}
