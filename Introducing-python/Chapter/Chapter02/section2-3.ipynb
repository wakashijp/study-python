{
 "cells": [
  {
   "cell_type": "markdown",
   "metadata": {},
   "source": [
    "# 2章 Pyの成分：数値、文字列、変数\n",
    "---\n",
    "この章は、Pythonのもっとも単純な組み込みデータ型を学ぶ。\n",
    "\n",
    "- ブール値（TrueまたはFalseの値を持つ）\n",
    "- 整数（42、100000000などの小数点以下がない数値）\n",
    "- 浮動小数点数（3.14159のように小数点以下の部分がある数値、あるいは、10e8のような指数表現。10e8は10の8乗という意味で、100000000.0を意味する）\n",
    "- 文字列（文字の並び）\n"
   ]
  },
  {
   "cell_type": "markdown",
   "metadata": {},
   "source": [
    "## 2.3 文字列\n",
    "---\n",
    "Python3は、Unicode標準をサポートしているので、文字表現を持つ世界中のすべての言語の文字とさまざまな記号を使うことができる。\n",
    "\n",
    "文字列は、本書で取り上げるPythonシーケンスの最初の例だ。この場合は、文字のシーケンスである。\n",
    "\n",
    "他の言語とは異なり、Pythonの文字列は**イミュータブル**である。つまり、文字列をその場で書き換えることはできない。しかし、書き換えと同じ効果を得るために、文字列の一部をほかの文字列にコピーすることはできる。"
   ]
  },
  {
   "cell_type": "markdown",
   "metadata": {},
   "source": [
    "### 2.3.1 クォートを使った作成\n",
    "---\n",
    "Python文字列は、次に示すように、シングルクォートかダブルクォートで文字列を囲んで作る。\n",
    "\n",
    "例："
   ]
  },
  {
   "cell_type": "code",
   "execution_count": 1,
   "metadata": {},
   "outputs": [
    {
     "data": {
      "text/plain": [
       "'Snap'"
      ]
     },
     "execution_count": 1,
     "metadata": {},
     "output_type": "execute_result"
    }
   ],
   "source": [
    "'Snap'"
   ]
  },
  {
   "cell_type": "code",
   "execution_count": 2,
   "metadata": {},
   "outputs": [
    {
     "data": {
      "text/plain": [
       "'Crackle'"
      ]
     },
     "execution_count": 2,
     "metadata": {},
     "output_type": "execute_result"
    }
   ],
   "source": [
    "\"Crackle\""
   ]
  },
  {
   "cell_type": "markdown",
   "metadata": {},
   "source": [
    "対話型インタプリタは、文字列をエコー表示するときにシングルクォートを付けるが、どちらのクォートを使って作っても、Pythonはまったく同じように扱う。\n",
    "\n",
    "なぜ、2種類のクォートを使えるようになっているのだろうか。それは、クォート文字を含む文字列を作りやすくするためだ。ダブルクォートで文字列を作るときには、文字列内にシングルクォートを入れることができる。シングルクォートで文字列を作るときには、文字列内にダブルクォートを入れることができる。\n",
    "\n",
    "例："
   ]
  },
  {
   "cell_type": "code",
   "execution_count": 3,
   "metadata": {},
   "outputs": [
    {
     "data": {
      "text/plain": [
       "\"'Nay,' said the naysayer.\""
      ]
     },
     "execution_count": 3,
     "metadata": {},
     "output_type": "execute_result"
    }
   ],
   "source": [
    "\"'Nay,' said the naysayer.\""
   ]
  },
  {
   "cell_type": "code",
   "execution_count": 4,
   "metadata": {},
   "outputs": [
    {
     "data": {
      "text/plain": [
       "'The rare double quote in captivity: \".'"
      ]
     },
     "execution_count": 4,
     "metadata": {},
     "output_type": "execute_result"
    }
   ],
   "source": [
    "'The rare double quote in captivity: \".'"
   ]
  },
  {
   "cell_type": "code",
   "execution_count": 5,
   "metadata": {},
   "outputs": [
    {
     "data": {
      "text/plain": [
       "'A \"two by four\" is actually 1 1/2\" X 3 1/2\".'"
      ]
     },
     "execution_count": 5,
     "metadata": {},
     "output_type": "execute_result"
    }
   ],
   "source": [
    "'A \"two by four\" is actually 1 1/2\" X 3 1/2\".'"
   ]
  },
  {
   "cell_type": "code",
   "execution_count": 6,
   "metadata": {},
   "outputs": [
    {
     "data": {
      "text/plain": [
       "\"'There's the man that shot my paw!' cried the limping hound.\""
      ]
     },
     "execution_count": 6,
     "metadata": {},
     "output_type": "execute_result"
    }
   ],
   "source": [
    "\"'There's the man that shot my paw!' cried the limping hound.\""
   ]
  },
  {
   "cell_type": "markdown",
   "metadata": {},
   "source": [
    "3個のシングルクォート（'''）や3個のダブルクォート（\"\"\"）を使うこともできる。\n",
    "\n",
    "例："
   ]
  },
  {
   "cell_type": "code",
   "execution_count": 7,
   "metadata": {},
   "outputs": [
    {
     "data": {
      "text/plain": [
       "'Boom!'"
      ]
     },
     "execution_count": 7,
     "metadata": {},
     "output_type": "execute_result"
    }
   ],
   "source": [
    "'''Boom!'''"
   ]
  },
  {
   "cell_type": "code",
   "execution_count": 8,
   "metadata": {},
   "outputs": [
    {
     "data": {
      "text/plain": [
       "'Eek!'"
      ]
     },
     "execution_count": 8,
     "metadata": {},
     "output_type": "execute_result"
    }
   ],
   "source": [
    "\"\"\"Eek!\"\"\""
   ]
  },
  {
   "cell_type": "markdown",
   "metadata": {},
   "source": [
    "トリプルクォートは、このような短い文字列ではあまり役に立たない。普通は、エドワード・リアの次の古典的な詩のような**複数行文字列**を作るために使われる。\n",
    "\n",
    "例："
   ]
  },
  {
   "cell_type": "code",
   "execution_count": 9,
   "metadata": {},
   "outputs": [],
   "source": [
    "poem = '''There was a Young Lady of Norway,\n",
    "Who casually sat in a doorway;\n",
    "When the door squeezed her flat,\n",
    "She exclaimed, \"What of that?\"\n",
    "This courageous Young Lady of Norway.'''"
   ]
  },
  {
   "cell_type": "markdown",
   "metadata": {},
   "source": [
    "トリプルクォートのなかに複数行の文字列を入れると、その文字列には改行文字も残される。先頭や末尾にスペースがある場合、それらも残る。\n",
    "\n",
    "例："
   ]
  },
  {
   "cell_type": "code",
   "execution_count": 10,
   "metadata": {},
   "outputs": [
    {
     "name": "stdout",
     "output_type": "stream",
     "text": [
      "I do not like thee, Doctor Fell.\n",
      "The reason why, I cannot tell.\n",
      "But this I know, and know full well:\n",
      "I do not like thee, Doctor Fell.\n",
      "\n"
     ]
    }
   ],
   "source": [
    "poem2 = '''I do not like thee, Doctor Fell.\n",
    "The reason why, I cannot tell.\n",
    "But this I know, and know full well:\n",
    "I do not like thee, Doctor Fell.\n",
    "'''\n",
    "print(poem2)"
   ]
  },
  {
   "cell_type": "markdown",
   "metadata": {},
   "source": [
    "ちなみに、print()の出力と、対話型インタプリタが行う自動エコーの出力には違いがある。\n",
    "\n",
    "例："
   ]
  },
  {
   "cell_type": "code",
   "execution_count": 11,
   "metadata": {},
   "outputs": [
    {
     "data": {
      "text/plain": [
       "'I do not like thee, Doctor Fell.\\nThe reason why, I cannot tell.\\nBut this I know, and know full well:\\nI do not like thee, Doctor Fell.\\n'"
      ]
     },
     "execution_count": 11,
     "metadata": {},
     "output_type": "execute_result"
    }
   ],
   "source": [
    "poem2"
   ]
  },
  {
   "cell_type": "markdown",
   "metadata": {},
   "source": [
    "print()は文字列からクォートを取り除き、文字列の内容を表示する。それは人間向けの出力ということである。さらに、表示する項目の間にスペースを追加し、末尾に改行を追加する。\n",
    "\n",
    "例："
   ]
  },
  {
   "cell_type": "code",
   "execution_count": 12,
   "metadata": {},
   "outputs": [
    {
     "name": "stdout",
     "output_type": "stream",
     "text": [
      "99 bottle would be enough.\n"
     ]
    }
   ],
   "source": [
    "print(99, 'bottle', 'would be enough.')"
   ]
  },
  {
   "cell_type": "markdown",
   "metadata": {},
   "source": [
    "スペースや改行が追加されるのがいやなら、これらが入らないようにする方法もある。\n",
    "\n",
    "インタプリタは、前後にシングルクォートを付け、\\nのような**エスケープ文字**を使って文字列を表示する。\n",
    "\n",
    "最後に、文字列には**空文字列**というものがある。これは文字がひとつも含まれていない文字列だが、完全に有効な文字列として扱われる。空文字列は、今までに説明してきたクォートを使って作ることができる。\n",
    "\n",
    "例："
   ]
  },
  {
   "cell_type": "code",
   "execution_count": 13,
   "metadata": {},
   "outputs": [
    {
     "data": {
      "text/plain": [
       "''"
      ]
     },
     "execution_count": 13,
     "metadata": {},
     "output_type": "execute_result"
    }
   ],
   "source": [
    "''"
   ]
  },
  {
   "cell_type": "code",
   "execution_count": 14,
   "metadata": {},
   "outputs": [
    {
     "data": {
      "text/plain": [
       "''"
      ]
     },
     "execution_count": 14,
     "metadata": {},
     "output_type": "execute_result"
    }
   ],
   "source": [
    "\"\""
   ]
  },
  {
   "cell_type": "code",
   "execution_count": 15,
   "metadata": {},
   "outputs": [
    {
     "data": {
      "text/plain": [
       "''"
      ]
     },
     "execution_count": 15,
     "metadata": {},
     "output_type": "execute_result"
    }
   ],
   "source": [
    "''''''"
   ]
  },
  {
   "cell_type": "code",
   "execution_count": 16,
   "metadata": {},
   "outputs": [
    {
     "data": {
      "text/plain": [
       "''"
      ]
     },
     "execution_count": 16,
     "metadata": {},
     "output_type": "execute_result"
    }
   ],
   "source": [
    "\"\"\"\"\"\""
   ]
  },
  {
   "cell_type": "markdown",
   "metadata": {},
   "source": [
    "なぜ、空文字列が必要なのだろうか。ほかの文字列から新しく文字列を組み立てたいときには、まず白紙のノートが必要なのだ。\n",
    "\n",
    "例："
   ]
  },
  {
   "cell_type": "code",
   "execution_count": 17,
   "metadata": {},
   "outputs": [
    {
     "data": {
      "text/plain": [
       "'current inventory: 99'"
      ]
     },
     "execution_count": 17,
     "metadata": {},
     "output_type": "execute_result"
    }
   ],
   "source": [
    "bottle = 99\n",
    "base = ''\n",
    "base += 'current inventory: ' # 在庫\n",
    "base += str(bottle)\n",
    "base"
   ]
  },
  {
   "cell_type": "markdown",
   "metadata": {},
   "source": [
    "### 2.3.2 str()を使った型変換\n",
    "---\n",
    "str()関数を使えば、Pythonのほかのデータ型を文字列に変換できる。\n",
    "\n",
    "例："
   ]
  },
  {
   "cell_type": "code",
   "execution_count": 18,
   "metadata": {},
   "outputs": [
    {
     "data": {
      "text/plain": [
       "'98.6'"
      ]
     },
     "execution_count": 18,
     "metadata": {},
     "output_type": "execute_result"
    }
   ],
   "source": [
    "str(98.6)"
   ]
  },
  {
   "cell_type": "code",
   "execution_count": 19,
   "metadata": {},
   "outputs": [
    {
     "data": {
      "text/plain": [
       "'10000.0'"
      ]
     },
     "execution_count": 19,
     "metadata": {},
     "output_type": "execute_result"
    }
   ],
   "source": [
    "str(1.0e4)"
   ]
  },
  {
   "cell_type": "code",
   "execution_count": 20,
   "metadata": {},
   "outputs": [
    {
     "data": {
      "text/plain": [
       "'True'"
      ]
     },
     "execution_count": 20,
     "metadata": {},
     "output_type": "execute_result"
    }
   ],
   "source": [
    "str(True)"
   ]
  },
  {
   "cell_type": "markdown",
   "metadata": {},
   "source": [
    "Pythonは、文字列ではないオブジェクトを引数としてprint()呼び出しが発生したときや、**文字列の展開**を行うときに、内部的にstr()関数を呼び出す。文字列の展開については、7章で取り上げる。"
   ]
  },
  {
   "cell_type": "markdown",
   "metadata": {},
   "source": [
    "### 2.3.3 \\によるエスケープ\n",
    "---\n",
    "Pythonは、文字列に含まれる一部の文字の意味を**エスケープ**して、ほかの方法では表現しにくい効果を実現している。特定の文字の前にバックスラッシュ（\\）を入れると、特別な意味になる。もっともよく使われるエスケープシーケンスは、改行の意味になる\\nだ。これを使うと1行の入力で複数行の文字列を作ることができる。\n",
    "\n",
    "例："
   ]
  },
  {
   "cell_type": "code",
   "execution_count": 22,
   "metadata": {},
   "outputs": [
    {
     "name": "stdout",
     "output_type": "stream",
     "text": [
      "A man, \n",
      "A plan, \n",
      "A canal:\n",
      "Panama.\n"
     ]
    }
   ],
   "source": [
    "palindrome = 'A man, \\nA plan, \\nA canal:\\nPanama.'\n",
    "print(palindrome)"
   ]
  },
  {
   "cell_type": "markdown",
   "metadata": {},
   "source": [
    "テキストの位置を揃えるために使われている\\tというエスケープシーケンスもよく見かけるだろう。\n",
    "\n",
    "例："
   ]
  },
  {
   "cell_type": "code",
   "execution_count": 23,
   "metadata": {},
   "outputs": [
    {
     "name": "stdout",
     "output_type": "stream",
     "text": [
      "\tabc\n"
     ]
    }
   ],
   "source": [
    "print('\\tabc')"
   ]
  },
  {
   "cell_type": "code",
   "execution_count": 24,
   "metadata": {},
   "outputs": [
    {
     "name": "stdout",
     "output_type": "stream",
     "text": [
      "a\tbc\n"
     ]
    }
   ],
   "source": [
    "print('a\\tbc')"
   ]
  },
  {
   "cell_type": "code",
   "execution_count": 25,
   "metadata": {},
   "outputs": [
    {
     "name": "stdout",
     "output_type": "stream",
     "text": [
      "ab\tc\n"
     ]
    }
   ],
   "source": [
    "print('ab\\tc')"
   ]
  },
  {
   "cell_type": "code",
   "execution_count": 26,
   "metadata": {},
   "outputs": [
    {
     "name": "stdout",
     "output_type": "stream",
     "text": [
      "abc\t\n"
     ]
    }
   ],
   "source": [
    "print('abc\\t')"
   ]
  },
  {
   "cell_type": "markdown",
   "metadata": {},
   "source": [
    "最後の文字列の末尾にはタブ文字が含まれているが、もちろん目には見えない。\n",
    "\n",
    "文字列を囲むために使っているシングルクォート、ダブルクォートを文字列内でもリテラルとして使いたい場合には、\\'、\\\"が必要になる。\n",
    "\n",
    "例："
   ]
  },
  {
   "cell_type": "code",
   "execution_count": 27,
   "metadata": {},
   "outputs": [
    {
     "name": "stdout",
     "output_type": "stream",
     "text": [
      "\"I did nothing!\" he said. \"Not that either! Or the other thing.\"\n"
     ]
    }
   ],
   "source": [
    "testimony = \"\\\"I did nothing!\\\" he said. \\\"Not that either! Or the other thing.\\\"\"\n",
    "print(testimony)"
   ]
  },
  {
   "cell_type": "code",
   "execution_count": 30,
   "metadata": {},
   "outputs": [
    {
     "name": "stdout",
     "output_type": "stream",
     "text": [
      "The world's largest rubber duck was 54'2\" by 65'7\" by 105'\n"
     ]
    }
   ],
   "source": [
    "fact = \"The world's largest rubber duck was 54'2\\\" by 65'7\\\" by 105'\"\n",
    "print(fact)"
   ]
  },
  {
   "cell_type": "markdown",
   "metadata": {},
   "source": [
    "リテラルのバックスラッシュが必要な場合には、バックスラッシュをふたつ重ねる。\n",
    "\n",
    "例："
   ]
  },
  {
   "cell_type": "code",
   "execution_count": 31,
   "metadata": {},
   "outputs": [
    {
     "name": "stdout",
     "output_type": "stream",
     "text": [
      "Today we honor our friend, the backslash: \\.\n"
     ]
    }
   ],
   "source": [
    "speech = 'Today we honor our friend, the backslash: \\\\.'\n",
    "print(speech)"
   ]
  },
  {
   "cell_type": "markdown",
   "metadata": {},
   "source": [
    "### 2.3.4 +による連結\n",
    "---\n",
    "Pythonでは、次のように+演算子を使えば、リテラル文字列、文字列変数を連結することができる。\n",
    "\n",
    "例："
   ]
  },
  {
   "cell_type": "code",
   "execution_count": 32,
   "metadata": {},
   "outputs": [
    {
     "data": {
      "text/plain": [
       "'Release the kraken! At once!'"
      ]
     },
     "execution_count": 32,
     "metadata": {},
     "output_type": "execute_result"
    }
   ],
   "source": [
    "'Release the kraken! ' + 'At once!'"
   ]
  },
  {
   "cell_type": "markdown",
   "metadata": {},
   "source": [
    "**リテラル文字列**の場合は、順に並べるだけでも連結できる（文字列変数ではできない）。\n",
    "\n",
    "例："
   ]
  },
  {
   "cell_type": "code",
   "execution_count": 33,
   "metadata": {},
   "outputs": [
    {
     "data": {
      "text/plain": [
       "'My word! A gengleman caller!'"
      ]
     },
     "execution_count": 33,
     "metadata": {},
     "output_type": "execute_result"
    }
   ],
   "source": [
    "\"My word! \" \"A gengleman caller!\""
   ]
  },
  {
   "cell_type": "markdown",
   "metadata": {},
   "source": [
    "文字列の連結では、Pythonは自動的にスペースを追加したりはしない。そこで、前の例では、明示的にスペースを入れる必要がある。それに対し、print()関数の各引数の間にはスペースを挿入し、末尾に改行を追加する。\n",
    "\n",
    "例："
   ]
  },
  {
   "cell_type": "code",
   "execution_count": 34,
   "metadata": {},
   "outputs": [
    {
     "data": {
      "text/plain": [
       "'Duck.Duck.Gray Duck!'"
      ]
     },
     "execution_count": 34,
     "metadata": {},
     "output_type": "execute_result"
    }
   ],
   "source": [
    "a = 'Duck.'\n",
    "b = a\n",
    "c = 'Gray Duck!'\n",
    "a + b + c"
   ]
  },
  {
   "cell_type": "code",
   "execution_count": 35,
   "metadata": {},
   "outputs": [
    {
     "name": "stdout",
     "output_type": "stream",
     "text": [
      "Duck. Duck. Gray Duck!\n"
     ]
    }
   ],
   "source": [
    "print(a, b, c)"
   ]
  },
  {
   "cell_type": "markdown",
   "metadata": {},
   "source": [
    "### 2.3.5 \\*による繰り返し\n",
    "---\n",
    "\\*演算子を使うと、文字列を繰り返すことができる。\n",
    "\n",
    "例："
   ]
  },
  {
   "cell_type": "code",
   "execution_count": 36,
   "metadata": {},
   "outputs": [
    {
     "name": "stdout",
     "output_type": "stream",
     "text": [
      "Na Na Na Na \n",
      "Na Na Na Na \n",
      "Hey Hey Hey \n",
      "Goobye.\n"
     ]
    }
   ],
   "source": [
    "start = 'Na ' * 4 + '\\n'\n",
    "middle = 'Hey ' * 3 + '\\n'\n",
    "end = 'Goobye.'\n",
    "print(start + start + middle + end)"
   ]
  },
  {
   "cell_type": "markdown",
   "metadata": {},
   "source": [
    "### 2.3.6 []による文字列の抽出\n",
    "---\n",
    "文字列のなかのひとつの文字を取り出したいときには、文字列名の後ろに角かっこ（[と]）で囲んだ文字の**オフセット**を続ける。先頭（もっとも左）の文字列のオフセットは0、その右が1、というように数える。末尾（もっとも右）の文字のオフセットは-1でも指定できるので、文字列を数える必要はない。右端の左は-2、さらにその左は-3のように続く。\n",
    "\n",
    "例："
   ]
  },
  {
   "cell_type": "code",
   "execution_count": 37,
   "metadata": {},
   "outputs": [
    {
     "data": {
      "text/plain": [
       "'a'"
      ]
     },
     "execution_count": 37,
     "metadata": {},
     "output_type": "execute_result"
    }
   ],
   "source": [
    "letters = 'abcdefghijklmnopqrstuvwxyz'\n",
    "letters[0]"
   ]
  },
  {
   "cell_type": "code",
   "execution_count": 38,
   "metadata": {},
   "outputs": [
    {
     "data": {
      "text/plain": [
       "'z'"
      ]
     },
     "execution_count": 38,
     "metadata": {},
     "output_type": "execute_result"
    }
   ],
   "source": [
    "letters[-1]"
   ]
  },
  {
   "cell_type": "code",
   "execution_count": 39,
   "metadata": {},
   "outputs": [
    {
     "data": {
      "text/plain": [
       "'y'"
      ]
     },
     "execution_count": 39,
     "metadata": {},
     "output_type": "execute_result"
    }
   ],
   "source": [
    "letters[-2]"
   ]
  },
  {
   "cell_type": "code",
   "execution_count": 40,
   "metadata": {},
   "outputs": [
    {
     "data": {
      "text/plain": [
       "'z'"
      ]
     },
     "execution_count": 40,
     "metadata": {},
     "output_type": "execute_result"
    }
   ],
   "source": [
    "letters[25]"
   ]
  },
  {
   "cell_type": "code",
   "execution_count": 41,
   "metadata": {},
   "outputs": [
    {
     "data": {
      "text/plain": [
       "'f'"
      ]
     },
     "execution_count": 41,
     "metadata": {},
     "output_type": "execute_result"
    }
   ],
   "source": [
    "letters[5]"
   ]
  },
  {
   "cell_type": "markdown",
   "metadata": {},
   "source": [
    "文字列の長さ以上のオフセットを指定すると、例外が起きる（オフセットは「0」から[長さ-1]までの範囲になることを忘れないこと）。\n",
    "\n",
    "例："
   ]
  },
  {
   "cell_type": "code",
   "execution_count": 42,
   "metadata": {},
   "outputs": [
    {
     "ename": "IndexError",
     "evalue": "string index out of range",
     "traceback": [
      "\u001b[0;31m---------------------------------------------------------------------------\u001b[0m",
      "\u001b[0;31mIndexError\u001b[0m                                Traceback (most recent call last)",
      "\u001b[0;32m<ipython-input-42-82591940fd7b>\u001b[0m in \u001b[0;36m<module>\u001b[0;34m()\u001b[0m\n\u001b[0;32m----> 1\u001b[0;31m \u001b[0mletters\u001b[0m\u001b[0;34m[\u001b[0m\u001b[0;36m100\u001b[0m\u001b[0;34m]\u001b[0m\u001b[0;34m\u001b[0m\u001b[0m\n\u001b[0m",
      "\u001b[0;31mIndexError\u001b[0m: string index out of range"
     ],
     "output_type": "error"
    }
   ],
   "source": [
    "letters[100]"
   ]
  },
  {
   "cell_type": "markdown",
   "metadata": {},
   "source": [
    "このインデックス参照は、3章で説明するように、ほかのシーケンス型（リストやタプル）でも機能する。\n",
    "\n",
    "文字列はイミュータブルなので、文字列に直接文字を挿入したり、指定したインデックスの位置の文字を置き換えたりすることはできない。'Henny'を'Penny'に書き換えようとしたときにどうなるかを確かめてみる。\n",
    "\n",
    "例："
   ]
  },
  {
   "cell_type": "code",
   "execution_count": 43,
   "metadata": {},
   "outputs": [
    {
     "ename": "TypeError",
     "evalue": "'str' object does not support item assignment",
     "traceback": [
      "\u001b[0;31m---------------------------------------------------------------------------\u001b[0m",
      "\u001b[0;31mTypeError\u001b[0m                                 Traceback (most recent call last)",
      "\u001b[0;32m<ipython-input-43-e6b3bcc124db>\u001b[0m in \u001b[0;36m<module>\u001b[0;34m()\u001b[0m\n\u001b[1;32m      1\u001b[0m \u001b[0mname\u001b[0m \u001b[0;34m=\u001b[0m \u001b[0;34m'Henny'\u001b[0m\u001b[0;34m\u001b[0m\u001b[0m\n\u001b[0;32m----> 2\u001b[0;31m \u001b[0mname\u001b[0m\u001b[0;34m[\u001b[0m\u001b[0;36m0\u001b[0m\u001b[0;34m]\u001b[0m \u001b[0;34m=\u001b[0m \u001b[0;34m'P'\u001b[0m\u001b[0;34m\u001b[0m\u001b[0m\n\u001b[0m",
      "\u001b[0;31mTypeError\u001b[0m: 'str' object does not support item assignment"
     ],
     "output_type": "error"
    }
   ],
   "source": [
    "name = 'Henny'\n",
    "name[0] = 'P'"
   ]
  },
  {
   "cell_type": "markdown",
   "metadata": {},
   "source": [
    "代わりに、replace()などの文字列関数や**スライス**の組み合わせを使う必要がある。\n",
    "\n",
    "例："
   ]
  },
  {
   "cell_type": "code",
   "execution_count": 44,
   "metadata": {},
   "outputs": [
    {
     "data": {
      "text/plain": [
       "'Penny'"
      ]
     },
     "execution_count": 44,
     "metadata": {},
     "output_type": "execute_result"
    }
   ],
   "source": [
    "name = 'Henny'\n",
    "name.replace('H', 'P')"
   ]
  },
  {
   "cell_type": "code",
   "execution_count": 45,
   "metadata": {},
   "outputs": [
    {
     "data": {
      "text/plain": [
       "'Penny'"
      ]
     },
     "execution_count": 45,
     "metadata": {},
     "output_type": "execute_result"
    }
   ],
   "source": [
    "'P' + name[1:]"
   ]
  },
  {
   "cell_type": "markdown",
   "metadata": {},
   "source": [
    "### 2.3.7 [ start:end:step ]によるスライス\n",
    "---\n",
    "**スライス**を使えば、文字列から**部分文字列**（文字列の一部）を取り出すことができる。\n",
    "\n",
    "スライスは角かっこと先頭オフセット（start）、末尾オフセット(end）、ステップ（step）で定義する。\n",
    "\n",
    "これらのなかには省略できるものがある。スライスには、startからendの1字手前までの文字が含まれる。\n",
    "\n",
    "- [:]は、先頭から末尾までのシーケンス全体を抽出する。\n",
    "- [start:]は、startオフセットから末尾までのシーケンスを抽出する。\n",
    "- [:end]は、先頭からend-1オフセットまでのシーケンスを抽出する。\n",
    "- [start:end]は、startオフセットからend-1オフセットまでのシーケンスを抽出する。\n",
    "- [start:end:step]は、step文字ごとにstartオフセットからend-1オフセットまでのシーケンスを抽出する。\n",
    "\n",
    "インデックス参照のときと同様に、オフセットはゼロから右に向かって0、1･･･となり、末尾から左に向かって-1、-2となる。startを指定しなければスライスは0（先頭）を使う。\n",
    "\n",
    "まずは、英子文字の文字列を作る。\n",
    "\n",
    "\\>>> letters = 'abcdefghijklmnopqrstuvwxyz'\n",
    "\n",
    ":だけを指定すると文字全体が指定される。\n",
    "\n",
    "例："
   ]
  },
  {
   "cell_type": "code",
   "execution_count": 46,
   "metadata": {},
   "outputs": [
    {
     "data": {
      "text/plain": [
       "'abcdefghijklmnopqrstuvwxyz'"
      ]
     },
     "execution_count": 46,
     "metadata": {},
     "output_type": "execute_result"
    }
   ],
   "source": [
    "letters = 'abcdefghijklmnopqrstuvwxyz'\n",
    "letters[:]"
   ]
  },
  {
   "cell_type": "markdown",
   "metadata": {},
   "source": [
    "次は、オフセット20から末尾までを切り取る例である。\n",
    "\n",
    "例："
   ]
  },
  {
   "cell_type": "code",
   "execution_count": 47,
   "metadata": {},
   "outputs": [
    {
     "data": {
      "text/plain": [
       "'uvwxyz'"
      ]
     },
     "execution_count": 47,
     "metadata": {},
     "output_type": "execute_result"
    }
   ],
   "source": [
    "letters[20:]"
   ]
  },
  {
   "cell_type": "markdown",
   "metadata": {},
   "source": [
    "オフセット10から末尾まではこうなる。\n",
    "\n",
    "例："
   ]
  },
  {
   "cell_type": "code",
   "execution_count": 48,
   "metadata": {},
   "outputs": [
    {
     "data": {
      "text/plain": [
       "'klmnopqrstuvwxyz'"
      ]
     },
     "execution_count": 48,
     "metadata": {},
     "output_type": "execute_result"
    }
   ],
   "source": [
    "letters[10:]"
   ]
  },
  {
   "cell_type": "markdown",
   "metadata": {},
   "source": [
    "オフセット12から14は次のようにする（Pythonは最後のオフセットを部分文字列に入れないことに注意する）。\n",
    "\n",
    "例："
   ]
  },
  {
   "cell_type": "code",
   "execution_count": 49,
   "metadata": {},
   "outputs": [
    {
     "data": {
      "text/plain": [
       "'mno'"
      ]
     },
     "execution_count": 49,
     "metadata": {},
     "output_type": "execute_result"
    }
   ],
   "source": [
    "letters[12:15]"
   ]
  },
  {
   "cell_type": "markdown",
   "metadata": {},
   "source": [
    "最後の3文字を取り出す。\n",
    "\n",
    "例："
   ]
  },
  {
   "cell_type": "code",
   "execution_count": 50,
   "metadata": {},
   "outputs": [
    {
     "data": {
      "text/plain": [
       "'xyz'"
      ]
     },
     "execution_count": 50,
     "metadata": {},
     "output_type": "execute_result"
    }
   ],
   "source": [
    "letters[-3:]"
   ]
  },
  {
   "cell_type": "markdown",
   "metadata": {},
   "source": [
    "次のサンプルでは、オフセット18から末尾より4文字手前までを切り取る。前の例では-3でxを取り出していたが、今度は-3が実際には-4まで進んでwで止まることに注意する。\n",
    "\n",
    "例："
   ]
  },
  {
   "cell_type": "code",
   "execution_count": 51,
   "metadata": {},
   "outputs": [
    {
     "data": {
      "text/plain": [
       "'stuvw'"
      ]
     },
     "execution_count": 51,
     "metadata": {},
     "output_type": "execute_result"
    }
   ],
   "source": [
    "letters[18:-3]"
   ]
  },
  {
   "cell_type": "markdown",
   "metadata": {},
   "source": [
    "次の例は、末尾の6文字手前から末尾の3文字手前までになる。\n",
    "\n",
    "例："
   ]
  },
  {
   "cell_type": "code",
   "execution_count": 52,
   "metadata": {},
   "outputs": [
    {
     "data": {
      "text/plain": [
       "'uvwx'"
      ]
     },
     "execution_count": 52,
     "metadata": {},
     "output_type": "execute_result"
    }
   ],
   "source": [
    "letters[-6:-2]"
   ]
  },
  {
   "cell_type": "markdown",
   "metadata": {},
   "source": [
    "1以外のステップを試してみる。以下の例のように、ふたつ目のコロンのあとにステップを指定すればよい。\n",
    "\n",
    "先頭から末尾まで7字ごとに文字を取り出してみる。\n",
    "\n",
    "例："
   ]
  },
  {
   "cell_type": "code",
   "execution_count": 53,
   "metadata": {},
   "outputs": [
    {
     "data": {
      "text/plain": [
       "'ahov'"
      ]
     },
     "execution_count": 53,
     "metadata": {},
     "output_type": "execute_result"
    }
   ],
   "source": [
    "letters[::7]"
   ]
  },
  {
   "cell_type": "markdown",
   "metadata": {},
   "source": [
    "オフセット4から19まで、3文字ごとに取り出す。\n",
    "\n",
    "例："
   ]
  },
  {
   "cell_type": "code",
   "execution_count": 54,
   "metadata": {},
   "outputs": [
    {
     "data": {
      "text/plain": [
       "'ehknqt'"
      ]
     },
     "execution_count": 54,
     "metadata": {},
     "output_type": "execute_result"
    }
   ],
   "source": [
    "letters[4:20:3]"
   ]
  },
  {
   "cell_type": "markdown",
   "metadata": {},
   "source": [
    "オフセット19から末尾まで、4文字ごとに取り出すとこうなる。\n",
    "\n",
    "例："
   ]
  },
  {
   "cell_type": "code",
   "execution_count": 55,
   "metadata": {},
   "outputs": [
    {
     "data": {
      "text/plain": [
       "'tx'"
      ]
     },
     "execution_count": 55,
     "metadata": {},
     "output_type": "execute_result"
    }
   ],
   "source": [
    "letters[19::4]"
   ]
  },
  {
   "cell_type": "markdown",
   "metadata": {},
   "source": [
    "先頭からオフセット20まで5文字ごとに取り出す。\n",
    "\n",
    "例："
   ]
  },
  {
   "cell_type": "code",
   "execution_count": 56,
   "metadata": {},
   "outputs": [
    {
     "data": {
      "text/plain": [
       "'afkpu'"
      ]
     },
     "execution_count": 56,
     "metadata": {},
     "output_type": "execute_result"
    }
   ],
   "source": [
    "letters[:21:5]"
   ]
  },
  {
   "cell_type": "markdown",
   "metadata": {},
   "source": [
    "繰り返しになるが、**末尾**の指定は実際のオフセットよりもひとつ先でなければならない。\n",
    "\n",
    "そして、これで終わりではない。ステップサイズとして負数を指定すると、この便利なスライス機能は、逆にステップしていく。次のようにすると、読み飛ばさずに末尾から先頭までを取り出していく。\n",
    "\n",
    "例："
   ]
  },
  {
   "cell_type": "code",
   "execution_count": 58,
   "metadata": {},
   "outputs": [
    {
     "data": {
      "text/plain": [
       "'zyxwvutsrqponmlkjihgfedcba'"
      ]
     },
     "execution_count": 58,
     "metadata": {},
     "output_type": "execute_result"
    }
   ],
   "source": [
    "letters[-1::-1]"
   ]
  },
  {
   "cell_type": "markdown",
   "metadata": {},
   "source": [
    "次のようにしても同じ結果が得られる。\n",
    "\n",
    "例："
   ]
  },
  {
   "cell_type": "code",
   "execution_count": 59,
   "metadata": {},
   "outputs": [
    {
     "data": {
      "text/plain": [
       "'zyxwvutsrqponmlkjihgfedcba'"
      ]
     },
     "execution_count": 59,
     "metadata": {},
     "output_type": "execute_result"
    }
   ],
   "source": [
    "letters[::-1]"
   ]
  },
  {
   "cell_type": "markdown",
   "metadata": {},
   "source": [
    "1個のインデックスによる参照と比べて、スライスは間違ったオフセットに寛容だ。以下の例からもわかるように、文字列の先頭よりも手前のスライスオフセットは0として扱われ、末尾よりも後ろのスライスオフセットは-1として扱われる。\n",
    "\n",
    "末尾の50字手前から末尾までを取り出すということは、次のような意味になる。\n",
    "\n",
    "例："
   ]
  },
  {
   "cell_type": "code",
   "execution_count": 60,
   "metadata": {},
   "outputs": [
    {
     "data": {
      "text/plain": [
       "'abcdefghijklmnopqrstuvwxyz'"
      ]
     },
     "execution_count": 60,
     "metadata": {},
     "output_type": "execute_result"
    }
   ],
   "source": [
    "letters[-50:]"
   ]
  },
  {
   "cell_type": "markdown",
   "metadata": {},
   "source": [
    "末尾の51字手前から末尾の50字手前まではこうだ。\n",
    "\n",
    "例："
   ]
  },
  {
   "cell_type": "code",
   "execution_count": 61,
   "metadata": {},
   "outputs": [
    {
     "data": {
      "text/plain": [
       "''"
      ]
     },
     "execution_count": 61,
     "metadata": {},
     "output_type": "execute_result"
    }
   ],
   "source": [
    "letters[-51:-50]"
   ]
  },
  {
   "cell_type": "markdown",
   "metadata": {},
   "source": [
    "先頭から70文字目までを指定するとこうなる。\n",
    "\n",
    "例："
   ]
  },
  {
   "cell_type": "code",
   "execution_count": 62,
   "metadata": {},
   "outputs": [
    {
     "data": {
      "text/plain": [
       "'abcdefghijklmnopqrstuvwxyz'"
      ]
     },
     "execution_count": 62,
     "metadata": {},
     "output_type": "execute_result"
    }
   ],
   "source": [
    "letters[:71]"
   ]
  },
  {
   "cell_type": "markdown",
   "metadata": {},
   "source": [
    "70字目から70字目まで指定すると空文字列になる。\n",
    "\n",
    "例："
   ]
  },
  {
   "cell_type": "code",
   "execution_count": 63,
   "metadata": {},
   "outputs": [
    {
     "data": {
      "text/plain": [
       "''"
      ]
     },
     "execution_count": 63,
     "metadata": {},
     "output_type": "execute_result"
    }
   ],
   "source": [
    "letters[70:71]"
   ]
  },
  {
   "cell_type": "markdown",
   "metadata": {},
   "source": [
    "### 2.3.8 len()による長さの取得\n",
    "---\n",
    "今までは、+などの特殊記号を使って文字列を操作してきた。しかし、そういった特殊記号はそれほどたくさんあるわけではない。ここからは、Pythonの組み込み**関数**を使う。関数とは、決められた操作を実行する名前付きのコードのことである。\n",
    "\n",
    "len()関数は、文字列内の文字数を数える。\n",
    "\n",
    "例："
   ]
  },
  {
   "cell_type": "code",
   "execution_count": 64,
   "metadata": {},
   "outputs": [
    {
     "data": {
      "text/plain": [
       "26"
      ]
     },
     "execution_count": 64,
     "metadata": {},
     "output_type": "execute_result"
    }
   ],
   "source": [
    "len(letters)"
   ]
  },
  {
   "cell_type": "code",
   "execution_count": 65,
   "metadata": {},
   "outputs": [
    {
     "data": {
      "text/plain": [
       "0"
      ]
     },
     "execution_count": 65,
     "metadata": {},
     "output_type": "execute_result"
    }
   ],
   "source": [
    "empty = \"\"\n",
    "len(empty)"
   ]
  },
  {
   "cell_type": "markdown",
   "metadata": {},
   "source": [
    "3章でも示すように、len()は、ほかのシーケンス型でも使える。"
   ]
  },
  {
   "cell_type": "markdown",
   "metadata": {},
   "source": [
    "### 2.3.9 split()による分割\n",
    "---\n",
    "関数のなかには、len()とは異なり、文字列専用のものもある。そのような文字列専用関数を使うときには、文字列の名前をタイプしてからドット、さらに関数名をタイプして、関数が必要とする**引数**を指定する。つまり、string.function(arguments)という形式だ。\n",
    "\n",
    "> string.function(arguments)\n",
    "\n",
    "組み込み関数の文字列関数split()を使えば、**セパレータ**に基づいて文字列を分割し、部分文字列の**リスト**を作ることができる。\n",
    "\n",
    "例："
   ]
  },
  {
   "cell_type": "code",
   "execution_count": 66,
   "metadata": {},
   "outputs": [
    {
     "data": {
      "text/plain": [
       "['get gloves', 'get mask', 'give cat vitamins', 'call ambulance']"
      ]
     },
     "execution_count": 66,
     "metadata": {},
     "output_type": "execute_result"
    }
   ],
   "source": [
    "todos = 'get gloves,get mask,give cat vitamins,call ambulance'\n",
    "todos.split(',')"
   ]
  },
  {
   "cell_type": "markdown",
   "metadata": {},
   "source": [
    "この例では、文字列はtodosという名前で、文字列関数はsplit()、引数は','というセパレータだけである。セパレータを指定していないsplit()は、セパレータとして空白文字（改行、スペース、タブ）のシーケンスを使う。\n",
    "\n",
    "例："
   ]
  },
  {
   "cell_type": "code",
   "execution_count": 71,
   "metadata": {},
   "outputs": [
    {
     "data": {
      "text/plain": [
       "['get', 'gloves,get', 'mask,give', 'cat', 'vitamins,call', 'ambulance']"
      ]
     },
     "execution_count": 71,
     "metadata": {},
     "output_type": "execute_result"
    }
   ],
   "source": [
    "todos.split()"
   ]
  },
  {
   "cell_type": "markdown",
   "metadata": {},
   "source": [
    "引数なしでsplit関数を呼び出すときでもかっこは必要だ。Pythonはかっこの有無で関数呼び出しかどうかを判断する。"
   ]
  },
  {
   "cell_type": "markdown",
   "metadata": {},
   "source": [
    "### 2.3.10 join()による結合\n",
    "---\n",
    "join()関数はsplit()関数の逆である。join()は、文字列のリストをひとつの文字列に結合する。\n",
    "\n",
    "> string.join(list)\n",
    "\n",
    "まず文字列の間に「糊としてはさむ文字列」を指定してから、結合する文字列のリストを指定する。そこで、改行を糊としてlinesというリストを結合するには、'\\n'.join(lines)のように記述する。\n",
    "\n",
    "次の例では、カンマとスペースを間に挟んでリストに含まれている名前を結合する。\n",
    "\n",
    "例："
   ]
  },
  {
   "cell_type": "code",
   "execution_count": 73,
   "metadata": {},
   "outputs": [
    {
     "name": "stdout",
     "output_type": "stream",
     "text": [
      "Found and signing book deals: Yeti, igfoot, Loch Ness Monster\n"
     ]
    }
   ],
   "source": [
    "crypt_list = ['Yeti', 'igfoot', 'Loch Ness Monster']\n",
    "crypt_string = ', '.join(crypt_list)\n",
    "print('Found and signing book deals:', crypt_string)"
   ]
  },
  {
   "cell_type": "markdown",
   "metadata": {},
   "source": [
    "### 2.3.11 多彩な文字列操作\n",
    "---\n",
    "Pythonは、文字列関数を豊富に持っている。そのなかでもよく使われるものがどのように機能するのか見てみる。\n",
    "\n",
    "テストの素材は、ニューカッスル公夫人マーガレット・キャベンディッシュの不滅の作品「液体とは何か」を収めた次の文字列である。\n",
    "\n",
    "例："
   ]
  },
  {
   "cell_type": "code",
   "execution_count": 74,
   "metadata": {},
   "outputs": [],
   "source": [
    "poem = '''All that doth flow we cannot liquid name\n",
    "Or else would fire and water be the same;\n",
    "But that is liquid which is moist and wet\n",
    "Fire that property can never get.\n",
    "Then 'tis not cold that doth the fire put out\n",
    "But 'tis the wet that makes it die, no doubt.'''"
   ]
  },
  {
   "cell_type": "markdown",
   "metadata": {},
   "source": [
    "最初の13字（オフセット0から12）を取り出す。\n",
    "\n",
    "例："
   ]
  },
  {
   "cell_type": "code",
   "execution_count": 76,
   "metadata": {},
   "outputs": [
    {
     "data": {
      "text/plain": [
       "'All that doth'"
      ]
     },
     "execution_count": 76,
     "metadata": {},
     "output_type": "execute_result"
    }
   ],
   "source": [
    "poem[:13]"
   ]
  },
  {
   "cell_type": "markdown",
   "metadata": {},
   "source": [
    "この詩には何文字含まれているか（この数字には、スペースと改行が含まれている）。\n",
    "\n",
    "例："
   ]
  },
  {
   "cell_type": "code",
   "execution_count": 77,
   "metadata": {},
   "outputs": [
    {
     "data": {
      "image/png": "[encoded data removed]",
      "text/plain": [
       "250"
      ]
     },
     "execution_count": 77,
     "metadata": {},
     "output_type": "execute_result"
    }
   ],
   "source": [
    "len(poem)"
   ]
  },
  {
   "cell_type": "markdown",
   "metadata": {},
   "source": [
    "先頭はAllになっているか。\n",
    "\n",
    "例："
   ]
  },
  {
   "cell_type": "code",
   "execution_count": 79,
   "metadata": {},
   "outputs": [
    {
     "data": {
      "text/plain": [
       "True"
      ]
     },
     "execution_count": 79,
     "metadata": {},
     "output_type": "execute_result"
    }
   ],
   "source": [
    "poem.startswith('All')"
   ]
  },
  {
   "cell_type": "markdown",
   "metadata": {},
   "source": [
    "末尾は、That's all, folks!になっているか。\n",
    "\n",
    "例："
   ]
  },
  {
   "cell_type": "code",
   "execution_count": 80,
   "metadata": {},
   "outputs": [
    {
     "data": {
      "text/plain": [
       "False"
      ]
     },
     "execution_count": 80,
     "metadata": {},
     "output_type": "execute_result"
    }
   ],
   "source": [
    "poem.endswith('Tha\\'s all, folks!')"
   ]
  },
  {
   "cell_type": "markdown",
   "metadata": {},
   "source": [
    "詩のなかでtheという単語が最初に現れる箇所のオフセットを調べる。\n",
    "\n",
    "例："
   ]
  },
  {
   "cell_type": "code",
   "execution_count": 81,
   "metadata": {},
   "outputs": [
    {
     "data": {
      "image/png": "[encoded data removed]",
      "text/plain": [
       "73"
      ]
     },
     "execution_count": 81,
     "metadata": {},
     "output_type": "execute_result"
    }
   ],
   "source": [
    "word = 'the'\n",
    "poem.find(word)"
   ]
  },
  {
   "cell_type": "markdown",
   "metadata": {},
   "source": [
    "最後にtheという単語が現れる箇所のオフセットを調べる。\n",
    "\n",
    "例："
   ]
  },
  {
   "cell_type": "code",
   "execution_count": 83,
   "metadata": {},
   "outputs": [
    {
     "data": {
      "image/png": "[encoded data removed]",
      "text/plain": [
       "214"
      ]
     },
     "execution_count": 83,
     "metadata": {},
     "output_type": "execute_result"
    }
   ],
   "source": [
    "poem.rfind(word)"
   ]
  },
  {
   "cell_type": "markdown",
   "metadata": {},
   "source": [
    "theという3文字のシーケンスは全部で何回現れているか。\n",
    "\n",
    "例："
   ]
  },
  {
   "cell_type": "code",
   "execution_count": 85,
   "metadata": {},
   "outputs": [
    {
     "data": {
      "image/png": "[encoded data removed]",
      "text/plain": [
       "3"
      ]
     },
     "execution_count": 85,
     "metadata": {},
     "output_type": "execute_result"
    }
   ],
   "source": [
    "poem.count(word)"
   ]
  },
  {
   "cell_type": "markdown",
   "metadata": {},
   "source": [
    "この詩に含まれる文字はすべて英字か数字になっているか。\n",
    "\n",
    "例："
   ]
  },
  {
   "cell_type": "code",
   "execution_count": 86,
   "metadata": {},
   "outputs": [
    {
     "data": {
      "text/plain": [
       "False"
      ]
     },
     "execution_count": 86,
     "metadata": {},
     "output_type": "execute_result"
    }
   ],
   "source": [
    "poem.isalnum()"
   ]
  },
  {
   "cell_type": "markdown",
   "metadata": {},
   "source": [
    "記号も使われているので、英数字だけではない。"
   ]
  },
  {
   "cell_type": "markdown",
   "metadata": {},
   "source": [
    "### 2.3.12 大文字と小文字の区別、配置\n",
    "---\n",
    "この節では、組み込み文字列関数の使い方を見ていく。テストの素材となるの文字列は、次の通りだ。\n",
    "\n",
    "例："
   ]
  },
  {
   "cell_type": "code",
   "execution_count": 87,
   "metadata": {},
   "outputs": [],
   "source": [
    "setup = 'a duck goes into a bar...'"
   ]
  },
  {
   "cell_type": "markdown",
   "metadata": {},
   "source": [
    "両端から.のシーケンスを取り除く。\n",
    "\n",
    "例："
   ]
  },
  {
   "cell_type": "code",
   "execution_count": 88,
   "metadata": {},
   "outputs": [
    {
     "data": {
      "text/plain": [
       "'a duck goes into a bar'"
      ]
     },
     "execution_count": 88,
     "metadata": {},
     "output_type": "execute_result"
    }
   ],
   "source": [
    "setup.strip('.')"
   ]
  },
  {
   "cell_type": "markdown",
   "metadata": {},
   "source": [
    "先頭の単語をタイトルケース（先頭文字だけ大文字）にする。\n",
    "\n",
    "例："
   ]
  },
  {
   "cell_type": "code",
   "execution_count": 90,
   "metadata": {},
   "outputs": [
    {
     "data": {
      "text/plain": [
       "'A duck goes into a bar...'"
      ]
     },
     "execution_count": 90,
     "metadata": {},
     "output_type": "execute_result"
    }
   ],
   "source": [
    "setup.capitalize()"
   ]
  },
  {
   "cell_type": "markdown",
   "metadata": {},
   "source": [
    "すべての単語をタイトルケースにする。\n",
    "\n",
    "例："
   ]
  },
  {
   "cell_type": "code",
   "execution_count": 91,
   "metadata": {},
   "outputs": [
    {
     "data": {
      "text/plain": [
       "'A Duck Goes Into A Bar...'"
      ]
     },
     "execution_count": 91,
     "metadata": {},
     "output_type": "execute_result"
    }
   ],
   "source": [
    "setup.title()"
   ]
  },
  {
   "cell_type": "markdown",
   "metadata": {},
   "source": [
    "すべての文字を大文字にする。\n",
    "\n",
    "例："
   ]
  },
  {
   "cell_type": "code",
   "execution_count": 92,
   "metadata": {},
   "outputs": [
    {
     "data": {
      "text/plain": [
       "'A DUCK GOES INTO A BAR...'"
      ]
     },
     "execution_count": 92,
     "metadata": {},
     "output_type": "execute_result"
    }
   ],
   "source": [
    "setup.upper()"
   ]
  },
  {
   "cell_type": "markdown",
   "metadata": {},
   "source": [
    "すべての文字を小文字にする。\n",
    "\n",
    "例："
   ]
  },
  {
   "cell_type": "code",
   "execution_count": 93,
   "metadata": {},
   "outputs": [
    {
     "data": {
      "text/plain": [
       "'a duck goes into a bar...'"
      ]
     },
     "execution_count": 93,
     "metadata": {},
     "output_type": "execute_result"
    }
   ],
   "source": [
    "setup.lower()"
   ]
  },
  {
   "cell_type": "markdown",
   "metadata": {},
   "source": [
    "大文字小文字を逆にする。\n",
    "\n",
    "例："
   ]
  },
  {
   "cell_type": "code",
   "execution_count": 94,
   "metadata": {},
   "outputs": [
    {
     "data": {
      "text/plain": [
       "'A DUCK GOES INTO A BAR...'"
      ]
     },
     "execution_count": 94,
     "metadata": {},
     "output_type": "execute_result"
    }
   ],
   "source": [
    "setup.swapcase()"
   ]
  },
  {
   "cell_type": "markdown",
   "metadata": {},
   "source": [
    "文字列のレイアウトを操作する関数を使ってみる。これらの関数は、指定したスペース（ここでは30）のなかで文字列をどのように配置するか決める。\n",
    "\n",
    "30字分のスペースの中央に文字列を配置する。\n",
    "\n",
    "例："
   ]
  },
  {
   "cell_type": "code",
   "execution_count": 95,
   "metadata": {},
   "outputs": [
    {
     "data": {
      "text/plain": [
       "'  a duck goes into a bar...   '"
      ]
     },
     "execution_count": 95,
     "metadata": {},
     "output_type": "execute_result"
    }
   ],
   "source": [
    "setup.center(30)"
   ]
  },
  {
   "cell_type": "markdown",
   "metadata": {},
   "source": [
    "30字分のスペースの左端に文字列を配置する。\n",
    "\n",
    "例："
   ]
  },
  {
   "cell_type": "code",
   "execution_count": 96,
   "metadata": {},
   "outputs": [
    {
     "data": {
      "text/plain": [
       "'a duck goes into a bar...     '"
      ]
     },
     "execution_count": 96,
     "metadata": {},
     "output_type": "execute_result"
    }
   ],
   "source": [
    "setup.ljust(30)"
   ]
  },
  {
   "cell_type": "markdown",
   "metadata": {},
   "source": [
    "30文字分のスペースの右端に文字列を配置する。\n",
    "\n",
    "例："
   ]
  },
  {
   "cell_type": "code",
   "execution_count": 98,
   "metadata": {},
   "outputs": [
    {
     "data": {
      "text/plain": [
       "'     a duck goes into a bar...'"
      ]
     },
     "execution_count": 98,
     "metadata": {},
     "output_type": "execute_result"
    }
   ],
   "source": [
    "setup.rjust(30)"
   ]
  },
  {
   "cell_type": "markdown",
   "metadata": {},
   "source": [
    "文字列の整形や変換については、%とformat()の使い方などを含め、7章で取り上げる。"
   ]
  },
  {
   "cell_type": "markdown",
   "metadata": {},
   "source": [
    "### 2.3.13 replace()による置換\n",
    "---\n",
    "replace()を使えば、部分文字列を簡単に書き換えられる。書き換え前後の部分文字列と書き換え回数を指定する。最後の回数を省略すると、置換は一度しか行われない。\n",
    "\n",
    "例："
   ]
  },
  {
   "cell_type": "code",
   "execution_count": 99,
   "metadata": {},
   "outputs": [
    {
     "data": {
      "text/plain": [
       "'a marmoset goes into a bar...'"
      ]
     },
     "execution_count": 99,
     "metadata": {},
     "output_type": "execute_result"
    }
   ],
   "source": [
    "setup.replace('duck', 'marmoset')"
   ]
  },
  {
   "cell_type": "markdown",
   "metadata": {},
   "source": [
    "次のようにすると、最高で100回置換できるようになる。\n",
    "\n",
    "例："
   ]
  },
  {
   "cell_type": "code",
   "execution_count": 100,
   "metadata": {},
   "outputs": [
    {
     "data": {
      "text/plain": [
       "'a famous duck goes into a famous bar...'"
      ]
     },
     "execution_count": 100,
     "metadata": {},
     "output_type": "execute_result"
    }
   ],
   "source": [
    "setup.replace('a ', 'a famous ', 100)"
   ]
  },
  {
   "cell_type": "markdown",
   "metadata": {},
   "source": [
    "書き換えたい部分がはっきりしているときには、replace()はよい選択肢だ。しかし、上の例で、'a 'というaの後ろにスペースが続く2字の文字列ではなく'a'という1字の文字列を置換してしまうと、ほかの単語のなかに含まれるaも書き換えてしまう。\n",
    "\n",
    "例："
   ]
  },
  {
   "cell_type": "code",
   "execution_count": 101,
   "metadata": {},
   "outputs": [
    {
     "data": {
      "text/plain": [
       "'a famous duck goes into a famous ba famousr...'"
      ]
     },
     "execution_count": 101,
     "metadata": {},
     "output_type": "execute_result"
    }
   ],
   "source": [
    "setup.replace('a', 'a famous', 100)"
   ]
  },
  {
   "cell_type": "markdown",
   "metadata": {},
   "source": [
    "部分文字列がひとつの単語になっている場合とか、単語の先頭になっている場合といった条件を指定したい場合がある。そのような場合は、7章で詳しく説明する**正規表現**を使う必要がある。"
   ]
  },
  {
   "cell_type": "markdown",
   "metadata": {},
   "source": [
    "### 2.3.14 その他の文字列操作関数\n",
    "---\n",
    "Pythonは、ここに示したものよりもはるかに多くの文字列関数を持っている。一部はあとの章で取り上げるが、全体を見てみたい場合は、[標準ドキュメント](http://bit.ly/py-docs-strings)を見るとよい。"
   ]
  }
 ],
 "metadata": {
  "kernelspec": {
   "display_name": "Python 3",
   "language": "python",
   "name": "python3"
  },
  "language_info": {
   "codemirror_mode": {
    "name": "ipython",
    "version": 3
   },
   "file_extension": ".py",
   "mimetype": "text/x-python",
   "name": "python",
   "nbconvert_exporter": "python",
   "pygments_lexer": "ipython3",
   "version": "3.6.4"
  }
 },
 "nbformat": 4,
 "nbformat_minor": 2
}
