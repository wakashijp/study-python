{
 "cells": [
  {
   "cell_type": "markdown",
   "metadata": {},
   "source": [
    "# 2章 Pyの成分：数値、文字列、変数\n",
    "---\n",
    "この章は、Pythonのもっとも単純な組み込みデータ型を学ぶ。\n",
    "\n",
    "- ブール値（TrueまたはFalseの値を持つ）\n",
    "- 整数（42、100000000などの小数点以下がない数値）\n",
    "- 浮動小数点（3.14159のように小数点以下の部分がある数値、あるいは、10e8のような指数表現。10e8は10の8乗という意味で、100000000.0を意味する）\n",
    "- 文字列（文字の並び）\n"
   ]
  },
  {
   "cell_type": "markdown",
   "metadata": {},
   "source": [
    "## 2.1 変数、名前、オブジェクト\n",
    "---\n",
    "Pythonでは、すべて（ブール値、整数、浮動小数点、文字列、もっと大きなデータ構造、関数、プログラム）が**オブジェクト**として実装されている。そのおかげで、Pythonには、ほかの言語にはないような一貫性（と便利な機能）がある。\n",
    "\n",
    "オブジェクトは、データを入れてある透明なプラスチックボックスのようなものだ。オブジェクトには、ブール値、整数などの**データ型**があり（単純に型と呼ぶこともある）、そのデータで何が出来るかは型によって決まる。実際の箱に「陶器」と書かれていれば、そこからある程度のことは分かる（たぶん重い、床に落としてはならないなど）。同様に、Pythonでオブジェクトにintという型が付けられていたら、それは他のintに足すことができるということが分かる。\n",
    "\n",
    "型は、ボックスに入っているデータの**値**を変更できるか（**ミュータブル**）変更できないか（**イミュータブル**）も決める。イミュータブルなオブジェクトは、密閉されているが透明な窓が付いている箱のようなものだ。値を見ることはできるが、書き換えることはできない。同じ喩えを使うと、ミュータブルなオブジェクトは、開いている箱で、なかの値を見られるだけでなく、書き換えることもできる。しかし、オブジェクトのデータ型を変えることは出来ない。\n",
    "\n",
    "Pythonは、**強く片付け**されている。これは、値がミュータブルでも、オブジェクトの型は変わらないという意味だ。\n",
    "\n",
    "プログラミング言語は、**変数**を定義出来るようになっている。変数とは、コンピュータのメモリのなかにある値を指す名前のことで、プログラムのなかで定義出来る。\n",
    "\n",
    "Pythonでは、=を使って変数に値を**代入**する。"
   ]
  },
  {
   "cell_type": "markdown",
   "metadata": {},
   "source": [
    "例：  \n",
    "aという名前の変数に整数値7を代入してから、現在aに与えられている値を表示する2行のPythonプログラム"
   ]
  },
  {
   "cell_type": "code",
   "execution_count": 2,
   "metadata": {},
   "outputs": [
    {
     "name": "stdout",
     "output_type": "stream",
     "text": [
      "7\n"
     ]
    }
   ],
   "source": [
    "a = 7\n",
    "print(a)"
   ]
  },
  {
   "cell_type": "markdown",
   "metadata": {},
   "source": [
    "**変数はただの名前である**。代入したからといって値は**コピーされない**。データを入れているオブジェクトに**名前を付ける**だけである。名前は値自体ではなく値の**参照**である。"
   ]
  },
  {
   "cell_type": "markdown",
   "metadata": {},
   "source": [
    "検証：\n",
    "1. 以前と同じように7という値にaという名前を与える。すると、整数値7を入れたオブジェクトの箱が作られる。\n",
    "1. aの値を出力する\n",
    "1. bにaを代入し、7が入っているオブジェクトの箱にbも貼り付ける。\n",
    "1. bの値を出力する。"
   ]
  },
  {
   "cell_type": "code",
   "execution_count": 3,
   "metadata": {},
   "outputs": [
    {
     "name": "stdout",
     "output_type": "stream",
     "text": [
      "7\n"
     ]
    }
   ],
   "source": [
    "a = 7\n",
    "print(a)"
   ]
  },
  {
   "cell_type": "code",
   "execution_count": 5,
   "metadata": {},
   "outputs": [
    {
     "name": "stdout",
     "output_type": "stream",
     "text": [
      "7\n"
     ]
    }
   ],
   "source": [
    "b = a\n",
    "print(b)"
   ]
  },
  {
   "cell_type": "markdown",
   "metadata": {},
   "source": [
    "Pythonでなにか（変数やリテラル値）の型がどうなっているのか知りたいときには、type(thing)を使う。"
   ]
  },
  {
   "cell_type": "markdown",
   "metadata": {},
   "source": [
    "例：  \n",
    "type(thing)を使い、さまざまなリテラル値（58, 99.9, abc）と変数（a, b）の型を確認する。"
   ]
  },
  {
   "cell_type": "code",
   "execution_count": 6,
   "metadata": {},
   "outputs": [
    {
     "data": {
      "text/plain": [
       "int"
      ]
     },
     "execution_count": 6,
     "metadata": {},
     "output_type": "execute_result"
    }
   ],
   "source": [
    "type(a)"
   ]
  },
  {
   "cell_type": "code",
   "execution_count": 7,
   "metadata": {},
   "outputs": [
    {
     "data": {
      "text/plain": [
       "int"
      ]
     },
     "execution_count": 7,
     "metadata": {},
     "output_type": "execute_result"
    }
   ],
   "source": [
    "type(b)"
   ]
  },
  {
   "cell_type": "code",
   "execution_count": 8,
   "metadata": {},
   "outputs": [
    {
     "data": {
      "text/plain": [
       "int"
      ]
     },
     "execution_count": 8,
     "metadata": {},
     "output_type": "execute_result"
    }
   ],
   "source": [
    "type(58)"
   ]
  },
  {
   "cell_type": "code",
   "execution_count": 9,
   "metadata": {},
   "outputs": [
    {
     "data": {
      "text/plain": [
       "float"
      ]
     },
     "execution_count": 9,
     "metadata": {},
     "output_type": "execute_result"
    }
   ],
   "source": [
    "type(99.9)"
   ]
  },
  {
   "cell_type": "code",
   "execution_count": 10,
   "metadata": {},
   "outputs": [
    {
     "data": {
      "text/plain": [
       "str"
      ]
     },
     "execution_count": 10,
     "metadata": {},
     "output_type": "execute_result"
    }
   ],
   "source": [
    "type('abc')"
   ]
  },
  {
   "cell_type": "markdown",
   "metadata": {},
   "source": [
    "**クラス**はオブジェクトの定義だ。Pythonでは、「クラス」と「型」はまったく同じ意味になる。  \n",
    "変数名として使えるのは次の文字だけである。\n",
    "\n",
    "- 小文字の英字(aからzまで）\n",
    "- 大文字の英字（AからZまで）\n",
    "- 数字（0から9まで）\n",
    "- アンダースコア（_）\n",
    "\n",
    "数字は名前の先頭として使えない。また、Pythonは名前の先頭がアンダースコアになっている名前を特別扱いする。"
   ]
  },
  {
   "cell_type": "markdown",
   "metadata": {},
   "source": [
    "例：  \n",
    "有効な名前  \n",
    "\n",
    "- a\n",
    "- a1\n",
    "- a&#95;b&#95;c&#95;&#95;&#95;95\n",
    "- &#95;abc\n",
    "- &#95;la\n",
    "\n",
    "例：  \n",
    "無効な名前\n",
    "\n",
    "- 1\n",
    "- 1a\n",
    "- 1&#95;\n",
    "\n",
    "以下の名前はPythonの**予約語**となっているので、変数名として使うことはできない。\n",
    "\n",
    "|        |          |         |          |        |\n",
    "|:-------|:---------|:--------|:---------|:-------|\n",
    "| False  | class    | finally | is       | return |\n",
    "| None   | continue | for     | lambda   | try    |\n",
    "| True   | def      | from    | nonlocal | while  |\n",
    "| and    | del      | global  | not      | with   |\n",
    "| as     | elif     | if      | or       | yield  |\n",
    "| assert | else     | import  | pass     |        |\n",
    "| break  | except   | in      | raise    |        |\n",
    "\n",
    "これらの単語は、ほかの一部の記号とともに、Pythonの構文を定義するために使われる。"
   ]
  }
 ],
 "metadata": {
  "kernelspec": {
   "display_name": "Python 3",
   "language": "python",
   "name": "python3"
  },
  "language_info": {
   "codemirror_mode": {
    "name": "ipython",
    "version": 3
   },
   "file_extension": ".py",
   "mimetype": "text/x-python",
   "name": "python",
   "nbconvert_exporter": "python",
   "pygments_lexer": "ipython3",
   "version": "3.6.4"
  }
 },
 "nbformat": 4,
 "nbformat_minor": 2
}
